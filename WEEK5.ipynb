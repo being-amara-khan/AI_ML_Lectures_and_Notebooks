{
 "cells": [
  {
   "cell_type": "markdown",
   "metadata": {
    "id": "t9WZ53RaV8JX"
   },
   "source": [
    "## **What is Loop ?**\n",
    "\n",
    "A loop is a programming concept that allows for the **repetition** of a set of **instructions multiple times**."
   ]
  },
  {
   "cell_type": "markdown",
   "metadata": {
    "id": "t-Na5a-utUFb"
   },
   "source": [
    "# **Python - For Loops**\n",
    "A for loop is used for iterating over a sequence (that is either a list, a tuple, a dictionary, a set, or a string).\n",
    "\n",
    "\n",
    "With the for loop we can execute a set of statements, once for each item in a list, tuple, set etc."
   ]
  },
  {
   "cell_type": "code",
   "execution_count": 1,
   "metadata": {
    "colab": {
     "base_uri": "https://localhost:8080/"
    },
    "id": "zexy479nw9Ql",
    "outputId": "2ef34382-8fa1-4c7a-d694-9fc3089f8a5f"
   },
   "outputs": [
    {
     "name": "stdout",
     "output_type": "stream",
     "text": [
      " Hello World\n",
      " Hello World\n",
      " Hello World\n",
      " Hello World\n",
      " Hello World\n",
      " Hello World\n",
      " Hello World\n",
      " Hello World\n",
      " Hello World\n",
      " Hello World\n"
     ]
    }
   ],
   "source": [
    "# print the Hello World using the print statement\n",
    "print(\" Hello World\")\n",
    "print(\" Hello World\")\n",
    "print(\" Hello World\")\n",
    "print(\" Hello World\")\n",
    "print(\" Hello World\")\n",
    "print(\" Hello World\")\n",
    "print(\" Hello World\")\n",
    "print(\" Hello World\")\n",
    "print(\" Hello World\")\n",
    "print(\" Hello World\")"
   ]
  },
  {
   "cell_type": "code",
   "execution_count": 6,
   "metadata": {},
   "outputs": [
    {
     "name": "stdout",
     "output_type": "stream",
     "text": [
      "Saadat 4\n",
      "Saadat 6\n",
      "Saadat 8\n"
     ]
    }
   ],
   "source": [
    "name = \"Saadat\"\n",
    "for i in range(4,10,2):\n",
    "    print(name,i)"
   ]
  },
  {
   "cell_type": "code",
   "execution_count": 3,
   "metadata": {
    "colab": {
     "base_uri": "https://localhost:8080/"
    },
    "id": "H3ypaLK_wfl4",
    "outputId": "858464a0-fd09-4300-c3f1-7e62d197f5a2"
   },
   "outputs": [
    {
     "name": "stdout",
     "output_type": "stream",
     "text": [
      "Hello World 0\n",
      "Hello Pakistan\n",
      "Hello World 1\n",
      "Hello Pakistan\n",
      "Hello World 2\n",
      "Hello Pakistan\n",
      "Hello World 3\n",
      "Hello Pakistan\n",
      "Hello World 4\n",
      "Hello Pakistan\n",
      "Hello World 5\n",
      "Hello Pakistan\n",
      "Hello World 6\n",
      "Hello Pakistan\n",
      "Hello World 7\n",
      "Hello Pakistan\n",
      "Hello World 8\n",
      "Hello Pakistan\n",
      "Hello World 9\n",
      "Hello Pakistan\n"
     ]
    }
   ],
   "source": [
    "# print the string specific number of times\n",
    "for i in range(10):\n",
    "  print(\"Hello World\",i)\n",
    "  print(\"Hello Pakistan\")"
   ]
  },
  {
   "cell_type": "code",
   "execution_count": 4,
   "metadata": {
    "colab": {
     "base_uri": "https://localhost:8080/"
    },
    "id": "hwXKXwY_tZib",
    "outputId": "07c9d6f6-3f88-48a4-b05b-81c5b2412597"
   },
   "outputs": [
    {
     "name": "stdout",
     "output_type": "stream",
     "text": [
      "apple\n",
      "banana\n",
      "cherry\n"
     ]
    }
   ],
   "source": [
    "# Print each fruit in a fruit list:\n",
    "fruits = [\"apple\", \"banana\", \"cherry\"]\n",
    "for i in fruits:\n",
    "  print(i)"
   ]
  },
  {
   "cell_type": "code",
   "execution_count": 11,
   "metadata": {},
   "outputs": [
    {
     "name": "stdout",
     "output_type": "stream",
     "text": [
      "apple\n",
      "banana\n",
      "cherry\n"
     ]
    }
   ],
   "source": [
    "# Print each fruit in a fruit list:\n",
    "fruits = [\"apple\", \"banana\", \"cherry\"]\n",
    "for i in range(len(fruits)):\n",
    "  print(fruits[i])"
   ]
  },
  {
   "cell_type": "code",
   "execution_count": 12,
   "metadata": {
    "colab": {
     "base_uri": "https://localhost:8080/"
    },
    "id": "-0D6p-JYXcMO",
    "outputId": "8cfc6015-42d5-4bb6-8266-4df6e091ab01"
   },
   "outputs": [
    {
     "name": "stdout",
     "output_type": "stream",
     "text": [
      "['apple', 'banana', 'cherry']\n"
     ]
    }
   ],
   "source": [
    "# printing the List\n",
    "print(fruits)"
   ]
  },
  {
   "cell_type": "code",
   "execution_count": 5,
   "metadata": {
    "colab": {
     "base_uri": "https://localhost:8080/"
    },
    "id": "LDhDW2S506EM",
    "outputId": "9f357e10-7f30-4196-be2d-a99da3944d33"
   },
   "outputs": [
    {
     "name": "stdout",
     "output_type": "stream",
     "text": [
      "10\n",
      "20\n",
      "30\n",
      "40\n",
      "50\n",
      "60\n"
     ]
    }
   ],
   "source": [
    "# Print each value in a my_list, list:\n",
    "\n",
    "my_list = [10, 20, 30, 40, 50, 60]\n",
    "\n",
    "for i in my_list: #<--- number is a variable, who's scope is limited to the for loop. number can be named anything you'd like\n",
    "    print(i)"
   ]
  },
  {
   "cell_type": "markdown",
   "metadata": {
    "id": "kqaxJJqqwgz9"
   },
   "source": [
    "## **Looping Through a String**\n",
    "Even strings are iterable objects, they contain a sequence of characters:\n",
    "\n",
    "Loop through the letters in the word \"banana\":"
   ]
  },
  {
   "cell_type": "code",
   "execution_count": 13,
   "metadata": {
    "colab": {
     "base_uri": "https://localhost:8080/"
    },
    "id": "XIcJ9JuYwoY9",
    "outputId": "56be36d2-015a-4125-9f89-e2a7f26c95ee"
   },
   "outputs": [
    {
     "name": "stdout",
     "output_type": "stream",
     "text": [
      "b\n",
      "a\n",
      "n\n",
      "a\n",
      "n\n",
      "a\n"
     ]
    }
   ],
   "source": [
    "for i in \"banana\":\n",
    "  print(i)"
   ]
  },
  {
   "cell_type": "markdown",
   "metadata": {
    "id": "cyvjlX4V1ugF"
   },
   "source": [
    "# **The range() function**\n",
    "In most cases, we will want to loop through a predetermined list. However, we can also generate a list to loop over \"on the fly\" with the range() function"
   ]
  },
  {
   "cell_type": "code",
   "execution_count": 6,
   "metadata": {
    "colab": {
     "base_uri": "https://localhost:8080/"
    },
    "id": "iNY8bbYu12CH",
    "outputId": "971fba76-e096-4479-c61b-fba7c3fba7dc"
   },
   "outputs": [
    {
     "name": "stdout",
     "output_type": "stream",
     "text": [
      "0\n",
      "1\n",
      "2\n",
      "3\n",
      "4\n",
      "5\n",
      "6\n",
      "7\n"
     ]
    }
   ],
   "source": [
    "for i in range(8):\n",
    "    print(i)"
   ]
  },
  {
   "cell_type": "code",
   "execution_count": 7,
   "metadata": {
    "colab": {
     "base_uri": "https://localhost:8080/"
    },
    "id": "I9LT4_v3cMK3",
    "outputId": "1c54742e-6e76-4f2f-c363-2ba815872c7d"
   },
   "outputs": [
    {
     "name": "stdout",
     "output_type": "stream",
     "text": [
      "1\n",
      "2\n",
      "3\n",
      "4\n",
      "5\n"
     ]
    }
   ],
   "source": [
    "# Printing Numbers\n",
    "for num in range(1, 6):\n",
    "    print(num)\n"
   ]
  },
  {
   "cell_type": "code",
   "execution_count": 8,
   "metadata": {
    "colab": {
     "base_uri": "https://localhost:8080/"
    },
    "id": "aHNcyBWH2Z4d",
    "outputId": "13c61e59-11e1-4733-9004-89106ec2aa63"
   },
   "outputs": [
    {
     "name": "stdout",
     "output_type": "stream",
     "text": [
      "0 10\n",
      "1 20\n",
      "2 30\n",
      "3 40\n",
      "4 50\n",
      "5 60\n"
     ]
    }
   ],
   "source": [
    "# Using the For  loop to print the Items of list and their index\n",
    "my_list = [10, 20, 30, 40, 50, 60]\n",
    "for i in range(len(my_list)):\n",
    "    print(i, my_list[i])"
   ]
  },
  {
   "cell_type": "code",
   "execution_count": 17,
   "metadata": {
    "colab": {
     "base_uri": "https://localhost:8080/"
    },
    "id": "ztiZR0XzUkj5",
    "outputId": "9278ee05-b703-4372-b723-a16a15429dd6"
   },
   "outputs": [
    {
     "name": "stdout",
     "output_type": "stream",
     "text": [
      "0 apple\n",
      "1 banana\n",
      "2 cherry\n"
     ]
    }
   ],
   "source": [
    "for i in range(len(fruits)):\n",
    "  print(i,fruits[i])"
   ]
  },
  {
   "cell_type": "code",
   "execution_count": 18,
   "metadata": {
    "colab": {
     "base_uri": "https://localhost:8080/"
    },
    "id": "94sOpJe02GOV",
    "outputId": "bf994a69-bd41-4f02-e092-0bba132e01c3"
   },
   "outputs": [
    {
     "data": {
      "text/plain": [
       "6"
      ]
     },
     "execution_count": 18,
     "metadata": {},
     "output_type": "execute_result"
    }
   ],
   "source": [
    "# Getting the Length of List using the len() function\n",
    "my_list = [10, 20, 30, 40, 50, 60]\n",
    "len(my_list)\n"
   ]
  },
  {
   "cell_type": "markdown",
   "metadata": {
    "id": "DcUI_oav-9Yw"
   },
   "source": [
    "## **Looping through a dictionary**\n",
    "keys()\n",
    "You can step through the keys of a dictionary."
   ]
  },
  {
   "cell_type": "code",
   "execution_count": 9,
   "metadata": {
    "colab": {
     "base_uri": "https://localhost:8080/"
    },
    "id": "0XpFhBHV_Ca3",
    "outputId": "b091b546-e10e-4603-b8de-f2fd0df8bec1"
   },
   "outputs": [
    {
     "name": "stdout",
     "output_type": "stream",
     "text": [
      "Ford\n",
      "Mustang\n",
      "2020\n"
     ]
    }
   ],
   "source": [
    "# printing the values from the Dictionary\n",
    "my_dict = { \"brand\": \"Ford\",  \"model\": \"Mustang\",  \"year\": 1964,  \"year\": 2020}\n",
    "\n",
    "for i in my_dict.values():\n",
    "    print(i)"
   ]
  },
  {
   "cell_type": "code",
   "execution_count": 14,
   "metadata": {},
   "outputs": [
    {
     "name": "stdin",
     "output_type": "stream",
     "text": [
      "How many times you want to enter input 3\n",
      "Please enter the value you want to store in list Aun\n",
      "Please enter the value you want to store in list ABC\n",
      "Please enter the value you want to store in list XYZ\n"
     ]
    },
    {
     "name": "stdout",
     "output_type": "stream",
     "text": [
      "['Aun', 'ABC', 'XYZ']\n"
     ]
    }
   ],
   "source": [
    "Name = []\n",
    "value = int(input(\"How many times you want to enter input\"))\n",
    "for i in range(value):\n",
    "    Name.append(input(\"Please enter the value you want to store in list\"))\n",
    "print(Name)"
   ]
  },
  {
   "cell_type": "code",
   "execution_count": 10,
   "metadata": {
    "colab": {
     "base_uri": "https://localhost:8080/"
    },
    "id": "H6hmyGsr2qru",
    "outputId": "4a3947a2-b112-4f0f-d5aa-fcab9c1b5928"
   },
   "outputs": [
    {
     "name": "stdout",
     "output_type": "stream",
     "text": [
      "brand\n",
      "model\n",
      "year\n"
     ]
    }
   ],
   "source": [
    "# printing the keys from the dictionary\n",
    "my_dict = { \"brand\": \"Ford\",  \"model\": \"Mustang\",  \"year\": 1964,  \"year\": 2020}\n",
    "\n",
    "for key in my_dict.keys():\n",
    "    print(key)"
   ]
  },
  {
   "cell_type": "code",
   "execution_count": 11,
   "metadata": {},
   "outputs": [
    {
     "data": {
      "text/plain": [
       "['__class__',\n",
       " '__class_getitem__',\n",
       " '__contains__',\n",
       " '__delattr__',\n",
       " '__delitem__',\n",
       " '__dir__',\n",
       " '__doc__',\n",
       " '__eq__',\n",
       " '__format__',\n",
       " '__ge__',\n",
       " '__getattribute__',\n",
       " '__getitem__',\n",
       " '__getstate__',\n",
       " '__gt__',\n",
       " '__hash__',\n",
       " '__init__',\n",
       " '__init_subclass__',\n",
       " '__ior__',\n",
       " '__iter__',\n",
       " '__le__',\n",
       " '__len__',\n",
       " '__lt__',\n",
       " '__ne__',\n",
       " '__new__',\n",
       " '__or__',\n",
       " '__reduce__',\n",
       " '__reduce_ex__',\n",
       " '__repr__',\n",
       " '__reversed__',\n",
       " '__ror__',\n",
       " '__setattr__',\n",
       " '__setitem__',\n",
       " '__sizeof__',\n",
       " '__str__',\n",
       " '__subclasshook__',\n",
       " 'clear',\n",
       " 'copy',\n",
       " 'fromkeys',\n",
       " 'get',\n",
       " 'items',\n",
       " 'keys',\n",
       " 'pop',\n",
       " 'popitem',\n",
       " 'setdefault',\n",
       " 'update',\n",
       " 'values']"
      ]
     },
     "execution_count": 11,
     "metadata": {},
     "output_type": "execute_result"
    }
   ],
   "source": [
    "dir(my_dict)"
   ]
  },
  {
   "cell_type": "code",
   "execution_count": 16,
   "metadata": {},
   "outputs": [
    {
     "name": "stdout",
     "output_type": "stream",
     "text": [
      "('brand', 'Ford')\n",
      "('model', 'Mustang')\n",
      "('year', 2020)\n"
     ]
    }
   ],
   "source": [
    "my_dict = { \"brand\": \"Ford\",  \"model\": \"Mustang\",  \"year\": 1964,  \"year\": 2020}\n",
    "\n",
    "for i in my_dict.items():\n",
    "    print(i)"
   ]
  },
  {
   "cell_type": "code",
   "execution_count": 24,
   "metadata": {
    "colab": {
     "base_uri": "https://localhost:8080/"
    },
    "id": "RL0a5B1UfU7g",
    "outputId": "07435405-ed43-4f53-9224-36426cafeccd"
   },
   "outputs": [
    {
     "name": "stdout",
     "output_type": "stream",
     "text": [
      "number is even. 2\n",
      "number is even. 4\n",
      "number is even. 6\n",
      "number is even. 8\n",
      "number is even. 10\n"
     ]
    }
   ],
   "source": [
    "# Finding Even Numbers\n",
    "numbers = [1, 2, 3, 4, 5, 6, 7, 8, 9, 10]\n",
    "\n",
    "for i in numbers:\n",
    "    if i % 2 == 0:\n",
    "        print(\"number is even.\", i)\n"
   ]
  },
  {
   "cell_type": "code",
   "execution_count": 13,
   "metadata": {},
   "outputs": [],
   "source": [
    "vehicle = { \"brand\": [\"Ford\",\"Toyota\",\"BMW\",\"Dodge CHarger\"],  \"model\": \"Mustang\",  \"year\": 2020}"
   ]
  },
  {
   "cell_type": "code",
   "execution_count": 17,
   "metadata": {},
   "outputs": [
    {
     "name": "stdout",
     "output_type": "stream",
     "text": [
      "Toyota\n"
     ]
    }
   ],
   "source": [
    "print(vehicle[\"brand\"][1])"
   ]
  },
  {
   "cell_type": "code",
   "execution_count": 19,
   "metadata": {},
   "outputs": [],
   "source": [
    "Section = {'Name':'B', \n",
    "           'Student':{'Name':['Talha','Aun','Saadat','Mohsin']},\n",
    "          'Strength':40}"
   ]
  },
  {
   "cell_type": "code",
   "execution_count": 22,
   "metadata": {},
   "outputs": [
    {
     "data": {
      "text/plain": [
       "'Mohsin'"
      ]
     },
     "execution_count": 22,
     "metadata": {},
     "output_type": "execute_result"
    }
   ],
   "source": [
    "Section['Student']['Name'][-1]"
   ]
  },
  {
   "cell_type": "markdown",
   "metadata": {
    "id": "MlfHWNi8_7e3"
   },
   "source": [
    "# **Python While Loops**\n",
    "With the while loop we can execute a set of statements as long as a condition is true."
   ]
  },
  {
   "cell_type": "code",
   "execution_count": 23,
   "metadata": {
    "colab": {
     "base_uri": "https://localhost:8080/"
    },
    "id": "zncW2ay7AFww",
    "outputId": "a8fd57a0-8902-42ae-d1b6-944efa8974c2"
   },
   "outputs": [
    {
     "name": "stdout",
     "output_type": "stream",
     "text": [
      "1\n",
      "2\n",
      "3\n",
      "4\n",
      "5\n",
      "6\n",
      "7\n",
      "8\n",
      "9\n",
      "10\n",
      "11\n",
      "12\n",
      "13\n",
      "14\n",
      "15\n",
      "16\n",
      "17\n",
      "18\n",
      "19\n",
      "20\n",
      "21\n",
      "22\n",
      "23\n",
      "24\n",
      "25\n",
      "26\n",
      "27\n",
      "28\n",
      "29\n",
      "30\n",
      "31\n",
      "32\n",
      "33\n",
      "34\n",
      "35\n",
      "36\n",
      "37\n",
      "38\n",
      "39\n",
      "40\n",
      "41\n",
      "42\n",
      "43\n",
      "44\n",
      "45\n",
      "46\n",
      "47\n",
      "48\n",
      "49\n",
      "50\n",
      "51\n",
      "52\n",
      "53\n",
      "54\n",
      "55\n",
      "56\n",
      "57\n",
      "58\n",
      "59\n",
      "60\n"
     ]
    }
   ],
   "source": [
    "# Print i as long as i is less than 60:\n",
    "i = 1\n",
    "while i <= 60:\n",
    "  print(i)\n",
    "  i = i + 1"
   ]
  },
  {
   "cell_type": "code",
   "execution_count": 24,
   "metadata": {
    "colab": {
     "base_uri": "https://localhost:8080/"
    },
    "id": "jOMEftBJZJrv",
    "outputId": "3cd68409-9ebd-46c2-a819-603c84efee19"
   },
   "outputs": [
    {
     "name": "stdout",
     "output_type": "stream",
     "text": [
      "Print hello 0\n",
      "Print hello 1\n",
      "Print hello 2\n"
     ]
    }
   ],
   "source": [
    "# while loop\n",
    "count = 0\n",
    "while (count < 3):\n",
    "\tprint(\"Print hello\", count)\n",
    "\tcount = count + 1\n"
   ]
  },
  {
   "cell_type": "code",
   "execution_count": 27,
   "metadata": {},
   "outputs": [
    {
     "name": "stdin",
     "output_type": "stream",
     "text": [
      "Enter Your Name: 97\n"
     ]
    },
    {
     "name": "stdout",
     "output_type": "stream",
     "text": [
      "97\n",
      "<class 'int'>\n"
     ]
    }
   ],
   "source": [
    "name = input(\"Enter Your Name:\")\n",
    "name = int(name)\n",
    "print(name)\n",
    "print(type(name))"
   ]
  },
  {
   "cell_type": "code",
   "execution_count": 28,
   "metadata": {},
   "outputs": [
    {
     "name": "stdin",
     "output_type": "stream",
     "text": [
      "Enter Your Name: hj\n"
     ]
    },
    {
     "ename": "ValueError",
     "evalue": "invalid literal for int() with base 10: 'hj'",
     "output_type": "error",
     "traceback": [
      "\u001b[1;31m---------------------------------------------------------------------------\u001b[0m",
      "\u001b[1;31mValueError\u001b[0m                                Traceback (most recent call last)",
      "Cell \u001b[1;32mIn[28], line 1\u001b[0m\n\u001b[1;32m----> 1\u001b[0m age \u001b[38;5;241m=\u001b[39m \u001b[38;5;28mint\u001b[39m(\u001b[38;5;28minput\u001b[39m(\u001b[38;5;124m\"\u001b[39m\u001b[38;5;124mEnter Your Name:\u001b[39m\u001b[38;5;124m\"\u001b[39m))\n\u001b[0;32m      2\u001b[0m \u001b[38;5;28mprint\u001b[39m(age)\n\u001b[0;32m      3\u001b[0m \u001b[38;5;28mprint\u001b[39m(\u001b[38;5;28mtype\u001b[39m(age))\n",
      "\u001b[1;31mValueError\u001b[0m: invalid literal for int() with base 10: 'hj'"
     ]
    }
   ],
   "source": [
    "age = int(input(\"Enter Your Name:\"))\n",
    "print(age)\n",
    "print(type(age))"
   ]
  },
  {
   "cell_type": "code",
   "execution_count": 29,
   "metadata": {
    "colab": {
     "base_uri": "https://localhost:8080/"
    },
    "id": "jspGLbuhbeC_",
    "outputId": "7283563c-9734-4bee-a79c-4544d75aea43"
   },
   "outputs": [
    {
     "name": "stdin",
     "output_type": "stream",
     "text": [
      "Enter the password:  dyd\n"
     ]
    },
    {
     "name": "stdout",
     "output_type": "stream",
     "text": [
      "Access denied!\n"
     ]
    },
    {
     "name": "stdin",
     "output_type": "stream",
     "text": [
      "Enter the password:  gjg\n"
     ]
    },
    {
     "name": "stdout",
     "output_type": "stream",
     "text": [
      "Access denied!\n"
     ]
    },
    {
     "name": "stdin",
     "output_type": "stream",
     "text": [
      "Enter the password:  husnain96\n"
     ]
    },
    {
     "name": "stdout",
     "output_type": "stream",
     "text": [
      "Access granted!\n"
     ]
    }
   ],
   "source": [
    "# User Input Validation\n",
    "password = \"\"\n",
    "while password != \"husnain96\":\n",
    "    password = input(\"Enter the password: \")\n",
    "    if password == \"husnain96\":\n",
    "        print(\"Access granted!\")\n",
    "    else:\n",
    "        print(\"Access denied!\")\n"
   ]
  },
  {
   "cell_type": "code",
   "execution_count": 30,
   "metadata": {
    "colab": {
     "base_uri": "https://localhost:8080/"
    },
    "id": "6AF-zjg7bwb4",
    "outputId": "e70695fe-7172-4251-f097-36eb100de6fa"
   },
   "outputs": [
    {
     "name": "stdout",
     "output_type": "stream",
     "text": [
      "The sum is: 55\n"
     ]
    }
   ],
   "source": [
    "# Summing Numbers\n",
    "total = 0\n",
    "num = 1\n",
    "while num <= 10:\n",
    "    total = total + num\n",
    "    num = num + 1\n",
    "print(\"The sum is:\", total)\n"
   ]
  },
  {
   "cell_type": "markdown",
   "metadata": {},
   "source": [
    "# Nested Loop"
   ]
  },
  {
   "cell_type": "code",
   "execution_count": 34,
   "metadata": {},
   "outputs": [
    {
     "name": "stdout",
     "output_type": "stream",
     "text": [
      "Even Numbers:  [2, 4, 6, 8, 10]\n"
     ]
    }
   ],
   "source": [
    "even_num = [ ]\n",
    "for item in range(1, 11):\n",
    "    while item % 2 == 0:\n",
    "        even_num.append(item)\n",
    "        break\n",
    "print(\"Even Numbers: \", even_num)\n"
   ]
  },
  {
   "cell_type": "code",
   "execution_count": 35,
   "metadata": {},
   "outputs": [
    {
     "name": "stdout",
     "output_type": "stream",
     "text": [
      "1\n",
      "2\n",
      "3\n",
      "4\n"
     ]
    }
   ],
   "source": [
    "for i in range(1,11):\n",
    "    if i == 5:\n",
    "        break\n",
    "    print(i)"
   ]
  },
  {
   "cell_type": "code",
   "execution_count": 36,
   "metadata": {},
   "outputs": [
    {
     "name": "stdout",
     "output_type": "stream",
     "text": [
      "1\n",
      "2\n",
      "3\n",
      "4\n",
      "6\n",
      "7\n",
      "8\n",
      "9\n",
      "10\n"
     ]
    }
   ],
   "source": [
    "for i in range(1,11):\n",
    "    if i == 5:\n",
    "        continue\n",
    "    print(i)"
   ]
  },
  {
   "cell_type": "code",
   "execution_count": 31,
   "metadata": {},
   "outputs": [
    {
     "name": "stdout",
     "output_type": "stream",
     "text": [
      "1\n",
      "2\n",
      "3\n",
      "4\n",
      "5\n",
      "6\n",
      "7\n",
      "8\n",
      "9\n",
      "10\n"
     ]
    }
   ],
   "source": [
    "for i in range(1,11):\n",
    "    if i == 12:\n",
    "        pass\n",
    "    print(i)"
   ]
  },
  {
   "cell_type": "markdown",
   "metadata": {
    "id": "bSolX445B_WH"
   },
   "source": [
    "# **Python Functions**\n",
    "A function is a block of code which only runs when it is called.\n",
    "\n",
    "You can pass data, known as parameters, into a function.\n",
    "\n",
    "A function can return data as a result."
   ]
  },
  {
   "cell_type": "markdown",
   "metadata": {
    "id": "jPYbbjitCEDs"
   },
   "source": [
    "## **Creating a Function**\n",
    "In Python a function is defined using the def keyword:"
   ]
  },
  {
   "cell_type": "code",
   "execution_count": null,
   "metadata": {
    "colab": {
     "base_uri": "https://localhost:8080/",
     "height": 106
    },
    "id": "kB9v1Av3FCwI",
    "outputId": "1ba0932c-23c7-47ae-e4ab-5ba7966075c7"
   },
   "outputs": [],
   "source": [
    "#syntax\n",
    "def function_name():"
   ]
  },
  {
   "cell_type": "code",
   "execution_count": 38,
   "metadata": {
    "id": "Mj8FVwXQCJaM"
   },
   "outputs": [],
   "source": [
    "def my_function():\n",
    "  print(\"Hello from a function\")"
   ]
  },
  {
   "cell_type": "markdown",
   "metadata": {
    "id": "ay7-zPaqCLPd"
   },
   "source": [
    "## **Calling a Function**\n",
    "To call a function, use the function name followed by parenthesis:\n"
   ]
  },
  {
   "cell_type": "code",
   "execution_count": 39,
   "metadata": {
    "colab": {
     "base_uri": "https://localhost:8080/"
    },
    "id": "qfbRVqdrCR8c",
    "outputId": "6a4c02d0-c6d2-4bc6-b287-c372751f3998"
   },
   "outputs": [
    {
     "name": "stdout",
     "output_type": "stream",
     "text": [
      "Hello from a function\n"
     ]
    }
   ],
   "source": [
    "def my_function():\n",
    "  print(\"Hello from a function\")\n",
    "\n",
    "my_function()"
   ]
  },
  {
   "cell_type": "markdown",
   "metadata": {
    "id": "54uQG-YjCVZ0"
   },
   "source": [
    "## **Arguments**\n",
    "Information can be passed into functions as arguments.\n",
    "\n",
    "Arguments are specified after the function name, inside the parentheses. You can add as many arguments as you want, just separate them with a comma.\n",
    "\n",
    "The following example has a function with one argument (fname). When the function is called, we pass along a first name, which is used inside the function to print the full name:"
   ]
  },
  {
   "cell_type": "code",
   "execution_count": 40,
   "metadata": {
    "colab": {
     "base_uri": "https://localhost:8080/"
    },
    "id": "KPo0zvfRChCM",
    "outputId": "32389876-8976-4e6d-945f-1a772943e4cd"
   },
   "outputs": [
    {
     "name": "stdout",
     "output_type": "stream",
     "text": [
      "The sum is: 8\n"
     ]
    }
   ],
   "source": [
    "# Function with Parameters\n",
    "def add_numbers(a, b):\n",
    "    sum = a + b\n",
    "    return sum\n",
    "\n",
    "# Calling the function\n",
    "result = add_numbers(5, 3)\n",
    "print(\"The sum is:\", result)"
   ]
  },
  {
   "cell_type": "code",
   "execution_count": 53,
   "metadata": {},
   "outputs": [
    {
     "name": "stdout",
     "output_type": "stream",
     "text": [
      "The sum is: 8\n"
     ]
    }
   ],
   "source": [
    "# Function with Parameters\n",
    "def add_numbers(a, b=5):\n",
    "    sum = a + b\n",
    "    return sum\n",
    "\n",
    "# Calling the function\n",
    "result = add_numbers(a=3)\n",
    "print(\"The sum is:\", result)"
   ]
  },
  {
   "cell_type": "markdown",
   "metadata": {
    "id": "CP7rr6kWCn18"
   },
   "source": [
    "## **Parameters or Arguments?**\n",
    "The terms parameter and argument can be used for the same thing: information that are passed into a function.\n"
   ]
  },
  {
   "cell_type": "markdown",
   "metadata": {
    "id": "gCRyRMNfCvXt"
   },
   "source": [
    "From a function's perspective:\n",
    "\n",
    "A parameter is the variable listed inside the parentheses in the function definition.\n",
    "\n",
    "An argument is the value that is sent to the function when it is called."
   ]
  },
  {
   "cell_type": "markdown",
   "metadata": {
    "id": "1E76CEL8DiXc"
   },
   "source": [
    "You can send any data types of argument to a function (string, number, list, dictionary etc.), and it will be treated as the same data type inside the function."
   ]
  },
  {
   "cell_type": "markdown",
   "metadata": {
    "id": "M3U1p8sKDmSc"
   },
   "source": [
    "E.g. if you send a List as an argument, it will still be a List when it reaches the function:"
   ]
  },
  {
   "cell_type": "code",
   "execution_count": 54,
   "metadata": {
    "id": "sKcDJKihDoic"
   },
   "outputs": [],
   "source": [
    "def my_function(food):\n",
    "  for x in food:\n",
    "    print(x)\n",
    "\n"
   ]
  },
  {
   "cell_type": "code",
   "execution_count": 55,
   "metadata": {
    "colab": {
     "base_uri": "https://localhost:8080/"
    },
    "id": "EolLg5dunM1v",
    "outputId": "96272b14-684d-4bea-bc9d-99a685c07341"
   },
   "outputs": [
    {
     "name": "stdout",
     "output_type": "stream",
     "text": [
      "apple\n",
      "banana\n",
      "cherry\n"
     ]
    }
   ],
   "source": [
    "fruits = [\"apple\", \"banana\", \"cherry\"]\n",
    "\n",
    "my_function(fruits)"
   ]
  },
  {
   "cell_type": "markdown",
   "metadata": {
    "id": "3CLpgDa9EZEc"
   },
   "source": [
    "## **Return Values**\n",
    "To let a function return a value, use the return statement:"
   ]
  },
  {
   "cell_type": "code",
   "execution_count": 56,
   "metadata": {
    "colab": {
     "base_uri": "https://localhost:8080/"
    },
    "id": "nRil0UgJEfU8",
    "outputId": "cf457456-9040-4fd6-8ca4-a34326d9e5eb"
   },
   "outputs": [
    {
     "name": "stdout",
     "output_type": "stream",
     "text": [
      "15\n",
      "25\n",
      "45\n"
     ]
    }
   ],
   "source": [
    "def my_function(x):\n",
    "  return 5 * x\n",
    "\n",
    "print(my_function(3))\n",
    "print(my_function(5))\n",
    "print(my_function(9))"
   ]
  },
  {
   "cell_type": "code",
   "execution_count": null,
   "metadata": {
    "colab": {
     "base_uri": "https://localhost:8080/"
    },
    "id": "AwlR--Kzer-x",
    "outputId": "fe32fa9a-a071-4eee-ce82-703de0e269ec"
   },
   "outputs": [],
   "source": [
    "# Function with Default Parameter\n",
    "def greet_person(name=\"World\"):\n",
    "    print(\"Hello,\", name)\n",
    "\n",
    "# Calling the function without an argument\n",
    "greet_person()\n",
    "\n",
    "# Calling the function with an argument\n",
    "greet_person(\"Alice\")"
   ]
  },
  {
   "cell_type": "code",
   "execution_count": 57,
   "metadata": {},
   "outputs": [],
   "source": [
    "a = [1,56,76,0,9]\n"
   ]
  },
  {
   "cell_type": "code",
   "execution_count": 58,
   "metadata": {},
   "outputs": [
    {
     "data": {
      "text/plain": [
       "[0, 1, 9, 56, 76]"
      ]
     },
     "execution_count": 58,
     "metadata": {},
     "output_type": "execute_result"
    }
   ],
   "source": [
    "a.sort()\n",
    "a"
   ]
  },
  {
   "cell_type": "code",
   "execution_count": 59,
   "metadata": {},
   "outputs": [
    {
     "data": {
      "text/plain": [
       "[76, 56, 9, 1, 0]"
      ]
     },
     "execution_count": 59,
     "metadata": {},
     "output_type": "execute_result"
    }
   ],
   "source": [
    "a.sort(reverse=True)\n",
    "a"
   ]
  },
  {
   "cell_type": "code",
   "execution_count": 60,
   "metadata": {
    "id": "UIjLsPvSQTJ1"
   },
   "outputs": [],
   "source": [
    "# python program to find Even and Odd Numbers\n",
    "def check_even_odd(num):\n",
    "    if num % 2 == 0:\n",
    "        print(num, \"is even\")\n",
    "    else:\n",
    "        print(num, \"is odd\")\n",
    "\n",
    "\n"
   ]
  },
  {
   "cell_type": "code",
   "execution_count": 61,
   "metadata": {
    "colab": {
     "base_uri": "https://localhost:8080/"
    },
    "id": "MHRr51RcocjO",
    "outputId": "cdc38772-8e14-425e-8092-f6c6b9f68e1c"
   },
   "outputs": [
    {
     "name": "stdout",
     "output_type": "stream",
     "text": [
      "7 is odd\n"
     ]
    }
   ],
   "source": [
    "# Call the function\n",
    "check_even_odd(7)"
   ]
  },
  {
   "cell_type": "code",
   "execution_count": 70,
   "metadata": {
    "id": "YecWXNesQmzU"
   },
   "outputs": [],
   "source": [
    "# Python Program to Count the Number of Words in a String:\n",
    "def count_words(string):\n",
    "    words = string.split()\n",
    "    print(words)\n",
    "    return len(words)\n",
    "\n"
   ]
  },
  {
   "cell_type": "code",
   "execution_count": 71,
   "metadata": {
    "colab": {
     "base_uri": "https://localhost:8080/"
    },
    "id": "-081kRSHo4Nv",
    "outputId": "becee3c0-f55e-4d18-8d54-2c810a6a5793"
   },
   "outputs": [
    {
     "name": "stdout",
     "output_type": "stream",
     "text": [
      "['Python', 'is', 'a', 'popular', 'programming', 'language']\n",
      "Number of words: 6\n"
     ]
    }
   ],
   "source": [
    "# Call the function\n",
    "sentence = \"Python is a popular programming language\"\n",
    "word_count = count_words(sentence)\n",
    "print(\"Number of words:\", word_count)"
   ]
  },
  {
   "cell_type": "code",
   "execution_count": 72,
   "metadata": {},
   "outputs": [
    {
     "data": {
      "text/plain": [
       "['__add__',\n",
       " '__class__',\n",
       " '__contains__',\n",
       " '__delattr__',\n",
       " '__dir__',\n",
       " '__doc__',\n",
       " '__eq__',\n",
       " '__format__',\n",
       " '__ge__',\n",
       " '__getattribute__',\n",
       " '__getitem__',\n",
       " '__getnewargs__',\n",
       " '__getstate__',\n",
       " '__gt__',\n",
       " '__hash__',\n",
       " '__init__',\n",
       " '__init_subclass__',\n",
       " '__iter__',\n",
       " '__le__',\n",
       " '__len__',\n",
       " '__lt__',\n",
       " '__mod__',\n",
       " '__mul__',\n",
       " '__ne__',\n",
       " '__new__',\n",
       " '__reduce__',\n",
       " '__reduce_ex__',\n",
       " '__repr__',\n",
       " '__rmod__',\n",
       " '__rmul__',\n",
       " '__setattr__',\n",
       " '__sizeof__',\n",
       " '__str__',\n",
       " '__subclasshook__',\n",
       " 'capitalize',\n",
       " 'casefold',\n",
       " 'center',\n",
       " 'count',\n",
       " 'encode',\n",
       " 'endswith',\n",
       " 'expandtabs',\n",
       " 'find',\n",
       " 'format',\n",
       " 'format_map',\n",
       " 'index',\n",
       " 'isalnum',\n",
       " 'isalpha',\n",
       " 'isascii',\n",
       " 'isdecimal',\n",
       " 'isdigit',\n",
       " 'isidentifier',\n",
       " 'islower',\n",
       " 'isnumeric',\n",
       " 'isprintable',\n",
       " 'isspace',\n",
       " 'istitle',\n",
       " 'isupper',\n",
       " 'join',\n",
       " 'ljust',\n",
       " 'lower',\n",
       " 'lstrip',\n",
       " 'maketrans',\n",
       " 'partition',\n",
       " 'removeprefix',\n",
       " 'removesuffix',\n",
       " 'replace',\n",
       " 'rfind',\n",
       " 'rindex',\n",
       " 'rjust',\n",
       " 'rpartition',\n",
       " 'rsplit',\n",
       " 'rstrip',\n",
       " 'split',\n",
       " 'splitlines',\n",
       " 'startswith',\n",
       " 'strip',\n",
       " 'swapcase',\n",
       " 'title',\n",
       " 'translate',\n",
       " 'upper',\n",
       " 'zfill']"
      ]
     },
     "execution_count": 72,
     "metadata": {},
     "output_type": "execute_result"
    }
   ],
   "source": [
    "dir(sentence)"
   ]
  },
  {
   "cell_type": "code",
   "execution_count": 75,
   "metadata": {},
   "outputs": [
    {
     "name": "stdout",
     "output_type": "stream",
     "text": [
      "12\n"
     ]
    }
   ],
   "source": [
    "string1 ='Hello Python'\n",
    "print(len(string1))\n"
   ]
  },
  {
   "cell_type": "code",
   "execution_count": 76,
   "metadata": {},
   "outputs": [
    {
     "name": "stdout",
     "output_type": "stream",
     "text": [
      "There are 25 students in a class.\n",
      "She stood up and spoke to the class.\n"
     ]
    }
   ],
   "source": [
    "print('There are %d students in a class.' %25)\n",
    "\n",
    "print('She stood up and %s to the class.' %'spoke')\n"
   ]
  },
  {
   "cell_type": "code",
   "execution_count": 77,
   "metadata": {},
   "outputs": [
    {
     "name": "stdout",
     "output_type": "stream",
     "text": [
      "We all are equal.\n",
      "Read the directions\n",
      "a: 1, b: Two, c: 12.3\n",
      "The first second was alright, but the second second was tough.\n"
     ]
    }
   ],
   "source": [
    "print('We all are {}.'.format('equal'))\n",
    "\n",
    "print('{2} {1} {0}'.format('directions','the', 'Read'))\n",
    "\n",
    "print('a: {a}, b: {b}, c: {c}'.format(a = 1,b = 'Two',c = 12.3))\n",
    "\n",
    "print('The first {p} was alright, but the {p} {p} was tough.'.format(p = 'second'))\n"
   ]
  },
  {
   "cell_type": "code",
   "execution_count": 79,
   "metadata": {},
   "outputs": [
    {
     "name": "stdout",
     "output_type": "stream",
     "text": [
      "My name is Alee.\n",
      "He said his age is 30.\n"
     ]
    }
   ],
   "source": [
    "name = 'Alee'\n",
    "print(f\"My name is {name}.\")\n",
    "\n",
    "a = 5\n",
    "b = 10\n",
    "print(f\"He said his age is {2 * (a + b)}.\")\n"
   ]
  },
  {
   "cell_type": "code",
   "execution_count": null,
   "metadata": {},
   "outputs": [],
   "source": []
  }
 ],
 "metadata": {
  "colab": {
   "provenance": []
  },
  "kernelspec": {
   "display_name": "Python 3 (ipykernel)",
   "language": "python",
   "name": "python3"
  },
  "language_info": {
   "codemirror_mode": {
    "name": "ipython",
    "version": 3
   },
   "file_extension": ".py",
   "mimetype": "text/x-python",
   "name": "python",
   "nbconvert_exporter": "python",
   "pygments_lexer": "ipython3",
   "version": "3.11.7"
  }
 },
 "nbformat": 4,
 "nbformat_minor": 4
}
