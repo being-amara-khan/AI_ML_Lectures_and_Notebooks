{
 "cells": [
  {
   "cell_type": "markdown",
   "metadata": {
    "id": "FxTt-IRzC5vs"
   },
   "source": [
    "# **Breadth-First Search (BFS) and Depth-First Search (DFS) Algorithms**\n"
   ]
  },
  {
   "cell_type": "markdown",
   "metadata": {
    "id": "MGYsM-gUGGnM"
   },
   "source": [
    "## **Introduction**\n",
    "In artificial intelligence (AI), search algorithms play a crucial role in exploring problem spaces and efficiently finding solutions. Breadth-First Search (BFS) and Depth-First Search (DFS) are fundamental uninformed search algorithms used for traversing and searching graph-based structures."
   ]
  },
  {
   "cell_type": "markdown",
   "metadata": {
    "id": "LyJjNy48SqbW"
   },
   "source": [
    "![OIP.jpg](data:image/jpeg;base64,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)"
   ]
  },
  {
   "cell_type": "markdown",
   "metadata": {
    "id": "GOkxJR8DGWkt"
   },
   "source": [
    "## **Understanding Search Algorithms**\n"
   ]
  },
  {
   "cell_type": "markdown",
   "metadata": {
    "id": "PEYHfLVLNBn3"
   },
   "source": [
    "* **Search Problem:** A search problem consists of four elements:\n",
    "\n",
    "     * Initial state: The starting point of the search.\n",
    "     * Operators: Actions that can be taken to transition from one state to another.\n",
    "     * Goal test: A function that determines if a state is the desired solution.\n",
    "     * Cost function (optional): Assigns a cost to applying an operator.\n",
    "* **Uninformed Search Algorithms:** These algorithms explore the search space without prior knowledge of the goal's location. BFS and DFS are examples of uninformed search algorithms."
   ]
  },
  {
   "cell_type": "markdown",
   "metadata": {
    "id": "JiydsHgcBuIv"
   },
   "source": [
    "## **Breath First Search Algorithm**\n"
   ]
  },
  {
   "cell_type": "markdown",
   "metadata": {
    "id": "MknIIt78NFR9"
   },
   "source": [
    "**BFS** systematically explores all neighbor nodes at the current depth level before moving on to nodes at the next depth level. It's particularly useful for finding the shortest path in an unweighted graph or tree.\n",
    "\n",
    "**Key Characteristics of BFS:**\n",
    "* Explores nodes level-by-level (breadth-wise).\n",
    "* Guarantees finding the shortest path in an unweighted graph.\n",
    "* Uses a queue to manage the order of exploration (nodes are explored in the order they are added to the queue).\n",
    "\n"
   ]
  },
  {
   "cell_type": "markdown",
   "metadata": {
    "id": "Y9OOzzL6NIK0"
   },
   "source": [
    "### **Implementation of BFS in Python**"
   ]
  },
  {
   "cell_type": "code",
   "execution_count": 1,
   "metadata": {
    "id": "vBTHWa3PCCJM"
   },
   "outputs": [],
   "source": [
    "def bfs(graph, start, goal):\n",
    "    queue = [(start, [start])]  # Initialize a list with (current node, path)\n",
    "    visited = set()  # Initialize a set to track visited nodes\n",
    "\n",
    "    while queue:\n",
    "        current, path = queue.pop(0)  # Dequeue the current node and its path\n",
    "        if current == goal:\n",
    "            return path  # Return the path if we reach the goal\n",
    "\n",
    "        if current not in visited:\n",
    "            visited.add(current)\n",
    "            for neighbor in graph.get(current, []):\n",
    "                queue.append((neighbor, path + [neighbor]))  # Enqueue neighbor with extended path\n",
    "\n",
    "    return None  # Return None if path to goal is not found\n"
   ]
  },
  {
   "cell_type": "code",
   "execution_count": 2,
   "metadata": {
    "id": "B2mxcZDTPG6I"
   },
   "outputs": [],
   "source": [
    "graph = {\n",
    "    'A': ['B', 'C'],\n",
    "    'B': ['D', 'E'],\n",
    "    'C': ['F'],\n",
    "    'D': [],\n",
    "    'E': ['F'],\n",
    "    'F': []\n",
    "}"
   ]
  },
  {
   "cell_type": "code",
   "execution_count": 3,
   "metadata": {
    "colab": {
     "base_uri": "https://localhost:8080/"
    },
    "id": "nnzvlaWFPMac",
    "outputId": "a6cbb74d-482f-4f21-ba78-0a7e22ee3036"
   },
   "outputs": [
    {
     "name": "stdout",
     "output_type": "stream",
     "text": [
      "Path from 'A' to 'F': A -> C -> F\n"
     ]
    }
   ],
   "source": [
    "start_node = 'A'\n",
    "goal_node = 'F'\n",
    "\n",
    "bfs_path = bfs(graph, start_node, goal_node)\n",
    "\n",
    "if bfs_path:\n",
    "    print(f\"Path from '{start_node}' to '{goal_node}': {' -> '.join(bfs_path)}\")\n",
    "else:\n",
    "    print(f\"Path from '{start_node}' to '{goal_node}' not found.\")"
   ]
  },
  {
   "cell_type": "markdown",
   "metadata": {
    "id": "267L9p5qKWUa"
   },
   "source": [
    "## **Depth First Search Algorithm**"
   ]
  },
  {
   "cell_type": "markdown",
   "metadata": {
    "id": "TEg-XJpHOgM1"
   },
   "source": [
    "**DFS** explores as far as possible along each branch before backtracking. \n",
    "\n",
    "\n",
    "### **Key Characteristics of DFS:**\n",
    "\n",
    "* Explores deeper into a graph before backtracking.\n",
    "* Uses a stack (or recursion) to manage the order of exploration (nodes are explored in the last-in-first-out order).\n",
    "* May not necessarily find the shortest path."
   ]
  },
  {
   "cell_type": "markdown",
   "metadata": {
    "id": "R17W_n6dNRvV"
   },
   "source": [
    "### **Implementation of DFS in Python**"
   ]
  },
  {
   "cell_type": "code",
   "execution_count": 4,
   "metadata": {
    "id": "BTTqe-yAIZtC"
   },
   "outputs": [],
   "source": [
    "def dfs(graph, start, goal):\n",
    "    stack = [(start, [start])]  # Initialize a list with (current node, path)\n",
    "    visited = set()  # Initialize a set to track visited nodes\n",
    "\n",
    "    while stack:\n",
    "        current, path = stack.pop()  # Pop the current node and its path from the stack\n",
    "        if current == goal:\n",
    "            return path  # Return the path if we reach the goal\n",
    "\n",
    "        if current not in visited:\n",
    "            visited.add(current)\n",
    "            for neighbor in reversed(graph.get(current, [])):\n",
    "                stack.append((neighbor, path + [neighbor]))  # Push neighbor with extended path\n",
    "\n",
    "    return None  # Return None if path to goal is not found\n",
    "\n",
    "\n"
   ]
  },
  {
   "cell_type": "code",
   "execution_count": 5,
   "metadata": {
    "id": "2DHWk93FPes9"
   },
   "outputs": [],
   "source": [
    "graph = {\n",
    "    'A': ['B', 'C'],\n",
    "    'B': ['D', 'E'],\n",
    "    'C': ['F'],\n",
    "    'D': [],\n",
    "    'E': ['F'],\n",
    "    'F': []\n",
    "}"
   ]
  },
  {
   "cell_type": "code",
   "execution_count": 6,
   "metadata": {
    "colab": {
     "base_uri": "https://localhost:8080/"
    },
    "id": "561Eo8_CLfSy",
    "outputId": "6d473e31-c9ed-4019-dc1e-a5c9b37d0676"
   },
   "outputs": [
    {
     "name": "stdout",
     "output_type": "stream",
     "text": [
      "Path from 'A' to 'F': A -> B -> E -> F\n"
     ]
    }
   ],
   "source": [
    "start_node = 'A'\n",
    "goal_node = 'F'\n",
    "\n",
    "dfs_path = dfs(graph, start_node, goal_node)\n",
    "\n",
    "if dfs_path:\n",
    "    print(f\"Path from '{start_node}' to '{goal_node}': {' -> '.join(dfs_path)}\")\n",
    "else:\n",
    "    print(f\"Path from '{start_node}' to '{goal_node}' not found.\")"
   ]
  },
  {
   "cell_type": "code",
   "execution_count": null,
   "metadata": {
    "id": "K3kGYL6bT-mN"
   },
   "outputs": [],
   "source": []
  }
 ],
 "metadata": {
  "colab": {
   "provenance": []
  },
  "kernelspec": {
   "display_name": "Python 3 (ipykernel)",
   "language": "python",
   "name": "python3"
  },
  "language_info": {
   "codemirror_mode": {
    "name": "ipython",
    "version": 3
   },
   "file_extension": ".py",
   "mimetype": "text/x-python",
   "name": "python",
   "nbconvert_exporter": "python",
   "pygments_lexer": "ipython3",
   "version": "3.11.7"
  }
 },
 "nbformat": 4,
 "nbformat_minor": 4
}
