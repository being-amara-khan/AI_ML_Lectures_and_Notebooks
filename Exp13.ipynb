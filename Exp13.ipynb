{
 "cells": [
  {
   "cell_type": "markdown",
   "metadata": {
    "id": "Xi31VK087d79"
   },
   "source": [
    "# **Linear Regression using Sklearn**\n"
   ]
  },
  {
   "cell_type": "code",
   "execution_count": 34,
   "metadata": {
    "executionInfo": {
     "elapsed": 371,
     "status": "ok",
     "timestamp": 1690378095892,
     "user": {
      "displayName": "Muhammad Haris",
      "userId": "13172555328013255752"
     },
     "user_tz": -300
    },
    "id": "LXmQ0a1ELJ0K"
   },
   "outputs": [],
   "source": [
    "import numpy as np\n",
    "import pandas as pd\n",
    "import matplotlib.pyplot as plt\n",
    "%matplotlib inline\n",
    "import sklearn\n",
    "import seaborn as sns\n",
    "import warnings\n",
    "warnings.filterwarnings('ignore')\n",
    "plt.rcParams[\"figure.figsize\"] = [10,5]\n",
    "# Ignore warnings\n",
    "\n",
    "import warnings\n",
    "# Set the warning filter to ignore FutureWarning\n",
    "warnings.simplefilter(action = \"ignore\", category = FutureWarning)"
   ]
  },
  {
   "cell_type": "markdown",
   "metadata": {
    "id": "6LvqKYryfB5r"
   },
   "source": [
    "\n",
    "https://seaborn.pydata.org/tutorial.html"
   ]
  },
  {
   "cell_type": "markdown",
   "metadata": {
    "id": "KT2sxYzgK_Gz"
   },
   "source": [
    "### **TRAINING DATA PRE-PROCESSING**\n",
    "The first step in the machine learning pipeline is to clean and transform the training data into a useable format for analysis and modeling.   \n",
    "\n",
    "As such, data pre-processing addresses:\n",
    "- Assumptions about data shape\n",
    "- Incorrect data types\n",
    "- Outliers or errors\n",
    "- Missing values\n",
    "- Categorical variables"
   ]
  },
  {
   "cell_type": "code",
   "execution_count": 35,
   "metadata": {
    "executionInfo": {
     "elapsed": 1,
     "status": "ok",
     "timestamp": 1690378097219,
     "user": {
      "displayName": "Muhammad Haris",
      "userId": "13172555328013255752"
     },
     "user_tz": -300
    },
    "id": "KLwKdmlhIzks"
   },
   "outputs": [],
   "source": [
    "full_data = pd.read_csv('D:/LGU/Artificial Intelligence/Week13/USA_Housing.csv')"
   ]
  },
  {
   "cell_type": "markdown",
   "metadata": {
    "id": "0a28ZbGoLTva"
   },
   "source": [
    "**Data Shape**  \n",
    "After loading the dataset, I examine its shape to get a better sense of the data and the information it contains.  "
   ]
  },
  {
   "cell_type": "code",
   "execution_count": 36,
   "metadata": {
    "colab": {
     "base_uri": "https://localhost:8080/"
    },
    "executionInfo": {
     "elapsed": 377,
     "status": "ok",
     "timestamp": 1690378099343,
     "user": {
      "displayName": "Muhammad Haris",
      "userId": "13172555328013255752"
     },
     "user_tz": -300
    },
    "id": "JVXGbVuJLWWE",
    "outputId": "e6b6416e-1785-4ba4-edd4-bb3c8cce129e"
   },
   "outputs": [
    {
     "name": "stdout",
     "output_type": "stream",
     "text": [
      "train data: (5000, 7)\n"
     ]
    }
   ],
   "source": [
    "# Data shape\n",
    "print('train data:',full_data.shape)"
   ]
  },
  {
   "cell_type": "code",
   "execution_count": 37,
   "metadata": {
    "colab": {
     "base_uri": "https://localhost:8080/",
     "height": 354
    },
    "executionInfo": {
     "elapsed": 4,
     "status": "ok",
     "timestamp": 1690378100213,
     "user": {
      "displayName": "Muhammad Haris",
      "userId": "13172555328013255752"
     },
     "user_tz": -300
    },
    "id": "Aw9H7w2QLXXa",
    "outputId": "291b2b31-bb18-44ee-ad07-595304b2919f"
   },
   "outputs": [
    {
     "data": {
      "text/html": [
       "<div>\n",
       "<style scoped>\n",
       "    .dataframe tbody tr th:only-of-type {\n",
       "        vertical-align: middle;\n",
       "    }\n",
       "\n",
       "    .dataframe tbody tr th {\n",
       "        vertical-align: top;\n",
       "    }\n",
       "\n",
       "    .dataframe thead th {\n",
       "        text-align: right;\n",
       "    }\n",
       "</style>\n",
       "<table border=\"1\" class=\"dataframe\">\n",
       "  <thead>\n",
       "    <tr style=\"text-align: right;\">\n",
       "      <th></th>\n",
       "      <th>Avg. Area Income</th>\n",
       "      <th>Avg. Area House Age</th>\n",
       "      <th>Avg. Area Number of Rooms</th>\n",
       "      <th>Avg. Area Number of Bedrooms</th>\n",
       "      <th>Area Population</th>\n",
       "      <th>Price</th>\n",
       "      <th>Address</th>\n",
       "    </tr>\n",
       "  </thead>\n",
       "  <tbody>\n",
       "    <tr>\n",
       "      <th>0</th>\n",
       "      <td>79545.458574</td>\n",
       "      <td>5.682861</td>\n",
       "      <td>7.009188</td>\n",
       "      <td>4.09</td>\n",
       "      <td>23086.800503</td>\n",
       "      <td>1.059034e+06</td>\n",
       "      <td>208 Michael Ferry Apt. 674\\nLaurabury, NE 3701...</td>\n",
       "    </tr>\n",
       "    <tr>\n",
       "      <th>1</th>\n",
       "      <td>79248.642455</td>\n",
       "      <td>6.002900</td>\n",
       "      <td>6.730821</td>\n",
       "      <td>3.09</td>\n",
       "      <td>40173.072174</td>\n",
       "      <td>1.505891e+06</td>\n",
       "      <td>188 Johnson Views Suite 079\\nLake Kathleen, CA...</td>\n",
       "    </tr>\n",
       "    <tr>\n",
       "      <th>2</th>\n",
       "      <td>61287.067179</td>\n",
       "      <td>5.865890</td>\n",
       "      <td>8.512727</td>\n",
       "      <td>5.13</td>\n",
       "      <td>36882.159400</td>\n",
       "      <td>1.058988e+06</td>\n",
       "      <td>9127 Elizabeth Stravenue\\nDanieltown, WI 06482...</td>\n",
       "    </tr>\n",
       "    <tr>\n",
       "      <th>3</th>\n",
       "      <td>63345.240046</td>\n",
       "      <td>7.188236</td>\n",
       "      <td>5.586729</td>\n",
       "      <td>3.26</td>\n",
       "      <td>34310.242831</td>\n",
       "      <td>1.260617e+06</td>\n",
       "      <td>USS Barnett\\nFPO AP 44820</td>\n",
       "    </tr>\n",
       "    <tr>\n",
       "      <th>4</th>\n",
       "      <td>59982.197226</td>\n",
       "      <td>5.040555</td>\n",
       "      <td>7.839388</td>\n",
       "      <td>4.23</td>\n",
       "      <td>26354.109472</td>\n",
       "      <td>6.309435e+05</td>\n",
       "      <td>USNS Raymond\\nFPO AE 09386</td>\n",
       "    </tr>\n",
       "  </tbody>\n",
       "</table>\n",
       "</div>"
      ],
      "text/plain": [
       "   Avg. Area Income  Avg. Area House Age  Avg. Area Number of Rooms  \\\n",
       "0      79545.458574             5.682861                   7.009188   \n",
       "1      79248.642455             6.002900                   6.730821   \n",
       "2      61287.067179             5.865890                   8.512727   \n",
       "3      63345.240046             7.188236                   5.586729   \n",
       "4      59982.197226             5.040555                   7.839388   \n",
       "\n",
       "   Avg. Area Number of Bedrooms  Area Population         Price  \\\n",
       "0                          4.09     23086.800503  1.059034e+06   \n",
       "1                          3.09     40173.072174  1.505891e+06   \n",
       "2                          5.13     36882.159400  1.058988e+06   \n",
       "3                          3.26     34310.242831  1.260617e+06   \n",
       "4                          4.23     26354.109472  6.309435e+05   \n",
       "\n",
       "                                             Address  \n",
       "0  208 Michael Ferry Apt. 674\\nLaurabury, NE 3701...  \n",
       "1  188 Johnson Views Suite 079\\nLake Kathleen, CA...  \n",
       "2  9127 Elizabeth Stravenue\\nDanieltown, WI 06482...  \n",
       "3                          USS Barnett\\nFPO AP 44820  \n",
       "4                         USNS Raymond\\nFPO AE 09386  "
      ]
     },
     "execution_count": 37,
     "metadata": {},
     "output_type": "execute_result"
    }
   ],
   "source": [
    "# View first few rows\n",
    "full_data.head(5)"
   ]
  },
  {
   "cell_type": "code",
   "execution_count": 38,
   "metadata": {
    "colab": {
     "base_uri": "https://localhost:8080/"
    },
    "executionInfo": {
     "elapsed": 2,
     "status": "ok",
     "timestamp": 1690378101558,
     "user": {
      "displayName": "Muhammad Haris",
      "userId": "13172555328013255752"
     },
     "user_tz": -300
    },
    "id": "iNCDcwSLLy57",
    "outputId": "d63124d5-a0a7-4aef-9f8c-892ab5767f62"
   },
   "outputs": [
    {
     "name": "stdout",
     "output_type": "stream",
     "text": [
      "<class 'pandas.core.frame.DataFrame'>\n",
      "RangeIndex: 5000 entries, 0 to 4999\n",
      "Data columns (total 7 columns):\n",
      " #   Column                        Non-Null Count  Dtype  \n",
      "---  ------                        --------------  -----  \n",
      " 0   Avg. Area Income              5000 non-null   float64\n",
      " 1   Avg. Area House Age           5000 non-null   float64\n",
      " 2   Avg. Area Number of Rooms     5000 non-null   float64\n",
      " 3   Avg. Area Number of Bedrooms  5000 non-null   float64\n",
      " 4   Area Population               5000 non-null   float64\n",
      " 5   Price                         5000 non-null   float64\n",
      " 6   Address                       5000 non-null   object \n",
      "dtypes: float64(6), object(1)\n",
      "memory usage: 273.6+ KB\n"
     ]
    }
   ],
   "source": [
    "# Data Info\n",
    "full_data.info()"
   ]
  },
  {
   "cell_type": "markdown",
   "metadata": {
    "id": "qBz_U5ahNwNC"
   },
   "source": [
    "**Missing Data**  \n",
    " A heatmap will help better visualize what features as missing the most information."
   ]
  },
  {
   "cell_type": "code",
   "execution_count": 39,
   "metadata": {
    "colab": {
     "base_uri": "https://localhost:8080/",
     "height": 673
    },
    "executionInfo": {
     "elapsed": 637,
     "status": "ok",
     "timestamp": 1690378103077,
     "user": {
      "displayName": "Muhammad Haris",
      "userId": "13172555328013255752"
     },
     "user_tz": -300
    },
    "id": "1WHsLoOvNxzK",
    "outputId": "d9a46c09-097b-46b3-db5a-40fbc8aa333c"
   },
   "outputs": [
    {
     "data": {
      "image/png": "[encoded data removed]",
      "text/plain": [
       "<Figure size 1000x500 with 1 Axes>"
      ]
     },
     "metadata": {},
     "output_type": "display_data"
    }
   ],
   "source": [
    "# Heatmap\n",
    "sns.heatmap(full_data.isnull(),yticklabels = False, cbar = False,cmap = 'tab20c_r')\n",
    "plt.title('Missing Data: Training Set')\n",
    "plt.show()"
   ]
  },
  {
   "cell_type": "code",
   "execution_count": 40,
   "metadata": {
    "executionInfo": {
     "elapsed": 3,
     "status": "ok",
     "timestamp": 1690378104843,
     "user": {
      "displayName": "Muhammad Haris",
      "userId": "13172555328013255752"
     },
     "user_tz": -300
    },
    "id": "8BymTpK-OMt7"
   },
   "outputs": [],
   "source": [
    "# Remove Address feature\n",
    "full_data.drop('Address', axis = 1, inplace = True)"
   ]
  },
  {
   "cell_type": "code",
   "execution_count": 41,
   "metadata": {
    "executionInfo": {
     "elapsed": 2,
     "status": "ok",
     "timestamp": 1690378105219,
     "user": {
      "displayName": "Muhammad Haris",
      "userId": "13172555328013255752"
     },
     "user_tz": -300
    },
    "id": "murweHH_Oelr"
   },
   "outputs": [],
   "source": [
    "# Remove rows with missing data\n",
    "full_data.dropna(inplace = True)"
   ]
  },
  {
   "cell_type": "code",
   "execution_count": 42,
   "metadata": {
    "colab": {
     "base_uri": "https://localhost:8080/",
     "height": 485
    },
    "executionInfo": {
     "elapsed": 4,
     "status": "ok",
     "timestamp": 1690378106712,
     "user": {
      "displayName": "Muhammad Haris",
      "userId": "13172555328013255752"
     },
     "user_tz": -300
    },
    "id": "YxGPeWAFyP3T",
    "outputId": "5a6c7bbf-3f77-42f8-bea2-a868cc90071b"
   },
   "outputs": [
    {
     "data": {
      "text/html": [
       "<div>\n",
       "<style scoped>\n",
       "    .dataframe tbody tr th:only-of-type {\n",
       "        vertical-align: middle;\n",
       "    }\n",
       "\n",
       "    .dataframe tbody tr th {\n",
       "        vertical-align: top;\n",
       "    }\n",
       "\n",
       "    .dataframe thead th {\n",
       "        text-align: right;\n",
       "    }\n",
       "</style>\n",
       "<table border=\"1\" class=\"dataframe\">\n",
       "  <thead>\n",
       "    <tr style=\"text-align: right;\">\n",
       "      <th></th>\n",
       "      <th>Avg. Area Income</th>\n",
       "      <th>Avg. Area House Age</th>\n",
       "      <th>Avg. Area Number of Rooms</th>\n",
       "      <th>Avg. Area Number of Bedrooms</th>\n",
       "      <th>Area Population</th>\n",
       "      <th>Price</th>\n",
       "    </tr>\n",
       "  </thead>\n",
       "  <tbody>\n",
       "    <tr>\n",
       "      <th>0</th>\n",
       "      <td>79545.458574</td>\n",
       "      <td>5.682861</td>\n",
       "      <td>7.009188</td>\n",
       "      <td>4.09</td>\n",
       "      <td>23086.800503</td>\n",
       "      <td>1.059034e+06</td>\n",
       "    </tr>\n",
       "    <tr>\n",
       "      <th>1</th>\n",
       "      <td>79248.642455</td>\n",
       "      <td>6.002900</td>\n",
       "      <td>6.730821</td>\n",
       "      <td>3.09</td>\n",
       "      <td>40173.072174</td>\n",
       "      <td>1.505891e+06</td>\n",
       "    </tr>\n",
       "    <tr>\n",
       "      <th>2</th>\n",
       "      <td>61287.067179</td>\n",
       "      <td>5.865890</td>\n",
       "      <td>8.512727</td>\n",
       "      <td>5.13</td>\n",
       "      <td>36882.159400</td>\n",
       "      <td>1.058988e+06</td>\n",
       "    </tr>\n",
       "    <tr>\n",
       "      <th>3</th>\n",
       "      <td>63345.240046</td>\n",
       "      <td>7.188236</td>\n",
       "      <td>5.586729</td>\n",
       "      <td>3.26</td>\n",
       "      <td>34310.242831</td>\n",
       "      <td>1.260617e+06</td>\n",
       "    </tr>\n",
       "    <tr>\n",
       "      <th>4</th>\n",
       "      <td>59982.197226</td>\n",
       "      <td>5.040555</td>\n",
       "      <td>7.839388</td>\n",
       "      <td>4.23</td>\n",
       "      <td>26354.109472</td>\n",
       "      <td>6.309435e+05</td>\n",
       "    </tr>\n",
       "    <tr>\n",
       "      <th>...</th>\n",
       "      <td>...</td>\n",
       "      <td>...</td>\n",
       "      <td>...</td>\n",
       "      <td>...</td>\n",
       "      <td>...</td>\n",
       "      <td>...</td>\n",
       "    </tr>\n",
       "    <tr>\n",
       "      <th>4995</th>\n",
       "      <td>60567.944140</td>\n",
       "      <td>7.830362</td>\n",
       "      <td>6.137356</td>\n",
       "      <td>3.46</td>\n",
       "      <td>22837.361035</td>\n",
       "      <td>1.060194e+06</td>\n",
       "    </tr>\n",
       "    <tr>\n",
       "      <th>4996</th>\n",
       "      <td>78491.275435</td>\n",
       "      <td>6.999135</td>\n",
       "      <td>6.576763</td>\n",
       "      <td>4.02</td>\n",
       "      <td>25616.115489</td>\n",
       "      <td>1.482618e+06</td>\n",
       "    </tr>\n",
       "    <tr>\n",
       "      <th>4997</th>\n",
       "      <td>63390.686886</td>\n",
       "      <td>7.250591</td>\n",
       "      <td>4.805081</td>\n",
       "      <td>2.13</td>\n",
       "      <td>33266.145490</td>\n",
       "      <td>1.030730e+06</td>\n",
       "    </tr>\n",
       "    <tr>\n",
       "      <th>4998</th>\n",
       "      <td>68001.331235</td>\n",
       "      <td>5.534388</td>\n",
       "      <td>7.130144</td>\n",
       "      <td>5.44</td>\n",
       "      <td>42625.620156</td>\n",
       "      <td>1.198657e+06</td>\n",
       "    </tr>\n",
       "    <tr>\n",
       "      <th>4999</th>\n",
       "      <td>65510.581804</td>\n",
       "      <td>5.992305</td>\n",
       "      <td>6.792336</td>\n",
       "      <td>4.07</td>\n",
       "      <td>46501.283803</td>\n",
       "      <td>1.298950e+06</td>\n",
       "    </tr>\n",
       "  </tbody>\n",
       "</table>\n",
       "<p>5000 rows × 6 columns</p>\n",
       "</div>"
      ],
      "text/plain": [
       "      Avg. Area Income  Avg. Area House Age  Avg. Area Number of Rooms  \\\n",
       "0         79545.458574             5.682861                   7.009188   \n",
       "1         79248.642455             6.002900                   6.730821   \n",
       "2         61287.067179             5.865890                   8.512727   \n",
       "3         63345.240046             7.188236                   5.586729   \n",
       "4         59982.197226             5.040555                   7.839388   \n",
       "...                ...                  ...                        ...   \n",
       "4995      60567.944140             7.830362                   6.137356   \n",
       "4996      78491.275435             6.999135                   6.576763   \n",
       "4997      63390.686886             7.250591                   4.805081   \n",
       "4998      68001.331235             5.534388                   7.130144   \n",
       "4999      65510.581804             5.992305                   6.792336   \n",
       "\n",
       "      Avg. Area Number of Bedrooms  Area Population         Price  \n",
       "0                             4.09     23086.800503  1.059034e+06  \n",
       "1                             3.09     40173.072174  1.505891e+06  \n",
       "2                             5.13     36882.159400  1.058988e+06  \n",
       "3                             3.26     34310.242831  1.260617e+06  \n",
       "4                             4.23     26354.109472  6.309435e+05  \n",
       "...                            ...              ...           ...  \n",
       "4995                          3.46     22837.361035  1.060194e+06  \n",
       "4996                          4.02     25616.115489  1.482618e+06  \n",
       "4997                          2.13     33266.145490  1.030730e+06  \n",
       "4998                          5.44     42625.620156  1.198657e+06  \n",
       "4999                          4.07     46501.283803  1.298950e+06  \n",
       "\n",
       "[5000 rows x 6 columns]"
      ]
     },
     "execution_count": 42,
     "metadata": {},
     "output_type": "execute_result"
    }
   ],
   "source": [
    "full_data"
   ]
  },
  {
   "cell_type": "markdown",
   "metadata": {
    "id": "kpIly61if7pb"
   },
   "source": [
    "**Numeric Features**"
   ]
  },
  {
   "cell_type": "code",
   "execution_count": 43,
   "metadata": {
    "colab": {
     "base_uri": "https://localhost:8080/",
     "height": 361
    },
    "executionInfo": {
     "elapsed": 4,
     "status": "ok",
     "timestamp": 1690378107746,
     "user": {
      "displayName": "Muhammad Haris",
      "userId": "13172555328013255752"
     },
     "user_tz": -300
    },
    "id": "lNrE7kacgCsy",
    "outputId": "73821743-4564-4ce2-a89c-0a335afc094d"
   },
   "outputs": [
    {
     "data": {
      "text/html": [
       "<div>\n",
       "<style scoped>\n",
       "    .dataframe tbody tr th:only-of-type {\n",
       "        vertical-align: middle;\n",
       "    }\n",
       "\n",
       "    .dataframe tbody tr th {\n",
       "        vertical-align: top;\n",
       "    }\n",
       "\n",
       "    .dataframe thead th {\n",
       "        text-align: right;\n",
       "    }\n",
       "</style>\n",
       "<table border=\"1\" class=\"dataframe\">\n",
       "  <thead>\n",
       "    <tr style=\"text-align: right;\">\n",
       "      <th></th>\n",
       "      <th>Avg. Area Income</th>\n",
       "      <th>Avg. Area House Age</th>\n",
       "      <th>Avg. Area Number of Rooms</th>\n",
       "      <th>Avg. Area Number of Bedrooms</th>\n",
       "      <th>Area Population</th>\n",
       "      <th>Price</th>\n",
       "    </tr>\n",
       "  </thead>\n",
       "  <tbody>\n",
       "    <tr>\n",
       "      <th>count</th>\n",
       "      <td>5000.000000</td>\n",
       "      <td>5000.000000</td>\n",
       "      <td>5000.000000</td>\n",
       "      <td>5000.000000</td>\n",
       "      <td>5000.000000</td>\n",
       "      <td>5.000000e+03</td>\n",
       "    </tr>\n",
       "    <tr>\n",
       "      <th>mean</th>\n",
       "      <td>68583.108984</td>\n",
       "      <td>5.977222</td>\n",
       "      <td>6.987792</td>\n",
       "      <td>3.981330</td>\n",
       "      <td>36163.516039</td>\n",
       "      <td>1.232073e+06</td>\n",
       "    </tr>\n",
       "    <tr>\n",
       "      <th>std</th>\n",
       "      <td>10657.991214</td>\n",
       "      <td>0.991456</td>\n",
       "      <td>1.005833</td>\n",
       "      <td>1.234137</td>\n",
       "      <td>9925.650114</td>\n",
       "      <td>3.531176e+05</td>\n",
       "    </tr>\n",
       "    <tr>\n",
       "      <th>min</th>\n",
       "      <td>17796.631190</td>\n",
       "      <td>2.644304</td>\n",
       "      <td>3.236194</td>\n",
       "      <td>2.000000</td>\n",
       "      <td>172.610686</td>\n",
       "      <td>1.593866e+04</td>\n",
       "    </tr>\n",
       "    <tr>\n",
       "      <th>25%</th>\n",
       "      <td>61480.562388</td>\n",
       "      <td>5.322283</td>\n",
       "      <td>6.299250</td>\n",
       "      <td>3.140000</td>\n",
       "      <td>29403.928702</td>\n",
       "      <td>9.975771e+05</td>\n",
       "    </tr>\n",
       "    <tr>\n",
       "      <th>50%</th>\n",
       "      <td>68804.286404</td>\n",
       "      <td>5.970429</td>\n",
       "      <td>7.002902</td>\n",
       "      <td>4.050000</td>\n",
       "      <td>36199.406689</td>\n",
       "      <td>1.232669e+06</td>\n",
       "    </tr>\n",
       "    <tr>\n",
       "      <th>75%</th>\n",
       "      <td>75783.338666</td>\n",
       "      <td>6.650808</td>\n",
       "      <td>7.665871</td>\n",
       "      <td>4.490000</td>\n",
       "      <td>42861.290769</td>\n",
       "      <td>1.471210e+06</td>\n",
       "    </tr>\n",
       "    <tr>\n",
       "      <th>max</th>\n",
       "      <td>107701.748378</td>\n",
       "      <td>9.519088</td>\n",
       "      <td>10.759588</td>\n",
       "      <td>6.500000</td>\n",
       "      <td>69621.713378</td>\n",
       "      <td>2.469066e+06</td>\n",
       "    </tr>\n",
       "  </tbody>\n",
       "</table>\n",
       "</div>"
      ],
      "text/plain": [
       "       Avg. Area Income  Avg. Area House Age  Avg. Area Number of Rooms  \\\n",
       "count       5000.000000          5000.000000                5000.000000   \n",
       "mean       68583.108984             5.977222                   6.987792   \n",
       "std        10657.991214             0.991456                   1.005833   \n",
       "min        17796.631190             2.644304                   3.236194   \n",
       "25%        61480.562388             5.322283                   6.299250   \n",
       "50%        68804.286404             5.970429                   7.002902   \n",
       "75%        75783.338666             6.650808                   7.665871   \n",
       "max       107701.748378             9.519088                  10.759588   \n",
       "\n",
       "       Avg. Area Number of Bedrooms  Area Population         Price  \n",
       "count                   5000.000000      5000.000000  5.000000e+03  \n",
       "mean                       3.981330     36163.516039  1.232073e+06  \n",
       "std                        1.234137      9925.650114  3.531176e+05  \n",
       "min                        2.000000       172.610686  1.593866e+04  \n",
       "25%                        3.140000     29403.928702  9.975771e+05  \n",
       "50%                        4.050000     36199.406689  1.232669e+06  \n",
       "75%                        4.490000     42861.290769  1.471210e+06  \n",
       "max                        6.500000     69621.713378  2.469066e+06  "
      ]
     },
     "execution_count": 43,
     "metadata": {},
     "output_type": "execute_result"
    }
   ],
   "source": [
    "# Numeric summary\n",
    "full_data.describe()"
   ]
  },
  {
   "cell_type": "markdown",
   "metadata": {
    "id": "TZ23sCFIgZP0"
   },
   "source": [
    "### **GETTING MODEL READY**\n",
    "\n",
    "Now that we've explored the data, it is time to get these features 'model ready'. Categorial features will need to be converted into 'dummy variables', otherwise a machine learning algorithm will not be able to take in those features as inputs."
   ]
  },
  {
   "cell_type": "code",
   "execution_count": 44,
   "metadata": {
    "colab": {
     "base_uri": "https://localhost:8080/"
    },
    "executionInfo": {
     "elapsed": 6,
     "status": "ok",
     "timestamp": 1690378110253,
     "user": {
      "displayName": "Muhammad Haris",
      "userId": "13172555328013255752"
     },
     "user_tz": -300
    },
    "id": "EN-zWQg8gZ2c",
    "outputId": "574271ba-4b12-4cf7-8bec-bc8f754d4018"
   },
   "outputs": [
    {
     "data": {
      "text/plain": [
       "(5000, 6)"
      ]
     },
     "execution_count": 44,
     "metadata": {},
     "output_type": "execute_result"
    }
   ],
   "source": [
    "# Shape of train data\n",
    "full_data.shape"
   ]
  },
  {
   "cell_type": "markdown",
   "metadata": {
    "id": "i1f5Hi9LgxXz"
   },
   "source": [
    "\n",
    ">Now the train data is perfect for a machine learning algorithm:  \n",
    "- all the data is numeric\n",
    "- everything is concatenated together"
   ]
  },
  {
   "cell_type": "markdown",
   "metadata": {
    "id": "PL98j5CbgzYz"
   },
   "source": [
    "## **OBJECTIVE 2: MACHINE LEARNING**\n",
    "Next, I will feed these features into various classification algorithms to determine the best performance using a simple framework: **Split, Fit, Predict, Score It.**"
   ]
  },
  {
   "cell_type": "markdown",
   "metadata": {
    "id": "8fv_AVme8vs2"
   },
   "source": [
    "## **Target Variable Splitting**\n",
    "We will spilt the Full dataset into **Input** and **target** variables\n",
    "\n",
    "Input is also called **Feature Variables**\n",
    "Output referes to Target **variables**"
   ]
  },
  {
   "cell_type": "code",
   "execution_count": 45,
   "metadata": {
    "executionInfo": {
     "elapsed": 4,
     "status": "ok",
     "timestamp": 1690378111838,
     "user": {
      "displayName": "Muhammad Haris",
      "userId": "13172555328013255752"
     },
     "user_tz": -300
    },
    "id": "3R4SJeDPg2wq"
   },
   "outputs": [],
   "source": [
    "# Split data to be used in the models\n",
    "# Create matrix of features\n",
    "x = full_data.drop('Price', axis = 1) # grabs everything else but 'Price'\n",
    "\n",
    "# Create target variable\n",
    "y = full_data['Price'] # y is the column we're trying to predict\n"
   ]
  },
  {
   "cell_type": "markdown",
   "metadata": {
    "id": "q2Pa1LnC5Qdz"
   },
   "source": [
    "![1_train-test-split_0 - Copy.jpg](data:image/jpeg;base64,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)"
   ]
  },
  {
   "cell_type": "code",
   "execution_count": 46,
   "metadata": {
    "executionInfo": {
     "elapsed": 451,
     "status": "ok",
     "timestamp": 1690378114403,
     "user": {
      "displayName": "Muhammad Haris",
      "userId": "13172555328013255752"
     },
     "user_tz": -300
    },
    "id": "nrGKJABX25To"
   },
   "outputs": [],
   "source": [
    "from sklearn import preprocessing\n",
    "pre_process = preprocessing.StandardScaler().fit(x)\n",
    "x_transform = pre_process.fit_transform(x)"
   ]
  },
  {
   "cell_type": "code",
   "execution_count": 47,
   "metadata": {
    "executionInfo": {
     "elapsed": 2,
     "status": "ok",
     "timestamp": 1690378114842,
     "user": {
      "displayName": "Muhammad Haris",
      "userId": "13172555328013255752"
     },
     "user_tz": -300
    },
    "id": "jau8YSDU7A4Z"
   },
   "outputs": [],
   "source": [
    "# pipe = make_pipeline(StandardScaler(), LogisticRegression())\n",
    "# pipe.fit(X_train, y_train)"
   ]
  },
  {
   "cell_type": "code",
   "execution_count": 48,
   "metadata": {
    "colab": {
     "base_uri": "https://localhost:8080/"
    },
    "executionInfo": {
     "elapsed": 3,
     "status": "ok",
     "timestamp": 1690378115206,
     "user": {
      "displayName": "Muhammad Haris",
      "userId": "13172555328013255752"
     },
     "user_tz": -300
    },
    "id": "YeaXQt-oyHmB",
    "outputId": "8fd997be-09d7-4edc-c3d9-4ab27f907007"
   },
   "outputs": [
    {
     "data": {
      "text/plain": [
       "array([[ 1.02865969, -0.29692705,  0.02127433,  0.08806222, -1.31759867],\n",
       "       [ 1.00080775,  0.02590164, -0.25550611, -0.72230146,  0.40399945],\n",
       "       [-0.68462916, -0.11230283,  1.5162435 ,  0.93084045,  0.07240989],\n",
       "       ...,\n",
       "       [-0.48723454,  1.28447022, -2.17026949, -1.50025059, -0.29193658],\n",
       "       [-0.05459152, -0.44669439,  0.14154061,  1.18205319,  0.65111608],\n",
       "       [-0.28831272,  0.01521477, -0.19434166,  0.07185495,  1.04162464]])"
      ]
     },
     "execution_count": 48,
     "metadata": {},
     "output_type": "execute_result"
    }
   ],
   "source": [
    "# x Represents the Features\n",
    "x_transform.shape\n",
    "x_transform"
   ]
  },
  {
   "cell_type": "code",
   "execution_count": 49,
   "metadata": {
    "colab": {
     "base_uri": "https://localhost:8080/"
    },
    "executionInfo": {
     "elapsed": 2,
     "status": "ok",
     "timestamp": 1690378116893,
     "user": {
      "displayName": "Muhammad Haris",
      "userId": "13172555328013255752"
     },
     "user_tz": -300
    },
    "id": "pjkPvDnhyJ_4",
    "outputId": "0a93e562-50ba-47ed-e6d3-09c9289127d1"
   },
   "outputs": [
    {
     "data": {
      "text/plain": [
       "(5000,)"
      ]
     },
     "execution_count": 49,
     "metadata": {},
     "output_type": "execute_result"
    }
   ],
   "source": [
    "y # y represents the Target\n",
    "y.shape"
   ]
  },
  {
   "cell_type": "code",
   "execution_count": 50,
   "metadata": {
    "executionInfo": {
     "elapsed": 4,
     "status": "ok",
     "timestamp": 1690378117763,
     "user": {
      "displayName": "Muhammad Haris",
      "userId": "13172555328013255752"
     },
     "user_tz": -300
    },
    "id": "GvBfh3TUyC41"
   },
   "outputs": [],
   "source": [
    "# Use x and y variables to split the training data into train and test set\n",
    "from sklearn.model_selection import train_test_split\n",
    "x_train, x_test, y_train, y_test = train_test_split(x_transform, y, test_size = .10, random_state = 101)"
   ]
  },
  {
   "cell_type": "markdown",
   "metadata": {
    "id": "FXrQ1y8R5pDN"
   },
   "source": [
    "![1_train-test-split_0 - Copy (2).jpg](data:image/jpeg;base64,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)"
   ]
  },
  {
   "cell_type": "markdown",
   "metadata": {
    "id": "2z4jNubC8eTO"
   },
   "source": [
    "![1_train-test-split_0 - Copy (3).jpg](data:image/jpeg;base64,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)"
   ]
  },
  {
   "cell_type": "markdown",
   "metadata": {
    "id": "PzAOyNq8iPgf"
   },
   "source": [
    "# **LINEAR REGRESSION**"
   ]
  },
  {
   "cell_type": "markdown",
   "metadata": {
    "id": "Okaoq5Js9x67"
   },
   "source": [
    "## **Model Training**"
   ]
  },
  {
   "cell_type": "code",
   "execution_count": 51,
   "metadata": {
    "colab": {
     "base_uri": "https://localhost:8080/",
     "height": 74
    },
    "executionInfo": {
     "elapsed": 390,
     "status": "ok",
     "timestamp": 1690378119972,
     "user": {
      "displayName": "Muhammad Haris",
      "userId": "13172555328013255752"
     },
     "user_tz": -300
    },
    "id": "Xl52pA-8iSI0",
    "outputId": "245e176d-9162-464c-fb23-a784ece71183"
   },
   "outputs": [
    {
     "data": {
      "text/html": [
       "<style>#sk-container-id-2 {color: black;background-color: white;}#sk-container-id-2 pre{padding: 0;}#sk-container-id-2 div.sk-toggleable {background-color: white;}#sk-container-id-2 label.sk-toggleable__label {cursor: pointer;display: block;width: 100%;margin-bottom: 0;padding: 0.3em;box-sizing: border-box;text-align: center;}#sk-container-id-2 label.sk-toggleable__label-arrow:before {content: \"▸\";float: left;margin-right: 0.25em;color: #696969;}#sk-container-id-2 label.sk-toggleable__label-arrow:hover:before {color: black;}#sk-container-id-2 div.sk-estimator:hover label.sk-toggleable__label-arrow:before {color: black;}#sk-container-id-2 div.sk-toggleable__content {max-height: 0;max-width: 0;overflow: hidden;text-align: left;background-color: #f0f8ff;}#sk-container-id-2 div.sk-toggleable__content pre {margin: 0.2em;color: black;border-radius: 0.25em;background-color: #f0f8ff;}#sk-container-id-2 input.sk-toggleable__control:checked~div.sk-toggleable__content {max-height: 200px;max-width: 100%;overflow: auto;}#sk-container-id-2 input.sk-toggleable__control:checked~label.sk-toggleable__label-arrow:before {content: \"▾\";}#sk-container-id-2 div.sk-estimator input.sk-toggleable__control:checked~label.sk-toggleable__label {background-color: #d4ebff;}#sk-container-id-2 div.sk-label input.sk-toggleable__control:checked~label.sk-toggleable__label {background-color: #d4ebff;}#sk-container-id-2 input.sk-hidden--visually {border: 0;clip: rect(1px 1px 1px 1px);clip: rect(1px, 1px, 1px, 1px);height: 1px;margin: -1px;overflow: hidden;padding: 0;position: absolute;width: 1px;}#sk-container-id-2 div.sk-estimator {font-family: monospace;background-color: #f0f8ff;border: 1px dotted black;border-radius: 0.25em;box-sizing: border-box;margin-bottom: 0.5em;}#sk-container-id-2 div.sk-estimator:hover {background-color: #d4ebff;}#sk-container-id-2 div.sk-parallel-item::after {content: \"\";width: 100%;border-bottom: 1px solid gray;flex-grow: 1;}#sk-container-id-2 div.sk-label:hover label.sk-toggleable__label {background-color: #d4ebff;}#sk-container-id-2 div.sk-serial::before {content: \"\";position: absolute;border-left: 1px solid gray;box-sizing: border-box;top: 0;bottom: 0;left: 50%;z-index: 0;}#sk-container-id-2 div.sk-serial {display: flex;flex-direction: column;align-items: center;background-color: white;padding-right: 0.2em;padding-left: 0.2em;position: relative;}#sk-container-id-2 div.sk-item {position: relative;z-index: 1;}#sk-container-id-2 div.sk-parallel {display: flex;align-items: stretch;justify-content: center;background-color: white;position: relative;}#sk-container-id-2 div.sk-item::before, #sk-container-id-2 div.sk-parallel-item::before {content: \"\";position: absolute;border-left: 1px solid gray;box-sizing: border-box;top: 0;bottom: 0;left: 50%;z-index: -1;}#sk-container-id-2 div.sk-parallel-item {display: flex;flex-direction: column;z-index: 1;position: relative;background-color: white;}#sk-container-id-2 div.sk-parallel-item:first-child::after {align-self: flex-end;width: 50%;}#sk-container-id-2 div.sk-parallel-item:last-child::after {align-self: flex-start;width: 50%;}#sk-container-id-2 div.sk-parallel-item:only-child::after {width: 0;}#sk-container-id-2 div.sk-dashed-wrapped {border: 1px dashed gray;margin: 0 0.4em 0.5em 0.4em;box-sizing: border-box;padding-bottom: 0.4em;background-color: white;}#sk-container-id-2 div.sk-label label {font-family: monospace;font-weight: bold;display: inline-block;line-height: 1.2em;}#sk-container-id-2 div.sk-label-container {text-align: center;}#sk-container-id-2 div.sk-container {/* jupyter's `normalize.less` sets `[hidden] { display: none; }` but bootstrap.min.css set `[hidden] { display: none !important; }` so we also need the `!important` here to be able to override the default hidden behavior on the sphinx rendered scikit-learn.org. See: https://github.com/scikit-learn/scikit-learn/issues/21755 */display: inline-block !important;position: relative;}#sk-container-id-2 div.sk-text-repr-fallback {display: none;}</style><div id=\"sk-container-id-2\" class=\"sk-top-container\"><div class=\"sk-text-repr-fallback\"><pre>LinearRegression()</pre><b>In a Jupyter environment, please rerun this cell to show the HTML representation or trust the notebook. <br />On GitHub, the HTML representation is unable to render, please try loading this page with nbviewer.org.</b></div><div class=\"sk-container\" hidden><div class=\"sk-item\"><div class=\"sk-estimator sk-toggleable\"><input class=\"sk-toggleable__control sk-hidden--visually\" id=\"sk-estimator-id-2\" type=\"checkbox\" checked><label for=\"sk-estimator-id-2\" class=\"sk-toggleable__label sk-toggleable__label-arrow\">LinearRegression</label><div class=\"sk-toggleable__content\"><pre>LinearRegression()</pre></div></div></div></div></div>"
      ],
      "text/plain": [
       "LinearRegression()"
      ]
     },
     "execution_count": 51,
     "metadata": {},
     "output_type": "execute_result"
    }
   ],
   "source": [
    "# Fit\n",
    "# Import model\n",
    "from sklearn.linear_model import LinearRegression\n",
    "from sklearn.pipeline import make_pipeline\n",
    "from sklearn.preprocessing import StandardScaler\n",
    "\n",
    "# Create instance of model\n",
    "lin_reg = LinearRegression()\n",
    "\n",
    "# Pass training data into model\n",
    "lin_reg.fit(x_train, y_train)\n",
    "# pipe = make_pipeline(StandardScaler(), LinearRegression())\n",
    "# pipe.fit(x_train, y_train)"
   ]
  },
  {
   "cell_type": "markdown",
   "metadata": {
    "id": "WjmlvAmu95nP"
   },
   "source": [
    "## **Model Testing**"
   ]
  },
  {
   "cell_type": "markdown",
   "metadata": {
    "id": "EBqhgutl_ugb"
   },
   "source": [
    "## **Class prediction**"
   ]
  },
  {
   "cell_type": "code",
   "execution_count": 52,
   "metadata": {
    "colab": {
     "base_uri": "https://localhost:8080/"
    },
    "executionInfo": {
     "elapsed": 640,
     "status": "ok",
     "timestamp": 1690378121868,
     "user": {
      "displayName": "Muhammad Haris",
      "userId": "13172555328013255752"
     },
     "user_tz": -300
    },
    "id": "n4HIDY5OifFr",
    "outputId": "b017a2df-cc0d-4e9d-a7b8-3fa69164f121"
   },
   "outputs": [
    {
     "name": "stdout",
     "output_type": "stream",
     "text": [
      "(500,)\n",
      "[1257098.09685349  822086.76211938 1739484.60206384  973128.9269703\n",
      "  993918.45735573  645734.60078803 1074412.81648685  856463.98369062\n",
      " 1445048.63352694 1201847.71924782 1454475.51805013 1296582.98910134\n",
      " 1736858.04511704 1336694.59015483 1386280.00636484 1223122.34992068\n",
      "  615840.78603611  964515.62334817 1222020.63802963 1197532.31828304\n",
      "  506756.96702134 1767894.37065039 1854829.42630351 1198521.37525139\n",
      " 1065384.60130188 1810199.62960618 1767830.26189968 1440162.9747667\n",
      " 1386122.51652193 1539972.94909227  729561.93190619 1754434.69364763\n",
      " 1465273.07428251 1026021.79840116 1283514.57970667  917688.32850804\n",
      " 1185681.03610736 1000137.89595728 1329344.79847155  784262.29954368\n",
      " 1392528.47637802  576569.30274928  823465.14446257 1893895.24014477\n",
      " 1671565.73974773  964720.06183539 1129280.90868273  792574.96874636\n",
      " 1159381.43948676 1473209.24685792 1459527.31772498 1164492.85979007\n",
      " 1098752.99065475 1360158.14296951  843194.09463543  985298.51640372\n",
      " 1123531.58586396 1252412.0965265  1426615.61857719  500001.33879922\n",
      " 1461369.45459794 1106159.93050245  660292.66135475 1247445.62999035\n",
      " 1342358.36869671 1358593.88662128  816281.24876593 1485699.43912885\n",
      " 1397988.12130087  885967.18897815  858477.74593718 1213733.55154629\n",
      " 1102498.29174047 1838200.42229827  924235.35272625  856710.54565038\n",
      "  823276.4801687  1397640.82054047  777050.96350588 1638113.60351908\n",
      " 1079086.7842981  1356632.48703866 1320957.97922806 1197171.56169534\n",
      "  758865.56766536  651243.65975688 1057553.45686797 1383409.62580847\n",
      " 1031206.94285978 1297479.96436114  549966.58750725 1706825.70588201\n",
      "  841736.60986858 1627733.58071671 1050396.70739477  948938.8662303\n",
      " 1187100.16374291 1557010.68230235  901452.48979529  997238.66630778\n",
      " 1223286.22478842 1591630.92327879  978698.81971324 1428351.6454936\n",
      " 1015434.64540644 1446520.00958123  880186.0404033   831008.29349575\n",
      " 1023548.67187725 1845754.47155859 1926387.98073692 1405561.75274305\n",
      " 1042417.73296303 1054544.94444533 1442288.95457485 1029962.22973866\n",
      " 1186409.48222155 1407491.43535053 1265576.36912424 1563843.92084177\n",
      "  765803.98596524 1394401.47089881 2083228.77840481 1468229.3391016\n",
      " 1326314.16349928 1314447.97251762  919625.52785702  782380.97278547\n",
      " 1677493.11398226 1173641.32268421  862979.44977883  829973.19977863\n",
      " 1551093.28053472  814088.07289724  629087.71961831 1229734.68701239\n",
      " 1007824.20235357 1134517.82161144 1760419.70592533 1185969.71043132\n",
      "  590519.77680379 1392510.50251628 1381448.65007235 1725628.39764015\n",
      " 1171125.23144299 1021769.70334065 1732382.78725604 1095320.12186158\n",
      " 1641664.85523504 1424629.01005309 1371128.47438353  958990.41375539\n",
      " 1758291.66064508 1213703.54220089 1230795.71210183  949573.53538962\n",
      " 1241838.9469911  1261011.74538243 1278217.39240556 1125478.75568112\n",
      " 1513182.22578001 1559804.91796782  797449.63707646 1547262.13481217\n",
      " 1278736.64667218 1047589.65787532 1260392.63510119 1646590.02056661\n",
      " 1109660.26873629  476220.07126446 1648679.67617887 1314294.92848799\n",
      " 1664562.48156061 1675635.802361   1690852.64638945 1810535.96006458\n",
      " 1555415.74595769  872651.68179546 1382432.67713302 1587824.08316431\n",
      " 1393209.77217729 1125235.05969292 1454320.69331017  893088.14175259\n",
      "  928601.96609022 1125972.00351154 1189831.64874381 1093887.03013038\n",
      " 1353495.04897812 1105030.47434943 1040464.47604337 1840688.88324952\n",
      " 1270196.36773355 1196823.59374302 1981946.49772917 1172366.75739153\n",
      "  664623.88483996 1515285.38507012 1208961.27628525 1121816.80255302\n",
      " 1735861.12738655  868405.91331759  969754.33748149 1332364.61626223\n",
      "  909142.72410485 1330222.53574544 1265446.28789487  971473.92981152\n",
      " 1241221.36342749 1989212.21941295 1502547.10096327 1143269.98428197\n",
      " 1891128.92719218 1544234.59203089 1257098.83515038 1267528.10814361\n",
      " 1336935.88250422  251726.9272114  1127576.07419982 1253095.0249099\n",
      " 1363828.74528053 1729167.08388109 1046793.19443541 1054433.9078874\n",
      " 1426085.83621469  932556.42647084  867334.13626571 1649516.73877216\n",
      " 1181607.39902886 1340578.5859147   818423.06161122 1561648.87459124\n",
      " 1348930.65490883 1813093.07360363 1262654.37563554 1220567.50862939\n",
      "  649334.5585296  1331335.44444761  394410.55353118 1282814.427801\n",
      " 1354538.01902958 1593773.92074182 1019091.92569429 1155879.3175189\n",
      " 1478767.27050435 1605540.46883885 1335689.46379412 1786774.37883822\n",
      " 1795658.29489351  945957.98521667 1238608.98322097 1131981.47617578\n",
      " 1505069.16566029 1172502.37927637 1573047.28395342 1619486.95952834\n",
      "  331259.66470189  425396.75013721  808174.05455254 1809043.00849025\n",
      " 1161801.19831795 1288807.32649928  487544.10955057 1355465.49519784\n",
      " 1791782.58325609  528717.11671942  894564.97775376 1235034.80182549\n",
      " 1206220.27419067 1142472.9447999  1543751.21151562 1398422.80252626\n",
      "  810341.11375401  917407.46547624 1715661.78405759 1073147.76765764\n",
      " 1264058.5259446  1564587.43621449 1152496.09874073 1086736.25970852\n",
      " 1720484.27065181 1400338.35161276 1096358.38095326 1645314.5772635\n",
      " 1062595.51289076 1730666.42798574 1040247.33594566 1360355.59456415\n",
      " 1346014.52513969 1331649.16135632 1003151.28952913 1344979.98717937\n",
      " 1130910.75681466 1560673.51402866 1705060.84949085 2035370.63838247\n",
      "  833072.3357522  1043358.45412577 1136302.19557687  934173.89793334\n",
      " 1371720.75624963  815174.17610909 1250408.7393702  1363645.94576934\n",
      " 1497641.33792102 2229719.76831283  778318.61180092 1191144.01462899\n",
      " 1095618.57573379 1271396.62565767 1627200.49990593  920094.9626845\n",
      " 1007429.04925062 1593416.75803705  846708.1279599   849909.07877665\n",
      "  573217.41894082 1802975.67121527 1486069.85493797 1683577.6803397\n",
      " 1230926.05811105 1355678.21156351 1096602.20860856 1191749.90356699\n",
      " 1125638.26037735 1084213.15350159 1044089.96186443 2013152.77318278\n",
      "  751261.16757075 1126463.73879896 1353635.28348441 1583241.32570834\n",
      " 1130758.31376519 1127871.86841137 1557684.40694764 1471898.13627882\n",
      " 1169392.40936428 1057647.68682009 1727953.74846075 1097384.12519553\n",
      " 1878448.80906369  950448.33692094  220138.60134662 1469453.18735286\n",
      " 1352042.48661871 1964792.21729304  472146.96240436 1079107.83358809\n",
      " 1397518.51353173 1035224.52411413  789751.71851725 1446225.31748697\n",
      " 1101344.6350542  1691840.14631229 1104612.41352405 1078812.12333312\n",
      " 1709717.21837412 1133935.33824699  873536.14469376  872353.46724263\n",
      "  567716.63610796 1540396.54402919 1214553.41186506 1751381.39581328\n",
      "  777707.72786434 1004818.19756116 1700489.86715185  613824.82073211\n",
      " 1240330.7102607  1591477.92019421 1330047.79218852 1110601.087221\n",
      " 1279717.51895244  897538.10500218  812772.71267423 1550684.7313\n",
      " 1359629.40766711 1253430.62855306 1231368.86844008 1498791.84244174\n",
      "  918340.08794793 1329029.44326931 1090705.37505426  959167.52291122\n",
      " 1062654.67906677  939078.176463    969305.37410474 1044706.24893475\n",
      " 1646826.94297173 1168225.70612086 1312540.05907993 1622518.86963197\n",
      " 1120214.47467815 1293773.61364348 1364121.13844728 1044056.04337946\n",
      " 1044779.48291056 1444510.32908527 1313953.58816088 1055632.97633086\n",
      " 1952741.57332294 1514919.04683016 1204078.30771394 1981914.52294681\n",
      "  681468.69993352 1725226.83333033 1462720.93912084 1413052.0340609\n",
      " 1075596.70791621 1050627.8642522  1204922.41558321  995463.25974538\n",
      " 1088142.0871077   799460.23959754  971819.66648541  802494.5496189\n",
      "  873248.31977911 1377074.66846216 1126769.2165587  1296743.78979604\n",
      " 1428029.90013523 1353571.51503993 1551613.3661825  1870167.36617333\n",
      "  945377.67108676  710790.94715236 1592354.05062387 1457521.68812465\n",
      "  665293.0528918  1741289.90891965 1312595.57962704 1797321.608929\n",
      "  832969.14243004 1301176.01961274 1587725.58333995 1318699.33170176\n",
      " 1666447.72241923  935777.05928719 1701927.58311927 1164155.32273385\n",
      " 1554255.05395568 1203446.87910992 2181118.78739851 1049198.14491456\n",
      " 1085926.99469584  689411.06151653 1223176.10528946 1233904.42213407\n",
      " 1234880.24311795  932266.19802779 1500634.39786314 1274093.63851513\n",
      "  947815.88497822 1223610.51973574 1197160.5130264  1126946.82335696\n",
      " 1430747.46778867  654248.87675389  895866.30446303  295399.69488306\n",
      " 1322125.64281909  805657.05368656 1233978.08798728 1103566.72557378\n",
      "  908568.34660608 1128230.25174061 1744167.88103873  550543.38675743\n",
      "  886966.41486364 1317117.45083867 1103839.68234629 1267179.7653302\n",
      "  772553.19146969 1279534.28313729 1406729.26476247 1438104.85477689\n",
      " 1242822.02294991  976484.33424383  960014.03519111 1406729.66171789\n",
      " 1231876.84185406 1415047.23288106 1040129.89530192  406658.33678653\n",
      " 1832284.91334248  996334.86269578 1601723.84429602 1892875.04811313\n",
      "  838842.80829526  942625.41004584 2020169.2417123   893109.79422868\n",
      " 1103884.05089535 1855738.46260336 1374424.45735476 1347150.96898358\n",
      "  838857.66200893 1868234.85108955 1046613.81767551  837618.09036499]\n"
     ]
    }
   ],
   "source": [
    "# Predict\n",
    "y_pred = lin_reg.predict(x_test)\n",
    "print(y_pred.shape)\n",
    "print(y_pred)"
   ]
  },
  {
   "cell_type": "code",
   "execution_count": 53,
   "metadata": {
    "colab": {
     "base_uri": "https://localhost:8080/",
     "height": 480
    },
    "executionInfo": {
     "elapsed": 723,
     "status": "ok",
     "timestamp": 1690378125188,
     "user": {
      "displayName": "Muhammad Haris",
      "userId": "13172555328013255752"
     },
     "user_tz": -300
    },
    "id": "EA96LVylHBgJ",
    "outputId": "aaa25b7f-d80a-4718-d784-290bbccc170e"
   },
   "outputs": [
    {
     "data": {
      "image/png": "[encoded data removed]",
      "text/plain": [
       "<Figure size 1000x500 with 1 Axes>"
      ]
     },
     "metadata": {},
     "output_type": "display_data"
    }
   ],
   "source": [
    "sns.scatterplot(x=y_test, y=y_pred, color='blue', label='Actual Data points')\n",
    "plt.plot([min(y_test), max(y_test)], [min(y_test), max(y_test)], color='red', label='Ideal Line')\n",
    "plt.legend()\n",
    "plt.show()"
   ]
  },
  {
   "cell_type": "code",
   "execution_count": 54,
   "metadata": {
    "colab": {
     "base_uri": "https://localhost:8080/"
    },
    "executionInfo": {
     "elapsed": 459,
     "status": "ok",
     "timestamp": 1690378126658,
     "user": {
      "displayName": "Muhammad Haris",
      "userId": "13172555328013255752"
     },
     "user_tz": -300
    },
    "id": "YJCbUIQZEJ-h",
    "outputId": "e1c31419-b442-429e-ee8e-7874b282febb"
   },
   "outputs": [
    {
     "name": "stdout",
     "output_type": "stream",
     "text": [
      "Actual Values  |  Predicted Values\n",
      "-----------------------------\n",
      "    1251688.62 |    1257098.10\n",
      "     873048.32 |     822086.76\n",
      "    1696977.66 |    1739484.60\n",
      "    1063964.29 |     973128.93\n",
      "     948788.28 |     993918.46\n",
      "     730043.65 |     645734.60\n",
      "    1166925.15 |    1074412.82\n",
      "     705444.12 |     856463.98\n",
      "    1499988.88 |    1445048.63\n",
      "    1288199.15 |    1201847.72\n",
      "    1441736.76 |    1454475.52\n",
      "    1279681.15 |    1296582.99\n",
      "    1754969.16 |    1736858.05\n",
      "    1511653.45 |    1336694.59\n",
      "    1441956.20 |    1386280.01\n",
      "    1119992.62 |    1223122.35\n",
      "     727866.53 |     615840.79\n",
      "    1138885.10 |     964515.62\n",
      "    1074263.32 |    1222020.64\n",
      "    1386473.37 |    1197532.32\n",
      "     404643.60 |     506756.97\n",
      "    1449829.49 |    1767894.37\n",
      "    1775874.76 |    1854829.43\n",
      "    1202050.58 |    1198521.38\n",
      "    1105737.46 |    1065384.60\n",
      "    1835564.69 |    1810199.63\n",
      "    1795428.77 |    1767830.26\n",
      "    1424283.37 |    1440162.97\n",
      "    1365945.08 |    1386122.52\n",
      "    1492011.50 |    1539972.95\n",
      "     624432.97 |     729561.93\n",
      "    1827476.20 |    1754434.69\n",
      "    1575680.04 |    1465273.07\n",
      "    1051519.07 |    1026021.80\n",
      "    1454681.94 |    1283514.58\n",
      "     973197.78 |     917688.33\n",
      "    1166750.31 |    1185681.04\n",
      "     883021.90 |    1000137.90\n",
      "    1329800.05 |    1329344.80\n",
      "     743212.42 |     784262.30\n",
      "    1412144.51 |    1392528.48\n",
      "     723750.07 |     576569.30\n",
      "     728402.00 |     823465.14\n",
      "    1845325.36 |    1893895.24\n",
      "    1708127.58 |    1671565.74\n",
      "     922054.13 |     964720.06\n",
      "    1243879.83 |    1129280.91\n",
      "     882057.17 |     792574.97\n",
      "    1050239.90 |    1159381.44\n",
      "    1521141.35 |    1473209.25\n",
      "    1534111.58 |    1459527.32\n",
      "    1221823.70 |    1164492.86\n",
      "    1279803.95 |    1098752.99\n",
      "    1203623.84 |    1360158.14\n",
      "     776906.33 |     843194.09\n",
      "    1143377.60 |     985298.52\n",
      "    1148720.91 |    1123531.59\n",
      "    1129798.37 |    1252412.10\n",
      "    1388596.24 |    1426615.62\n",
      "     727366.95 |     500001.34\n",
      "    1500821.47 |    1461369.45\n",
      "    1059406.13 |    1106159.93\n",
      "     750119.73 |     660292.66\n",
      "    1246830.19 |    1247445.63\n",
      "    1445731.63 |    1342358.37\n",
      "    1352547.69 |    1358593.89\n",
      "     786430.90 |     816281.25\n",
      "    1400498.27 |    1485699.44\n",
      "    1454699.23 |    1397988.12\n",
      "     996924.69 |     885967.19\n",
      "     914325.03 |     858477.75\n",
      "    1324382.18 |    1213733.55\n",
      "    1211442.94 |    1102498.29\n",
      "    1740719.11 |    1838200.42\n",
      "     837540.17 |     924235.35\n",
      "     831471.53 |     856710.55\n",
      "     894203.57 |     823276.48\n",
      "    1295014.62 |    1397640.82\n",
      "     773360.70 |     777050.96\n",
      "    1735826.01 |    1638113.60\n",
      "    1089601.88 |    1079086.78\n",
      "    1560838.45 |    1356632.49\n",
      "    1359762.69 |    1320957.98\n",
      "    1348873.43 |    1197171.56\n",
      "     555811.41 |     758865.57\n",
      "     745523.84 |     651243.66\n",
      "     896303.80 |    1057553.46\n",
      "    1382172.29 |    1383409.63\n",
      "    1027311.51 |    1031206.94\n",
      "    1183272.51 |    1297479.96\n",
      "     674817.54 |     549966.59\n",
      "    1587350.29 |    1706825.71\n",
      "     861013.95 |     841736.61\n",
      "    1456969.58 |    1627733.58\n",
      "     920498.94 |    1050396.71\n",
      "     987004.08 |     948938.87\n",
      "    1237224.86 |    1187100.16\n",
      "    1390870.10 |    1557010.68\n",
      "     814879.21 |     901452.49\n",
      "    1086447.51 |     997238.67\n",
      "    1205212.29 |    1223286.22\n",
      "    1641226.58 |    1591630.92\n",
      "    1101239.49 |     978698.82\n",
      "    1443470.04 |    1428351.65\n",
      "     865816.68 |    1015434.65\n",
      "    1603268.21 |    1446520.01\n",
      "     792449.54 |     880186.04\n",
      "     939040.00 |     831008.29\n",
      "     897479.95 |    1023548.67\n",
      "    1898168.68 |    1845754.47\n",
      "    1877941.97 |    1926387.98\n",
      "    1321388.62 |    1405561.75\n",
      "    1218635.85 |    1042417.73\n",
      "    1046818.07 |    1054544.94\n",
      "    1462422.26 |    1442288.95\n",
      "    1020536.19 |    1029962.23\n",
      "    1356146.26 |    1186409.48\n",
      "    1474546.76 |    1407491.44\n",
      "    1167918.06 |    1265576.37\n",
      "    1794014.30 |    1563843.92\n",
      "     689155.57 |     765803.99\n",
      "    1190213.51 |    1394401.47\n",
      "    2120888.35 |    2083228.78\n",
      "    1472809.49 |    1468229.34\n",
      "    1172188.19 |    1326314.16\n",
      "    1315828.86 |    1314447.97\n",
      "     911656.11 |     919625.53\n",
      "     685775.60 |     782380.97\n",
      "    1856211.35 |    1677493.11\n",
      "    1079000.32 |    1173641.32\n",
      "     936864.69 |     862979.45\n",
      "     714148.41 |     829973.20\n",
      "    1523915.14 |    1551093.28\n",
      "     842235.80 |     814088.07\n",
      "     686644.61 |     629087.72\n",
      "    1085534.18 |    1229734.69\n",
      "    1064939.52 |    1007824.20\n",
      "    1072253.83 |    1134517.82\n",
      "    1760880.45 |    1760419.71\n",
      "    1186019.80 |    1185969.71\n",
      "     481391.64 |     590519.78\n",
      "    1481940.76 |    1392510.50\n",
      "    1574181.73 |    1381448.65\n",
      "    1816152.27 |    1725628.40\n",
      "    1110394.03 |    1171125.23\n",
      "    1030729.58 |    1021769.70\n",
      "    1727982.99 |    1732382.79\n",
      "    1309937.40 |    1095320.12\n",
      "    1554301.94 |    1641664.86\n",
      "    1419536.26 |    1424629.01\n",
      "    1309829.94 |    1371128.47\n",
      "    1012321.57 |     958990.41\n",
      "    1705889.89 |    1758291.66\n",
      "    1028683.04 |    1213703.54\n",
      "    1110525.99 |    1230795.71\n",
      "     839745.68 |     949573.54\n",
      "    1240754.93 |    1241838.95\n",
      "    1341449.57 |    1261011.75\n",
      "    1366405.97 |    1278217.39\n",
      "    1014226.30 |    1125478.76\n",
      "    1512578.55 |    1513182.23\n",
      "    1699952.81 |    1559804.92\n",
      "     925394.14 |     797449.64\n",
      "    1626368.67 |    1547262.13\n",
      "    1280910.19 |    1278736.65\n",
      "    1110931.83 |    1047589.66\n",
      "    1239459.81 |    1260392.64\n",
      "    1676172.30 |    1646590.02\n",
      "     937628.35 |    1109660.27\n",
      "     483986.11 |     476220.07\n",
      "    1473071.95 |    1648679.68\n",
      "    1336377.83 |    1314294.93\n",
      "    1739761.37 |    1664562.48\n",
      "    1599911.37 |    1675635.80\n",
      "    1673294.25 |    1690852.65\n",
      "    1808341.47 |    1810535.96\n",
      "    1669681.23 |    1555415.75\n",
      "     777144.25 |     872651.68\n",
      "    1229702.95 |    1382432.68\n",
      "    1479295.57 |    1587824.08\n",
      "    1213351.63 |    1393209.77\n",
      "    1188255.08 |    1125235.06\n",
      "    1406437.69 |    1454320.69\n",
      "     962591.66 |     893088.14\n",
      "     934408.71 |     928601.97\n",
      "    1098518.13 |    1125972.00\n",
      "    1063069.92 |    1189831.65\n",
      "    1064685.70 |    1093887.03\n",
      "    1404540.76 |    1353495.05\n",
      "    1102821.44 |    1105030.47\n",
      "    1053891.64 |    1040464.48\n",
      "    1817829.53 |    1840688.88\n",
      "    1128045.10 |    1270196.37\n",
      "    1182459.77 |    1196823.59\n",
      "    2050594.05 |    1981946.50\n",
      "    1057697.70 |    1172366.76\n",
      "     533386.77 |     664623.88\n",
      "    1578141.05 |    1515285.39\n",
      "    1239318.13 |    1208961.28\n",
      "    1182670.14 |    1121816.80\n",
      "    1598615.97 |    1735861.13\n",
      "     966084.42 |     868405.91\n",
      "    1025701.59 |     969754.34\n",
      "    1314770.47 |    1332364.62\n",
      "    1128895.12 |     909142.72\n",
      "    1473680.60 |    1330222.54\n",
      "    1440106.86 |    1265446.29\n",
      "     983994.27 |     971473.93\n",
      "    1065907.08 |    1241221.36\n",
      "    2059301.34 |    1989212.22\n",
      "    1471746.56 |    1502547.10\n",
      "    1161457.85 |    1143269.98\n",
      "    1825858.26 |    1891128.93\n",
      "    1693693.55 |    1544234.59\n",
      "    1246791.03 |    1257098.84\n",
      "    1167621.05 |    1267528.11\n",
      "    1405059.64 |    1336935.88\n",
      "     294170.75 |     251726.93\n",
      "    1181663.48 |    1127576.07\n",
      "    1085218.86 |    1253095.02\n",
      "    1418045.72 |    1363828.75\n",
      "    1661592.79 |    1729167.08\n",
      "     980141.22 |    1046793.19\n",
      "     885920.55 |    1054433.91\n",
      "    1445804.83 |    1426085.84\n",
      "     812512.24 |     932556.43\n",
      "     856383.50 |     867334.14\n",
      "    1739893.56 |    1649516.74\n",
      "    1384787.46 |    1181607.40\n",
      "    1353729.53 |    1340578.59\n",
      "     889845.60 |     818423.06\n",
      "    1494241.23 |    1561648.87\n",
      "    1290043.37 |    1348930.65\n",
      "    1813856.31 |    1813093.07\n",
      "    1306207.11 |    1262654.38\n",
      "    1165877.67 |    1220567.51\n",
      "     661043.36 |     649334.56\n",
      "    1273631.27 |    1331335.44\n",
      "     288708.91 |     394410.55\n",
      "    1317234.04 |    1282814.43\n",
      "    1238396.41 |    1354538.02\n",
      "    1605398.57 |    1593773.92\n",
      "     946182.05 |    1019091.93\n",
      "    1073857.07 |    1155879.32\n",
      "    1619721.72 |    1478767.27\n",
      "    1594415.23 |    1605540.47\n",
      "    1210184.02 |    1335689.46\n",
      "    1846350.02 |    1786774.38\n",
      "    1772390.55 |    1795658.29\n",
      "     989643.03 |     945957.99\n",
      "    1087802.89 |    1238608.98\n",
      "    1085101.32 |    1131981.48\n",
      "    1417691.11 |    1505069.17\n",
      "    1397341.86 |    1172502.38\n",
      "    1533492.80 |    1573047.28\n",
      "    1522083.94 |    1619486.96\n",
      "     266298.88 |     331259.66\n",
      "     492984.59 |     425396.75\n",
      "     729989.35 |     808174.05\n",
      "    1562887.22 |    1809043.01\n",
      "     965136.34 |    1161801.20\n",
      "    1249173.69 |    1288807.33\n",
      "     401148.57 |     487544.11\n",
      "    1351007.04 |    1355465.50\n",
      "    1723706.76 |    1791782.58\n",
      "     557228.78 |     528717.12\n",
      "    1000713.59 |     894564.98\n",
      "    1205706.71 |    1235034.80\n",
      "    1288490.27 |    1206220.27\n",
      "    1094574.19 |    1142472.94\n",
      "    1501497.53 |    1543751.21\n",
      "    1421216.50 |    1398422.80\n",
      "     818057.90 |     810341.11\n",
      "     828127.03 |     917407.47\n",
      "    1729559.81 |    1715661.78\n",
      "     982344.81 |    1073147.77\n",
      "    1122083.25 |    1264058.53\n",
      "    1620949.44 |    1564587.44\n",
      "    1176111.79 |    1152496.10\n",
      "    1194191.88 |    1086736.26\n",
      "    1518787.76 |    1720484.27\n",
      "    1385783.52 |    1400338.35\n",
      "    1122240.36 |    1096358.38\n",
      "    1671669.45 |    1645314.58\n",
      "    1135676.18 |    1062595.51\n",
      "    1859883.66 |    1730666.43\n",
      "    1214482.38 |    1040247.34\n",
      "    1506798.75 |    1360355.59\n",
      "    1518706.28 |    1346014.53\n",
      "    1289042.12 |    1331649.16\n",
      "     948366.97 |    1003151.29\n",
      "    1363106.13 |    1344979.99\n",
      "    1232209.48 |    1130910.76\n",
      "    1524621.73 |    1560673.51\n",
      "    1492786.63 |    1705060.85\n",
      "    1976170.09 |    2035370.64\n",
      "     806121.84 |     833072.34\n",
      "     961354.29 |    1043358.45\n",
      "    1202987.83 |    1136302.20\n",
      "     904785.16 |     934173.90\n",
      "    1217021.52 |    1371720.76\n",
      "     854812.26 |     815174.18\n",
      "    1281741.16 |    1250408.74\n",
      "    1446597.12 |    1363645.95\n",
      "    1460450.98 |    1497641.34\n",
      "    2275455.31 |    2229719.77\n",
      "     585608.63 |     778318.61\n",
      "    1178272.30 |    1191144.01\n",
      "    1002974.21 |    1095618.58\n",
      "    1367641.27 |    1271396.63\n",
      "    1580691.62 |    1627200.50\n",
      "     867044.96 |     920094.96\n",
      "    1158171.73 |    1007429.05\n",
      "    1551094.81 |    1593416.76\n",
      "     856261.62 |     846708.13\n",
      "     931358.00 |     849909.08\n",
      "     485533.68 |     573217.42\n",
      "    1869886.31 |    1802975.67\n",
      "    1381117.70 |    1486069.85\n",
      "    1726719.07 |    1683577.68\n",
      "    1244631.52 |    1230926.06\n",
      "    1270047.53 |    1355678.21\n",
      "    1250882.29 |    1096602.21\n",
      "    1228978.23 |    1191749.90\n",
      "    1052567.70 |    1125638.26\n",
      "     963655.58 |    1084213.15\n",
      "    1104701.23 |    1044089.96\n",
      "    2056692.77 |    2013152.77\n",
      "     805433.74 |     751261.17\n",
      "     984349.61 |    1126463.74\n",
      "    1537310.62 |    1353635.28\n",
      "    1481946.19 |    1583241.33\n",
      "    1107077.91 |    1130758.31\n",
      "    1049824.00 |    1127871.87\n",
      "    1656080.09 |    1557684.41\n",
      "    1510659.23 |    1471898.14\n",
      "    1168993.76 |    1169392.41\n",
      "    1014548.23 |    1057647.69\n",
      "    1914072.95 |    1727953.75\n",
      "    1082825.64 |    1097384.13\n",
      "    1919693.23 |    1878448.81\n",
      "    1012768.76 |     950448.34\n",
      "     152071.87 |     220138.60\n",
      "    1394518.42 |    1469453.19\n",
      "    1422195.88 |    1352042.49\n",
      "    1876746.49 |    1964792.22\n",
      "     503065.51 |     472146.96\n",
      "     942838.16 |    1079107.83\n",
      "    1454834.98 |    1397518.51\n",
      "    1037147.47 |    1035224.52\n",
      "     862865.82 |     789751.72\n",
      "    1538039.60 |    1446225.32\n",
      "    1202227.96 |    1101344.64\n",
      "    1748864.71 |    1691840.15\n",
      "    1211110.08 |    1104612.41\n",
      "    1080735.98 |    1078812.12\n",
      "    1591383.74 |    1709717.22\n",
      "    1020145.97 |    1133935.34\n",
      "     905435.84 |     873536.14\n",
      "     847387.21 |     872353.47\n",
      "     583016.79 |     567716.64\n",
      "    1574919.91 |    1540396.54\n",
      "    1282258.09 |    1214553.41\n",
      "    1809154.29 |    1751381.40\n",
      "     744291.03 |     777707.73\n",
      "    1143215.03 |    1004818.20\n",
      "    1558196.97 |    1700489.87\n",
      "     566645.86 |     613824.82\n",
      "    1324470.44 |    1240330.71\n",
      "    1555490.62 |    1591477.92\n",
      "    1347279.21 |    1330047.79\n",
      "    1115549.27 |    1110601.09\n",
      "    1153516.92 |    1279717.52\n",
      "     954114.54 |     897538.11\n",
      "     799124.85 |     812772.71\n",
      "    1638541.94 |    1550684.73\n",
      "    1177744.97 |    1359629.41\n",
      "    1249092.93 |    1253430.63\n",
      "    1323952.03 |    1231368.87\n",
      "    1455737.13 |    1498791.84\n",
      "    1121093.17 |     918340.09\n",
      "    1266747.83 |    1329029.44\n",
      "    1071109.92 |    1090705.38\n",
      "    1116351.75 |     959167.52\n",
      "    1245785.05 |    1062654.68\n",
      "     885204.98 |     939078.18\n",
      "     934111.64 |     969305.37\n",
      "    1155801.25 |    1044706.25\n",
      "    1689690.75 |    1646826.94\n",
      "    1078577.27 |    1168225.71\n",
      "    1045704.70 |    1312540.06\n",
      "    1560693.10 |    1622518.87\n",
      "    1192677.55 |    1120214.47\n",
      "    1474417.27 |    1293773.61\n",
      "    1464710.21 |    1364121.14\n",
      "     883147.47 |    1044056.04\n",
      "    1032043.21 |    1044779.48\n",
      "    1451658.88 |    1444510.33\n",
      "    1068492.61 |    1313953.59\n",
      "    1004430.32 |    1055632.98\n",
      "    1986811.17 |    1952741.57\n",
      "    1617114.94 |    1514919.05\n",
      "    1159953.59 |    1204078.31\n",
      "    1865071.41 |    1981914.52\n",
      "     547918.33 |     681468.70\n",
      "    1872191.55 |    1725226.83\n",
      "    1382998.25 |    1462720.94\n",
      "    1499243.17 |    1413052.03\n",
      "    1056976.97 |    1075596.71\n",
      "    1009854.70 |    1050627.86\n",
      "    1449409.44 |    1204922.42\n",
      "    1073355.78 |     995463.26\n",
      "    1151341.85 |    1088142.09\n",
      "     716344.63 |     799460.24\n",
      "     894251.07 |     971819.67\n",
      "     849008.70 |     802494.55\n",
      "     798639.65 |     873248.32\n",
      "    1450122.72 |    1377074.67\n",
      "    1111710.90 |    1126769.22\n",
      "    1409439.08 |    1296743.79\n",
      "    1521730.79 |    1428029.90\n",
      "    1198725.49 |    1353571.52\n",
      "    1430796.76 |    1551613.37\n",
      "    1924155.58 |    1870167.37\n",
      "     840272.86 |     945377.67\n",
      "     587007.84 |     710790.95\n",
      "    1660295.80 |    1592354.05\n",
      "    1603944.38 |    1457521.69\n",
      "     664465.33 |     665293.05\n",
      "    1792753.50 |    1741289.91\n",
      "    1360908.32 |    1312595.58\n",
      "    1774715.48 |    1797321.61\n",
      "     768541.92 |     832969.14\n",
      "    1206393.18 |    1301176.02\n",
      "    1656401.84 |    1587725.58\n",
      "    1222760.86 |    1318699.33\n",
      "    1550036.52 |    1666447.72\n",
      "     922514.09 |     935777.06\n",
      "    1638969.27 |    1701927.58\n",
      "    1063344.63 |    1164155.32\n",
      "    1591934.19 |    1554255.05\n",
      "    1228362.75 |    1203446.88\n",
      "    2115010.70 |    2181118.79\n",
      "     764756.09 |    1049198.14\n",
      "    1061552.02 |    1085926.99\n",
      "     839194.07 |     689411.06\n",
      "    1290755.04 |    1223176.11\n",
      "    1200653.35 |    1233904.42\n",
      "     990894.05 |    1234880.24\n",
      "     885709.76 |     932266.20\n",
      "    1467271.56 |    1500634.40\n",
      "    1218011.06 |    1274093.64\n",
      "    1051567.95 |     947815.88\n",
      "    1059033.56 |    1223610.52\n",
      "    1220276.55 |    1197160.51\n",
      "    1149524.70 |    1126946.82\n",
      "    1628490.79 |    1430747.47\n",
      "     685355.42 |     654248.88\n",
      "     982790.87 |     895866.30\n",
      "     231189.82 |     295399.69\n",
      "    1166333.89 |    1322125.64\n",
      "     737202.46 |     805657.05\n",
      "    1474466.88 |    1233978.09\n",
      "    1126137.68 |    1103566.73\n",
      "     997827.25 |     908568.35\n",
      "    1047452.51 |    1128230.25\n",
      "    1582261.70 |    1744167.88\n",
      "     449331.58 |     550543.39\n",
      "     886321.02 |     886966.41\n",
      "    1210026.03 |    1317117.45\n",
      "    1204117.42 |    1103839.68\n",
      "    1321257.25 |    1267179.77\n",
      "     652752.97 |     772553.19\n",
      "    1381482.69 |    1279534.28\n",
      "    1522143.64 |    1406729.26\n",
      "    1562573.06 |    1438104.85\n",
      "    1204939.90 |    1242822.02\n",
      "    1047012.27 |     976484.33\n",
      "     999970.68 |     960014.04\n",
      "    1340909.80 |    1406729.66\n",
      "    1347083.07 |    1231876.84\n",
      "    1473278.44 |    1415047.23\n",
      "     943309.45 |    1040129.90\n",
      "     461473.57 |     406658.34\n",
      "    1907859.06 |    1832284.91\n",
      "     863297.18 |     996334.86\n",
      "    1592768.24 |    1601723.84\n",
      "    2054897.01 |    1892875.05\n",
      "     729688.59 |     838842.81\n",
      "     997448.73 |     942625.41\n",
      "    1930143.83 |    2020169.24\n",
      "    1009972.08 |     893109.79\n",
      "     990725.65 |    1103884.05\n",
      "    1869113.61 |    1855738.46\n",
      "    1448995.11 |    1374424.46\n",
      "    1273120.26 |    1347150.97\n",
      "     658646.18 |     838857.66\n",
      "    1749820.01 |    1868234.85\n",
      "    1053484.87 |    1046613.82\n",
      "     809121.11 |     837618.09\n"
     ]
    }
   ],
   "source": [
    "# Combine actual and predicted values side by side\n",
    "results = np.column_stack((y_test, y_pred))\n",
    "\n",
    "# Printing the results\n",
    "print(\"Actual Values  |  Predicted Values\")\n",
    "print(\"-----------------------------\")\n",
    "for actual, predicted in results:\n",
    "    print(f\"{actual:14.2f} |  {predicted:12.2f}\")"
   ]
  },
  {
   "cell_type": "markdown",
   "metadata": {
    "id": "KDQK_sX9Rkml"
   },
   "source": [
    "## **Residual Analysis**\n",
    "Residual analysis in linear regression is a way to check how well the model fits the data. It involves looking at the differences (residuals) between the actual data points and the predictions from the model.\n",
    "\n",
    "In a good model, the residuals should be randomly scattered around zero on a plot. If there are patterns or a fan-like shape, it suggests the model may not be the best fit. Outliers, points far from the others, can also affect the model.\n",
    "\n",
    "Residual analysis helps ensure the model's accuracy and whether it meets the assumptions of linear regression. If issues are found, adjustments to the model may be needed to improve its performance."
   ]
  },
  {
   "cell_type": "code",
   "execution_count": 55,
   "metadata": {
    "colab": {
     "base_uri": "https://localhost:8080/"
    },
    "executionInfo": {
     "elapsed": 444,
     "status": "ok",
     "timestamp": 1690378128349,
     "user": {
      "displayName": "Muhammad Haris",
      "userId": "13172555328013255752"
     },
     "user_tz": -300
    },
    "id": "SmVVGDCGA1Wa",
    "outputId": "baa5ef21-f8c8-4048-92fb-c35c96555432"
   },
   "outputs": [
    {
     "name": "stdout",
     "output_type": "stream",
     "text": [
      "[-4.47976991e+05 -1.29656563e+04 -9.30363496e+05 -1.64007821e+05\n",
      " -1.84797352e+05  1.63386505e+05 -2.65291711e+05 -4.73428778e+04\n",
      " -6.35927528e+05 -3.92726613e+05 -6.45354412e+05 -4.87461883e+05\n",
      " -9.27736939e+05 -5.27573484e+05 -5.77158901e+05 -4.14001244e+05\n",
      "  1.93280320e+05 -1.55394518e+05 -4.12899532e+05 -3.88411212e+05\n",
      "  3.02364139e+05 -9.58773265e+05 -1.04570832e+06 -3.89400269e+05\n",
      " -2.56263495e+05 -1.00107852e+06 -9.58709156e+05 -6.31041869e+05\n",
      " -5.77001411e+05 -7.30851843e+05  7.95591739e+04 -9.45313588e+05\n",
      " -6.56151968e+05 -2.16900693e+05 -4.74393474e+05 -1.08567223e+05\n",
      " -3.76559930e+05 -1.91016790e+05 -5.20223693e+05  2.48588063e+04\n",
      " -5.83407371e+05  2.32551803e+05 -1.43440386e+04 -1.08477413e+06\n",
      " -8.62444634e+05 -1.55598956e+05 -3.20159803e+05  1.65461371e+04\n",
      " -3.50260334e+05 -6.64088141e+05 -6.50406212e+05 -3.55371754e+05\n",
      " -2.89631885e+05 -5.51037037e+05 -3.40729888e+04 -1.76177411e+05\n",
      " -3.14410480e+05 -4.43290991e+05 -6.17494513e+05  3.09119767e+05\n",
      " -6.52248349e+05 -2.97038825e+05  1.48828444e+05 -4.38324524e+05\n",
      " -5.33237263e+05 -5.49472781e+05 -7.16014292e+03 -6.76578333e+05\n",
      " -5.88867015e+05 -7.68460831e+04 -4.93566401e+04 -4.04612446e+05\n",
      " -2.93377186e+05 -1.02907932e+06 -1.15114247e+05 -4.75894398e+04\n",
      " -1.41553743e+04 -5.88519715e+05  3.20701423e+04 -8.28992498e+05\n",
      " -2.69965678e+05 -5.47511381e+05 -5.11836873e+05 -3.88050456e+05\n",
      "  5.02555382e+04  1.57877446e+05 -2.48432351e+05 -5.74288520e+05\n",
      " -2.22085837e+05 -4.88358859e+05  2.59154518e+05 -8.97704600e+05\n",
      " -3.26155040e+04 -8.18612475e+05 -2.41275602e+05 -1.39817760e+05\n",
      " -3.77979058e+05 -7.47889576e+05 -9.23313840e+04 -1.88117560e+05\n",
      " -4.14165119e+05 -7.82509817e+05 -1.69577714e+05 -6.19230540e+05\n",
      " -2.06313540e+05 -6.37398904e+05 -7.10649346e+04 -2.18871877e+04\n",
      " -2.14427566e+05 -1.03663337e+06 -1.11726687e+06 -5.96440647e+05\n",
      " -2.33296627e+05 -2.45423839e+05 -6.33167849e+05 -2.20841124e+05\n",
      " -3.77288376e+05 -5.98370330e+05 -4.56455263e+05 -7.54722815e+05\n",
      "  4.33171199e+04 -5.85280365e+05 -1.27410767e+06 -6.59108233e+05\n",
      " -5.17193058e+05 -5.05326867e+05 -1.10504422e+05  2.67401331e+04\n",
      " -8.68372008e+05 -3.64520217e+05 -5.38583439e+04 -2.08520939e+04\n",
      " -7.41972175e+05 -4.96696705e+03  1.80033386e+05 -4.20613581e+05\n",
      " -1.98703097e+05 -3.25396716e+05 -9.51298600e+05 -3.76848605e+05\n",
      "  2.18601329e+05 -5.83389397e+05 -5.72327544e+05 -9.16507292e+05\n",
      " -3.62004126e+05 -2.12648597e+05 -9.23261681e+05 -2.86199016e+05\n",
      " -8.32543749e+05 -6.15507904e+05 -5.62007369e+05 -1.49869308e+05\n",
      " -9.49170555e+05 -4.04582436e+05 -4.21674606e+05 -1.40452430e+05\n",
      " -4.32717841e+05 -4.51890640e+05 -4.69096287e+05 -3.16357650e+05\n",
      " -7.04061120e+05 -7.50683812e+05  1.16714688e+04 -7.38141029e+05\n",
      " -4.69615541e+05 -2.38468552e+05 -4.51271529e+05 -8.37468915e+05\n",
      " -3.00539163e+05  3.32901035e+05 -8.39558570e+05 -5.05173823e+05\n",
      " -8.55441376e+05 -8.66514697e+05 -8.81731541e+05 -1.00141485e+06\n",
      " -7.46294640e+05 -6.35305760e+04 -5.73311571e+05 -7.78702977e+05\n",
      " -5.84088666e+05 -3.16113954e+05 -6.45199587e+05 -8.39670359e+04\n",
      " -1.19480860e+05 -3.16850898e+05 -3.80710543e+05 -2.84765924e+05\n",
      " -5.44373943e+05 -2.95909369e+05 -2.31343370e+05 -1.03156778e+06\n",
      " -4.61075262e+05 -3.87702488e+05 -1.17282539e+06 -3.63245652e+05\n",
      "  1.44497221e+05 -7.06164279e+05 -3.99840170e+05 -3.12695697e+05\n",
      " -9.26740022e+05 -5.92848075e+04 -1.60633232e+05 -5.23243510e+05\n",
      " -1.00021618e+05 -5.21101430e+05 -4.56325182e+05 -1.62352824e+05\n",
      " -4.32100258e+05 -1.18009111e+06 -6.93425995e+05 -3.34148878e+05\n",
      " -1.08200782e+06 -7.35113486e+05 -4.47977729e+05 -4.58407002e+05\n",
      " -5.27814777e+05  5.57394179e+05 -3.18454968e+05 -4.43973919e+05\n",
      " -5.54707639e+05 -9.20045978e+05 -2.37672089e+05 -2.45312802e+05\n",
      " -6.16964730e+05 -1.23435321e+05 -5.82130304e+04 -8.40395633e+05\n",
      " -3.72486293e+05 -5.31457480e+05 -9.30195577e+03 -7.52527769e+05\n",
      " -5.39809549e+05 -1.00397197e+06 -4.53533270e+05 -4.11446403e+05\n",
      "  1.59786547e+05 -5.22214339e+05  4.14710552e+05 -4.73693322e+05\n",
      " -5.45416913e+05 -7.84652815e+05 -2.09970820e+05 -3.46758212e+05\n",
      " -6.69646165e+05 -7.96419363e+05 -5.26568358e+05 -9.77653273e+05\n",
      " -9.86537189e+05 -1.36836879e+05 -4.29487877e+05 -3.22860370e+05\n",
      " -6.95948060e+05 -3.63381273e+05 -7.63926178e+05 -8.10365854e+05\n",
      "  4.77861441e+05  3.83724356e+05  9.47051291e+02 -9.99921903e+05\n",
      " -3.52680092e+05 -4.79686221e+05  3.21576996e+05 -5.46344389e+05\n",
      " -9.82661477e+05  2.80403989e+05 -8.54438719e+04 -4.25913696e+05\n",
      " -3.97099168e+05 -3.33351839e+05 -7.34630106e+05 -5.89301697e+05\n",
      " -1.22000791e+03 -1.08286360e+05 -9.06540678e+05 -2.64026662e+05\n",
      " -4.54937420e+05 -7.55466330e+05 -3.43374993e+05 -2.77615154e+05\n",
      " -9.11363165e+05 -5.91217246e+05 -2.87237275e+05 -8.36193471e+05\n",
      " -2.53474407e+05 -9.21545322e+05 -2.31126230e+05 -5.51234489e+05\n",
      " -5.36893419e+05 -5.22528056e+05 -1.94030184e+05 -5.35858881e+05\n",
      " -3.21789651e+05 -7.51552408e+05 -8.95939744e+05 -1.22624953e+06\n",
      " -2.39512299e+04 -2.34237348e+05 -3.27181090e+05 -1.25052792e+05\n",
      " -5.62599650e+05 -6.05307027e+03 -4.41287634e+05 -5.54524840e+05\n",
      " -6.88520232e+05 -1.42059866e+06  3.08024940e+04 -3.82022909e+05\n",
      " -2.86497470e+05 -4.62275520e+05 -8.18079394e+05 -1.10973857e+05\n",
      " -1.98307943e+05 -7.84295652e+05 -3.75870221e+04 -4.07879729e+04\n",
      "  2.35903687e+05 -9.93854565e+05 -6.76948749e+05 -8.74456574e+05\n",
      " -4.21804952e+05 -5.46557106e+05 -2.87481103e+05 -3.82628798e+05\n",
      " -3.16517155e+05 -2.75092048e+05 -2.34968856e+05 -1.20403167e+06\n",
      "  5.78599383e+04 -3.17342633e+05 -5.44514178e+05 -7.74120220e+05\n",
      " -3.21637208e+05 -3.18750763e+05 -7.48563301e+05 -6.62777030e+05\n",
      " -3.60271304e+05 -2.48526581e+05 -9.18832643e+05 -2.88263019e+05\n",
      " -1.06932770e+06 -1.41327231e+05  5.88982504e+05 -6.60332082e+05\n",
      " -5.42921381e+05 -1.15567111e+06  3.36974143e+05 -2.69986728e+05\n",
      " -5.88397408e+05 -2.26103418e+05  1.93693873e+04 -6.37104212e+05\n",
      " -2.92223529e+05 -8.82719040e+05 -2.95491308e+05 -2.69691017e+05\n",
      " -9.00596113e+05 -3.24814232e+05 -6.44150389e+04 -6.32323614e+04\n",
      "  2.41404470e+05 -7.31275438e+05 -4.05432306e+05 -9.42260290e+05\n",
      "  3.14133780e+04 -1.95697092e+05 -8.91368761e+05  1.95296285e+05\n",
      " -4.31209604e+05 -7.82356814e+05 -5.20926686e+05 -3.01479981e+05\n",
      " -4.70596413e+05 -8.84169992e+04 -3.65160683e+03 -7.41563625e+05\n",
      " -5.50508302e+05 -4.44309523e+05 -4.22247763e+05 -6.89670737e+05\n",
      " -1.09218982e+05 -5.19908337e+05 -2.81584269e+05 -1.50046417e+05\n",
      " -2.53533573e+05 -1.29957071e+05 -1.60184268e+05 -2.35585143e+05\n",
      " -8.37705837e+05 -3.59104600e+05 -5.03418953e+05 -8.13397764e+05\n",
      " -3.11093369e+05 -4.84652508e+05 -5.55000033e+05 -2.34934938e+05\n",
      " -2.35658377e+05 -6.35389223e+05 -5.04832482e+05 -2.46511870e+05\n",
      " -1.14362047e+06 -7.05797941e+05 -3.94957202e+05 -1.17279342e+06\n",
      "  1.27652406e+05 -9.16105727e+05 -6.53599833e+05 -6.03930928e+05\n",
      " -2.66475602e+05 -2.41506758e+05 -3.95801310e+05 -1.86342154e+05\n",
      " -2.79020981e+05  9.66086625e+03 -1.62698561e+05  6.62655622e+03\n",
      " -6.41272139e+04 -5.67953563e+05 -3.17648111e+05 -4.87622684e+05\n",
      " -6.18908794e+05 -5.44450409e+05 -7.42492260e+05 -1.06104626e+06\n",
      " -1.36256565e+05  9.83301587e+04 -7.83232945e+05 -6.48400582e+05\n",
      "  1.43828053e+05 -9.32168803e+05 -5.03474474e+05 -9.88200503e+05\n",
      " -2.38480366e+04 -4.92054914e+05 -7.78604477e+05 -5.09578226e+05\n",
      " -8.57326617e+05 -1.26655953e+05 -8.92806477e+05 -3.55034217e+05\n",
      " -7.45133948e+05 -3.94325773e+05 -1.37199768e+06 -2.40077039e+05\n",
      " -2.76805889e+05  1.19710044e+05 -4.14054999e+05 -4.24783316e+05\n",
      " -4.25759137e+05 -1.23145092e+05 -6.91513292e+05 -4.64972533e+05\n",
      " -1.38694779e+05 -4.14489414e+05 -3.88039407e+05 -3.17825718e+05\n",
      " -6.21626362e+05  1.54872229e+05 -8.67451986e+04  5.13721411e+05\n",
      " -5.13004537e+05  3.46405216e+03 -4.24856982e+05 -2.94445620e+05\n",
      " -9.94472408e+04 -3.19109146e+05 -9.35046775e+05  2.58577719e+05\n",
      " -7.78453090e+04 -5.07996345e+05 -2.94718577e+05 -4.58058659e+05\n",
      "  3.65679144e+04 -4.70413177e+05 -5.97608159e+05 -6.28983749e+05\n",
      " -4.33700917e+05 -1.67363228e+05 -1.50892929e+05 -5.97608556e+05\n",
      " -4.22755736e+05 -6.05926127e+05 -2.31008789e+05  4.02462769e+05\n",
      " -1.02316381e+06 -1.87213757e+05 -7.92602738e+05 -1.08375394e+06\n",
      " -2.97217025e+04 -1.33504304e+05 -1.21104814e+06 -8.39886884e+04\n",
      " -2.94762945e+05 -1.04661736e+06 -5.65303352e+05 -5.38029863e+05\n",
      " -2.97365562e+04 -1.05911375e+06 -2.37492712e+05 -2.84969845e+04]\n"
     ]
    }
   ],
   "source": [
    "residual = actual- y_pred.reshape(-1)\n",
    "print(residual)"
   ]
  },
  {
   "cell_type": "code",
   "execution_count": 56,
   "metadata": {
    "colab": {
     "base_uri": "https://localhost:8080/",
     "height": 496
    },
    "executionInfo": {
     "elapsed": 617,
     "status": "ok",
     "timestamp": 1690378129365,
     "user": {
      "displayName": "Muhammad Haris",
      "userId": "13172555328013255752"
     },
     "user_tz": -300
    },
    "id": "wSQCP_2EBUyS",
    "outputId": "b65ec8b8-93af-4b78-efe3-488f05222c45"
   },
   "outputs": [
    {
     "data": {
      "text/plain": [
       "<Axes: ylabel='Density'>"
      ]
     },
     "execution_count": 56,
     "metadata": {},
     "output_type": "execute_result"
    },
    {
     "data": {
      "image/png": "[encoded data removed]",
      "text/plain": [
       "<Figure size 1000x500 with 1 Axes>"
      ]
     },
     "metadata": {},
     "output_type": "display_data"
    }
   ],
   "source": [
    "# Distribution plot for Residual (difference between actual and predicted values)\n",
    "sns.distplot(residual, kde=True)"
   ]
  },
  {
   "cell_type": "markdown",
   "metadata": {
    "id": "EmXzFPCbSTO1"
   },
   "source": [
    "It represents that our mode is not skewed as the distribution is center aligned but note the values of the X and Y axis they in power of 6. Which means the difference between actual and predicted value was high and but it is reduced to some extent. Which is Good."
   ]
  },
  {
   "cell_type": "markdown",
   "metadata": {
    "id": "JKdnRkiB-UkA"
   },
   "source": [
    "## **Model Evaluation**"
   ]
  },
  {
   "cell_type": "markdown",
   "metadata": {
    "id": "qqBqT1ThZCpg"
   },
   "source": [
    "# **Linear Regression**"
   ]
  },
  {
   "cell_type": "code",
   "execution_count": 57,
   "metadata": {
    "colab": {
     "base_uri": "https://localhost:8080/"
    },
    "executionInfo": {
     "elapsed": 1,
     "status": "ok",
     "timestamp": 1690378129957,
     "user": {
      "displayName": "Muhammad Haris",
      "userId": "13172555328013255752"
     },
     "user_tz": -300
    },
    "id": "KFK6_N60iiPd",
    "outputId": "745aaf96-9595-492f-8130-6235296f76e6"
   },
   "outputs": [
    {
     "name": "stdout",
     "output_type": "stream",
     "text": [
      "Linear Regression Model\n",
      "------------------------------------------------------------\n",
      "Mean Squared Error: 9839952411.801706\n",
      "Root Mean Squared Error: 99196.53427313732\n"
     ]
    }
   ],
   "source": [
    "# Score It\n",
    "from sklearn.metrics import mean_squared_error\n",
    "\n",
    "print('Linear Regression Model')\n",
    "# Results\n",
    "print('--'*30)\n",
    "# mean_squared_error(y_test, y_pred)\n",
    "mse = mean_squared_error(y_test, y_pred)\n",
    "rmse = np.sqrt(mse)\n",
    "\n",
    "# Print evaluation metrics\n",
    "print(\"Mean Squared Error:\", mse)\n",
    "print(\"Root Mean Squared Error:\", rmse)"
   ]
  },
  {
   "cell_type": "markdown",
   "metadata": {
    "id": "XPA1_j-mCHuJ"
   },
   "source": [
    "# **Decision Tree**"
   ]
  },
  {
   "cell_type": "code",
   "execution_count": 58,
   "metadata": {
    "colab": {
     "base_uri": "https://localhost:8080/"
    },
    "executionInfo": {
     "elapsed": 412,
     "status": "ok",
     "timestamp": 1690378141794,
     "user": {
      "displayName": "Muhammad Haris",
      "userId": "13172555328013255752"
     },
     "user_tz": -300
    },
    "id": "OtGtJ5zZseUY",
    "outputId": "6435314c-112d-4a76-a7ec-777efb4d5f37"
   },
   "outputs": [
    {
     "name": "stdout",
     "output_type": "stream",
     "text": [
      "Decision Tree Regression :  31251196708.60122\n"
     ]
    }
   ],
   "source": [
    "from sklearn.tree import DecisionTreeRegressor\n",
    "\n",
    "rf_regressor = DecisionTreeRegressor()\n",
    "rf_regressor.fit(x_train,y_train)\n",
    "\n",
    "#Predicting the SalePrices using test set\n",
    "y_pred_rf = rf_regressor.predict(x_test)\n",
    "\n",
    "DTr = mean_squared_error(y_pred_rf,y_test)\n",
    "#Random Forest Regression Accuracy with test set\n",
    "print('Decision Tree Regression : ',DTr)"
   ]
  },
  {
   "cell_type": "markdown",
   "metadata": {
    "id": "QU-Gk_S1CBvi"
   },
   "source": [
    "# **Random Forest**"
   ]
  },
  {
   "cell_type": "code",
   "execution_count": 59,
   "metadata": {
    "colab": {
     "base_uri": "https://localhost:8080/"
    },
    "executionInfo": {
     "elapsed": 3408,
     "status": "ok",
     "timestamp": 1690378150613,
     "user": {
      "displayName": "Muhammad Haris",
      "userId": "13172555328013255752"
     },
     "user_tz": -300
    },
    "id": "sOERhIdOpzmI",
    "outputId": "c87f6c86-a2c5-4926-be75-f0b1802e45d2"
   },
   "outputs": [
    {
     "name": "stdout",
     "output_type": "stream",
     "text": [
      "Random Forest Regression :  14497214033.126968\n"
     ]
    }
   ],
   "source": [
    "from sklearn.ensemble import RandomForestRegressor\n",
    "\n",
    "rf_regressor = RandomForestRegressor()\n",
    "rf_regressor.fit(x_train,y_train)\n",
    "\n",
    "#Predicting the SalePrices using test set\n",
    "y_pred_rf = rf_regressor.predict(x_test)\n",
    "RFr = mean_squared_error(y_pred_rf,y_test)\n",
    "#Random Forest Regression Accuracy with test set\n",
    "print('Random Forest Regression : ',RFr)"
   ]
  },
  {
   "cell_type": "markdown",
   "metadata": {
    "id": "xCEePXg1CMGZ"
   },
   "source": [
    "# **Gradient Boosting Regression**"
   ]
  },
  {
   "cell_type": "code",
   "execution_count": 60,
   "metadata": {
    "colab": {
     "base_uri": "https://localhost:8080/"
    },
    "executionInfo": {
     "elapsed": 2233,
     "status": "ok",
     "timestamp": 1690378173709,
     "user": {
      "displayName": "Muhammad Haris",
      "userId": "13172555328013255752"
     },
     "user_tz": -300
    },
    "id": "lrq7pJ4stQwh",
    "outputId": "2df9550a-3b68-4bbd-846c-55bb53816c5d"
   },
   "outputs": [
    {
     "name": "stdout",
     "output_type": "stream",
     "text": [
      "Gradient Boosting Regression :  12022949222.49841\n"
     ]
    }
   ],
   "source": [
    "from sklearn.ensemble import GradientBoostingRegressor\n",
    "\n",
    "rf_regressor = GradientBoostingRegressor()\n",
    "rf_regressor.fit(x_train,y_train)\n",
    "\n",
    "#Predicting the SalePrices using test set\n",
    "y_pred_rf = rf_regressor.predict(x_test)\n",
    "\n",
    "#Random Forest Regression Accuracy with test set\n",
    "GBr = mean_squared_error(y_pred_rf,y_test)\n",
    "print('Gradient Boosting Regression : ',GBr)"
   ]
  },
  {
   "cell_type": "code",
   "execution_count": 61,
   "metadata": {
    "colab": {
     "base_uri": "https://localhost:8080/"
    },
    "executionInfo": {
     "elapsed": 391,
     "status": "ok",
     "timestamp": 1690378366569,
     "user": {
      "displayName": "Muhammad Haris",
      "userId": "13172555328013255752"
     },
     "user_tz": -300
    },
    "id": "fL8XebaeYNvi",
    "outputId": "678694b8-fc32-4bf1-ba9a-61a30ab11678"
   },
   "outputs": [
    {
     "name": "stdout",
     "output_type": "stream",
     "text": [
      "Model Rankings (lower values are better):\n",
      "1. Linear Regression: 9839952411.801706\n",
      "2. Gradient Boosting: 12022949222.49841\n",
      "3. Random Forest: 14497214033.126968\n",
      "4. Descison Tree: 31251196708.60122\n"
     ]
    }
   ],
   "source": [
    "# Sample model scores (replace these with your actual model scores)\n",
    "model_scores = {\n",
    "    \"Linear Regression\": mse,\n",
    "    \"Descison Tree\": DTr,\n",
    "    \"Random Forest\":RFr,\n",
    "    \"Gradient Boosting\": GBr\n",
    "}\n",
    "\n",
    "# Sort the model scores in ascending order based on their values (lower values first)\n",
    "sorted_scores = sorted(model_scores.items(), key=lambda x: x[1])\n",
    "\n",
    "# Display the ranking of the models\n",
    "print(\"Model Rankings (lower values are better):\")\n",
    "for rank, (model_name, score) in enumerate(sorted_scores, start=1):\n",
    "    print(f\"{rank}. {model_name}: {score}\")\n"
   ]
  }
 ],
 "metadata": {
  "colab": {
   "provenance": []
  },
  "kernelspec": {
   "display_name": "Python 3 (ipykernel)",
   "language": "python",
   "name": "python3"
  },
  "language_info": {
   "codemirror_mode": {
    "name": "ipython",
    "version": 3
   },
   "file_extension": ".py",
   "mimetype": "text/x-python",
   "name": "python",
   "nbconvert_exporter": "python",
   "pygments_lexer": "ipython3",
   "version": "3.11.7"
  }
 },
 "nbformat": 4,
 "nbformat_minor": 4
}
