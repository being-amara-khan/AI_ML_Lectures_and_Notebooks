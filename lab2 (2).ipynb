{
 "cells": [
  {
   "cell_type": "code",
   "execution_count": 2,
   "id": "d3ab257c-3511-4606-b3f0-bdf6b512d7b6",
   "metadata": {},
   "outputs": [],
   "source": [
    "# string\n",
    "# int \n",
    "# float\n",
    "# bool"
   ]
  },
  {
   "cell_type": "code",
   "execution_count": 3,
   "id": "9523b234-d0cf-49ce-807f-b64bfdbfea84",
   "metadata": {},
   "outputs": [
    {
     "data": {
      "text/plain": [
       "3"
      ]
     },
     "execution_count": 3,
     "metadata": {},
     "output_type": "execute_result"
    }
   ],
   "source": [
    "3"
   ]
  },
  {
   "cell_type": "code",
   "execution_count": 4,
   "id": "3cf38937-8c85-41ee-93c9-e48bb0fd7494",
   "metadata": {},
   "outputs": [
    {
     "data": {
      "text/plain": [
       "3.5"
      ]
     },
     "execution_count": 4,
     "metadata": {},
     "output_type": "execute_result"
    }
   ],
   "source": [
    "3.5"
   ]
  },
  {
   "cell_type": "code",
   "execution_count": 5,
   "id": "64f3f365-f8b9-49a3-8eb5-31fc98743fce",
   "metadata": {},
   "outputs": [
    {
     "ename": "SyntaxError",
     "evalue": "invalid syntax (2796179316.py, line 1)",
     "output_type": "error",
     "traceback": [
      "\u001b[1;36m  Cell \u001b[1;32mIn[5], line 1\u001b[1;36m\u001b[0m\n\u001b[1;33m    3.5.5\u001b[0m\n\u001b[1;37m       ^\u001b[0m\n\u001b[1;31mSyntaxError\u001b[0m\u001b[1;31m:\u001b[0m invalid syntax\n"
     ]
    }
   ],
   "source": [
    "3.5.5"
   ]
  },
  {
   "cell_type": "code",
   "execution_count": 6,
   "id": "115ab83d-532d-4138-aa13-15295bc51cc6",
   "metadata": {},
   "outputs": [
    {
     "data": {
      "text/plain": [
       "6.5"
      ]
     },
     "execution_count": 6,
     "metadata": {},
     "output_type": "execute_result"
    }
   ],
   "source": [
    "3 + 3.5"
   ]
  },
  {
   "cell_type": "code",
   "execution_count": 7,
   "id": "67954eea-3bbc-4463-94d2-b2702ddab32c",
   "metadata": {},
   "outputs": [
    {
     "data": {
      "text/plain": [
       "'zain'"
      ]
     },
     "execution_count": 7,
     "metadata": {},
     "output_type": "execute_result"
    }
   ],
   "source": [
    "'zain'"
   ]
  },
  {
   "cell_type": "code",
   "execution_count": 8,
   "id": "7a30e191-0836-4221-92c0-b0d2268a0157",
   "metadata": {},
   "outputs": [
    {
     "data": {
      "text/plain": [
       "'zain'"
      ]
     },
     "execution_count": 8,
     "metadata": {},
     "output_type": "execute_result"
    }
   ],
   "source": [
    "\"zain\""
   ]
  },
  {
   "cell_type": "code",
   "execution_count": 9,
   "id": "d1077e30-ae17-4898-8585-6dd4c5902109",
   "metadata": {},
   "outputs": [
    {
     "data": {
      "text/plain": [
       "'zain45'"
      ]
     },
     "execution_count": 9,
     "metadata": {},
     "output_type": "execute_result"
    }
   ],
   "source": [
    "'zain45'"
   ]
  },
  {
   "cell_type": "code",
   "execution_count": 10,
   "id": "612e9b05-e849-46f1-be1e-b37414a56eb5",
   "metadata": {},
   "outputs": [
    {
     "ename": "SyntaxError",
     "evalue": "unterminated string literal (detected at line 1) (2477317762.py, line 1)",
     "output_type": "error",
     "traceback": [
      "\u001b[1;36m  Cell \u001b[1;32mIn[10], line 1\u001b[1;36m\u001b[0m\n\u001b[1;33m    'ahmad's house'\u001b[0m\n\u001b[1;37m                  ^\u001b[0m\n\u001b[1;31mSyntaxError\u001b[0m\u001b[1;31m:\u001b[0m unterminated string literal (detected at line 1)\n"
     ]
    }
   ],
   "source": [
    "'ahmad's house'"
   ]
  },
  {
   "cell_type": "code",
   "execution_count": 11,
   "id": "99f7a02c-d4fd-4178-a914-58221f23cb8f",
   "metadata": {},
   "outputs": [
    {
     "data": {
      "text/plain": [
       "\"ahmad's house\""
      ]
     },
     "execution_count": 11,
     "metadata": {},
     "output_type": "execute_result"
    }
   ],
   "source": [
    "\"ahmad's house\""
   ]
  },
  {
   "cell_type": "code",
   "execution_count": 12,
   "id": "6b923a80-5e1c-4849-b539-8797341fff93",
   "metadata": {},
   "outputs": [
    {
     "data": {
      "text/plain": [
       "\"ahmad's house\""
      ]
     },
     "execution_count": 12,
     "metadata": {},
     "output_type": "execute_result"
    }
   ],
   "source": [
    "'ahmad\\'s house'"
   ]
  },
  {
   "cell_type": "code",
   "execution_count": 13,
   "id": "858448ad-e521-4e04-acf5-934e382f2144",
   "metadata": {},
   "outputs": [
    {
     "ename": "SyntaxError",
     "evalue": "unterminated string literal (detected at line 1) (1047099242.py, line 1)",
     "output_type": "error",
     "traceback": [
      "\u001b[1;36m  Cell \u001b[1;32mIn[13], line 1\u001b[1;36m\u001b[0m\n\u001b[1;33m    'ahmad's'' house'\u001b[0m\n\u001b[1;37m                    ^\u001b[0m\n\u001b[1;31mSyntaxError\u001b[0m\u001b[1;31m:\u001b[0m unterminated string literal (detected at line 1)\n"
     ]
    }
   ],
   "source": [
    "'ahmad's'' house'"
   ]
  },
  {
   "cell_type": "code",
   "execution_count": 14,
   "id": "e8ff61cc-64eb-46f9-b1a7-1f48585de9e1",
   "metadata": {},
   "outputs": [
    {
     "data": {
      "text/plain": [
       "'Saqib \\n Aun \\n Zain'"
      ]
     },
     "execution_count": 14,
     "metadata": {},
     "output_type": "execute_result"
    }
   ],
   "source": [
    "\"Saqib \\n Aun \\n Zain\""
   ]
  },
  {
   "cell_type": "code",
   "execution_count": 15,
   "id": "6be476ae-71c0-451c-b172-4dfe170c18ad",
   "metadata": {},
   "outputs": [
    {
     "data": {
      "text/plain": [
       "' Zain\\nJunaid\\nHusnain'"
      ]
     },
     "execution_count": 15,
     "metadata": {},
     "output_type": "execute_result"
    }
   ],
   "source": [
    "\"\"\" Zain\n",
    "Junaid\n",
    "Husnain\"\"\""
   ]
  },
  {
   "cell_type": "code",
   "execution_count": 16,
   "id": "43ec41d3-1a9a-491e-8350-110475748c1b",
   "metadata": {},
   "outputs": [
    {
     "name": "stdout",
     "output_type": "stream",
     "text": [
      " Zain\n",
      "Junaid\n",
      "Husnain\n"
     ]
    }
   ],
   "source": [
    "print(\"\"\" Zain\n",
    "Junaid\n",
    "Husnain\"\"\")"
   ]
  },
  {
   "cell_type": "code",
   "execution_count": 17,
   "id": "2922e187-c136-4a73-afe1-1bd6cd733c99",
   "metadata": {},
   "outputs": [
    {
     "name": "stdout",
     "output_type": "stream",
     "text": [
      "Zain\n",
      "Junaid\n",
      "Husnain\n"
     ]
    }
   ],
   "source": [
    "print('Zain\\nJunaid\\nHusnain')"
   ]
  },
  {
   "cell_type": "code",
   "execution_count": 18,
   "id": "a8a94d44-e825-4e88-b4e0-dd2427205388",
   "metadata": {},
   "outputs": [
    {
     "ename": "SyntaxError",
     "evalue": "unexpected character after line continuation character (2501832770.py, line 1)",
     "output_type": "error",
     "traceback": [
      "\u001b[1;36m  Cell \u001b[1;32mIn[18], line 1\u001b[1;36m\u001b[0m\n\u001b[1;33m    print(Zain\\nJunaid\\nHusnain)\u001b[0m\n\u001b[1;37m               ^\u001b[0m\n\u001b[1;31mSyntaxError\u001b[0m\u001b[1;31m:\u001b[0m unexpected character after line continuation character\n"
     ]
    }
   ],
   "source": [
    "print(Zain\\nJunaid\\nHusnain)"
   ]
  },
  {
   "cell_type": "code",
   "execution_count": 19,
   "id": "15e4a176-bc43-4b9c-acea-7180f89f1157",
   "metadata": {},
   "outputs": [],
   "source": [
    "#bool"
   ]
  },
  {
   "cell_type": "code",
   "execution_count": 20,
   "id": "bad544f2-b1c3-41df-9a08-317b93dcc65a",
   "metadata": {},
   "outputs": [
    {
     "data": {
      "text/plain": [
       "True"
      ]
     },
     "execution_count": 20,
     "metadata": {},
     "output_type": "execute_result"
    }
   ],
   "source": [
    "True"
   ]
  },
  {
   "cell_type": "code",
   "execution_count": 21,
   "id": "7e6adac3-27df-482d-9d82-5044ba7e84bd",
   "metadata": {},
   "outputs": [
    {
     "data": {
      "text/plain": [
       "False"
      ]
     },
     "execution_count": 21,
     "metadata": {},
     "output_type": "execute_result"
    }
   ],
   "source": [
    "False"
   ]
  },
  {
   "cell_type": "code",
   "execution_count": 22,
   "id": "524921cf-b8dc-46c8-ba8e-420c0e09b28a",
   "metadata": {},
   "outputs": [],
   "source": [
    "a = 5"
   ]
  },
  {
   "cell_type": "code",
   "execution_count": 23,
   "id": "902e41ed-a993-4f84-adfa-dfb5c0f40de6",
   "metadata": {},
   "outputs": [],
   "source": [
    "b = 6"
   ]
  },
  {
   "cell_type": "code",
   "execution_count": 24,
   "id": "e20431bc-6b12-4661-82de-0b19f4210c0e",
   "metadata": {},
   "outputs": [
    {
     "data": {
      "text/plain": [
       "False"
      ]
     },
     "execution_count": 24,
     "metadata": {},
     "output_type": "execute_result"
    }
   ],
   "source": [
    "a > b"
   ]
  },
  {
   "cell_type": "code",
   "execution_count": 25,
   "id": "69c60cec-3ac2-46f9-841a-bf811dbb682a",
   "metadata": {},
   "outputs": [],
   "source": [
    "b = 5.0"
   ]
  },
  {
   "cell_type": "code",
   "execution_count": 26,
   "id": "2774a1cf-6d2f-4feb-b19e-45ee541cb553",
   "metadata": {},
   "outputs": [
    {
     "data": {
      "text/plain": [
       "False"
      ]
     },
     "execution_count": 26,
     "metadata": {},
     "output_type": "execute_result"
    }
   ],
   "source": [
    "a > b"
   ]
  },
  {
   "cell_type": "code",
   "execution_count": null,
   "id": "22e715d7-1d69-4d13-ad92-ac700819c88c",
   "metadata": {},
   "outputs": [],
   "source": []
  }
 ],
 "metadata": {
  "kernelspec": {
   "display_name": "Python 3 (ipykernel)",
   "language": "python",
   "name": "python3"
  },
  "language_info": {
   "codemirror_mode": {
    "name": "ipython",
    "version": 3
   },
   "file_extension": ".py",
   "mimetype": "text/x-python",
   "name": "python",
   "nbconvert_exporter": "python",
   "pygments_lexer": "ipython3",
   "version": "3.11.7"
  }
 },
 "nbformat": 4,
 "nbformat_minor": 5
}
