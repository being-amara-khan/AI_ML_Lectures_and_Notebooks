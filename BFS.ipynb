{
  "cells": [
    {
      "cell_type": "code",
      "execution_count": null,
      "id": "eb451e3a",
      "metadata": {
        "id": "eb451e3a"
      },
      "outputs": [],
      "source": [
        "#BreathFirstSearch\n",
        "graph={\n",
        "  'A':['B','C'],\n",
        "  'B':['D','E'],\n",
        "  'C':['F','G'],\n",
        "  'D':[],\n",
        "  'E':[],\n",
        "  'F':[] ,\n",
        "  'G':['H'],\n",
        "  'H':[]\n",
        "}"
      ]
    },
    {
      "cell_type": "code",
      "execution_count": null,
      "id": "b59acd1d",
      "metadata": {
        "id": "b59acd1d"
      },
      "outputs": [],
      "source": [
        "def BreathFirstSearch(graph,initial):\n",
        "    visited=[]\n",
        "    queue=[initial]\n",
        "\n",
        "    while queue:\n",
        "        node=queue.pop(0)\n",
        "        if node not in visited:\n",
        "            visited.append(node)\n",
        "            neighbours=graph[node]\n",
        "            for neighbour in neighbours:\n",
        "                queue.append(neighbour)\n",
        "    return visited"
      ]
    },
    {
      "cell_type": "code",
      "execution_count": null,
      "id": "57f6e370",
      "metadata": {
        "id": "57f6e370",
        "outputId": "858b141f-7e4e-4eac-c7e1-7e2e82472e6c"
      },
      "outputs": [
        {
          "name": "stdout",
          "output_type": "stream",
          "text": [
            "['A', 'B', 'C', 'D', 'E', 'F', 'G', 'H']\n"
          ]
        }
      ],
      "source": [
        "bfs=BreathFirstSearch(graph,'A')\n",
        "print(bfs)"
      ]
    }
  ],
  "metadata": {
    "kernelspec": {
      "display_name": "Python 3",
      "language": "python",
      "name": "python3"
    },
    "language_info": {
      "codemirror_mode": {
        "name": "ipython",
        "version": 3
      },
      "file_extension": ".py",
      "mimetype": "text/x-python",
      "name": "python",
      "nbconvert_exporter": "python",
      "pygments_lexer": "ipython3",
      "version": "3.8.8"
    },
    "colab": {
      "provenance": []
    }
  },
  "nbformat": 4,
  "nbformat_minor": 5
}