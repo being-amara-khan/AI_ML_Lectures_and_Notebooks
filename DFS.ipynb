{
  "cells": [
    {
      "cell_type": "code",
      "execution_count": null,
      "id": "6616a939",
      "metadata": {
        "id": "6616a939"
      },
      "outputs": [],
      "source": [
        "#DepthFirstSearch\n",
        "graph={\n",
        "    'A':['B','E'],\n",
        "    'B':['A','C','D'],\n",
        "    'C':['B','G'],\n",
        "    'D':['B','E','F'],\n",
        "    'E':['A','D'],\n",
        "    'F':['D'],\n",
        "    'G':['C']\n",
        "}"
      ]
    },
    {
      "cell_type": "code",
      "execution_count": null,
      "id": "1ee301ee",
      "metadata": {
        "id": "1ee301ee",
        "outputId": "3aef69f1-5109-4d9f-852f-b4d146a943fb"
      },
      "outputs": [
        {
          "name": "stdout",
          "output_type": "stream",
          "text": [
            "A\n",
            "C\n",
            "D\n"
          ]
        }
      ],
      "source": [
        "for i in graph['B']:\n",
        "    print(i)"
      ]
    },
    {
      "cell_type": "code",
      "execution_count": null,
      "id": "f1c155fb",
      "metadata": {
        "id": "f1c155fb"
      },
      "outputs": [],
      "source": [
        "VisitedList=[]\n",
        "\n",
        "def DepthFirstSearch(graph,CurrentVertex,visited):\n",
        "    VisitedList.append(CurrentVertex)\n",
        "    for i in graph[CurrentVertex]:\n",
        "        if i not in visited:\n",
        "            DepthFirstSearch(graph,i,visited)\n",
        "    return visited"
      ]
    },
    {
      "cell_type": "code",
      "execution_count": null,
      "id": "addbf3e3",
      "metadata": {
        "id": "addbf3e3",
        "outputId": "a921ab22-d67d-4755-e361-f5a45d8f64db"
      },
      "outputs": [
        {
          "name": "stdout",
          "output_type": "stream",
          "text": [
            "['E', 'A', 'B', 'C', 'G', 'D', 'F']\n"
          ]
        }
      ],
      "source": [
        "dfs=DepthFirstSearch(graph,'E',VisitedList)\n",
        "print(dfs)"
      ]
    },
    {
      "cell_type": "code",
      "execution_count": null,
      "id": "b22e4ad1",
      "metadata": {
        "id": "b22e4ad1"
      },
      "outputs": [],
      "source": []
    }
  ],
  "metadata": {
    "kernelspec": {
      "display_name": "Python 3",
      "language": "python",
      "name": "python3"
    },
    "language_info": {
      "codemirror_mode": {
        "name": "ipython",
        "version": 3
      },
      "file_extension": ".py",
      "mimetype": "text/x-python",
      "name": "python",
      "nbconvert_exporter": "python",
      "pygments_lexer": "ipython3",
      "version": "3.8.8"
    },
    "colab": {
      "provenance": []
    }
  },
  "nbformat": 4,
  "nbformat_minor": 5
}