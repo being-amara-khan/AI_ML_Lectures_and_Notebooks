{
 "cells": [
  {
   "cell_type": "code",
   "execution_count": 39,
   "id": "3a5ab614-0f74-4eed-b6fe-581eac598571",
   "metadata": {},
   "outputs": [],
   "source": [
    "a = [1,2,3,4.5,5.3,6.8,'a','b','c',False]"
   ]
  },
  {
   "cell_type": "code",
   "execution_count": 40,
   "id": "9d457e4b-05de-478d-aee4-f6e06dcdbad4",
   "metadata": {},
   "outputs": [
    {
     "name": "stdout",
     "output_type": "stream",
     "text": [
      "[1, 2, 3, 4.5, 5.3, 6.8, 'a', 'b', 'c', False]\n",
      "<class 'list'>\n"
     ]
    }
   ],
   "source": [
    "print(a)\n",
    "print(type(a))"
   ]
  },
  {
   "cell_type": "code",
   "execution_count": 41,
   "id": "d08b1330-23d0-416b-bd90-4de2545d904c",
   "metadata": {},
   "outputs": [],
   "source": [
    "a[0] = 'Irtaza'"
   ]
  },
  {
   "cell_type": "code",
   "execution_count": 42,
   "id": "36bee13e-1f87-48a6-b697-0c83c27d790c",
   "metadata": {},
   "outputs": [
    {
     "name": "stdout",
     "output_type": "stream",
     "text": [
      "['Irtaza', 2, 3, 4.5, 5.3, 6.8, 'a', 'b', 'c', False]\n"
     ]
    }
   ],
   "source": [
    "print(a)"
   ]
  },
  {
   "cell_type": "code",
   "execution_count": 43,
   "id": "79f4f5a2-0296-4e48-8859-bc8f9a2f57aa",
   "metadata": {},
   "outputs": [
    {
     "name": "stdout",
     "output_type": "stream",
     "text": [
      "5.3\n"
     ]
    }
   ],
   "source": [
    "print(a[4])"
   ]
  },
  {
   "cell_type": "code",
   "execution_count": 44,
   "id": "e6900c9b-7ed3-4620-ba1d-f4c4e8958369",
   "metadata": {},
   "outputs": [
    {
     "name": "stdout",
     "output_type": "stream",
     "text": [
      "5.3\n"
     ]
    }
   ],
   "source": [
    "print(a[-6])"
   ]
  },
  {
   "cell_type": "code",
   "execution_count": 45,
   "id": "900a1ec7-f383-4ddc-8122-aa81ffea7e3f",
   "metadata": {},
   "outputs": [
    {
     "data": {
      "text/plain": [
       "['Irtaza', 2, 3, 4.5, 5.3, 6.8, 'a', 'b', 'c', False]"
      ]
     },
     "execution_count": 45,
     "metadata": {},
     "output_type": "execute_result"
    }
   ],
   "source": [
    "a"
   ]
  },
  {
   "cell_type": "code",
   "execution_count": 46,
   "id": "a7d147ed-21db-4c7a-bd7c-3a57ebb2edff",
   "metadata": {},
   "outputs": [
    {
     "data": {
      "text/plain": [
       "[4.5, 5.3, 6.8, 'a', 'b', 'c', False]"
      ]
     },
     "execution_count": 46,
     "metadata": {},
     "output_type": "execute_result"
    }
   ],
   "source": [
    "a[3:]"
   ]
  },
  {
   "cell_type": "code",
   "execution_count": 47,
   "id": "58af2d9d-9090-492b-883c-1a6e22476a59",
   "metadata": {},
   "outputs": [
    {
     "data": {
      "text/plain": [
       "[4.5, 5.3, 6.8, 'a']"
      ]
     },
     "execution_count": 47,
     "metadata": {},
     "output_type": "execute_result"
    }
   ],
   "source": [
    "a[3:7]"
   ]
  },
  {
   "cell_type": "code",
   "execution_count": 48,
   "id": "0f06e3ca-da5f-41a6-a478-f040347a2ca6",
   "metadata": {},
   "outputs": [
    {
     "data": {
      "text/plain": [
       "[4.5, 'a']"
      ]
     },
     "execution_count": 48,
     "metadata": {},
     "output_type": "execute_result"
    }
   ],
   "source": [
    "a[3:7:3]"
   ]
  },
  {
   "cell_type": "code",
   "execution_count": 49,
   "id": "cdc7ef2c-cded-4bdd-98cf-4b3b7c32724f",
   "metadata": {},
   "outputs": [
    {
     "data": {
      "text/plain": [
       "[4.5, 'a', False]"
      ]
     },
     "execution_count": 49,
     "metadata": {},
     "output_type": "execute_result"
    }
   ],
   "source": [
    "a[3::3]"
   ]
  },
  {
   "cell_type": "code",
   "execution_count": 50,
   "id": "86342dee-f471-4503-89a0-4e690da58b5c",
   "metadata": {},
   "outputs": [
    {
     "data": {
      "text/plain": [
       "['Irtaza', 2, 3, 4.5, 5.3, 6.8, 'a', 'b', 'c', False]"
      ]
     },
     "execution_count": 50,
     "metadata": {},
     "output_type": "execute_result"
    }
   ],
   "source": [
    "a"
   ]
  },
  {
   "cell_type": "code",
   "execution_count": 51,
   "id": "ab5e8ed4-f12a-4c03-b467-769f6033db35",
   "metadata": {},
   "outputs": [
    {
     "name": "stdout",
     "output_type": "stream",
     "text": [
      "[5.3, 6.8, 'a', 'b', 'c', False]\n"
     ]
    }
   ],
   "source": [
    "print(a[4:])"
   ]
  },
  {
   "cell_type": "code",
   "execution_count": 52,
   "id": "bc8d3fd5-5e3b-4881-86d0-2ae9862300cb",
   "metadata": {},
   "outputs": [
    {
     "name": "stdout",
     "output_type": "stream",
     "text": [
      "[5.3, 6.8, 'a', 'b']\n"
     ]
    }
   ],
   "source": [
    "print(a[4:8])"
   ]
  },
  {
   "cell_type": "code",
   "execution_count": 53,
   "id": "288003a3-39ed-4e19-b84c-2bf84dee72c7",
   "metadata": {},
   "outputs": [
    {
     "name": "stdout",
     "output_type": "stream",
     "text": [
      "['Irtaza', 2, 3, 4.5, 5.3, 6.8, 'a', 'b', 'c', False]\n"
     ]
    }
   ],
   "source": [
    "print(a[:])"
   ]
  },
  {
   "cell_type": "code",
   "execution_count": 54,
   "id": "24a459a0-5a0e-4da1-99f9-e739eb42ee6b",
   "metadata": {},
   "outputs": [
    {
     "name": "stdout",
     "output_type": "stream",
     "text": [
      "[5.3, 6.8, 'a', 'b']\n"
     ]
    }
   ],
   "source": [
    "print(a[-6:-2])"
   ]
  },
  {
   "cell_type": "code",
   "execution_count": 55,
   "id": "572d9a1a-955d-42a6-847b-514d9b94f096",
   "metadata": {},
   "outputs": [
    {
     "name": "stdout",
     "output_type": "stream",
     "text": [
      "[]\n"
     ]
    }
   ],
   "source": [
    "print(a[-2:-6])"
   ]
  },
  {
   "cell_type": "code",
   "execution_count": 56,
   "id": "e1782b98-a2a5-49af-83e3-5f8859ce5b92",
   "metadata": {},
   "outputs": [
    {
     "name": "stdout",
     "output_type": "stream",
     "text": [
      "['Irtaza', 2, 3, 4.5, 5.3, 6.8]\n"
     ]
    }
   ],
   "source": [
    "print(a[:6])"
   ]
  },
  {
   "cell_type": "code",
   "execution_count": 57,
   "id": "6156acf9-9de6-4c10-90e5-a5aa96261493",
   "metadata": {},
   "outputs": [
    {
     "name": "stdout",
     "output_type": "stream",
     "text": [
      "['a', 'b', 'c', False]\n"
     ]
    }
   ],
   "source": [
    "print(a[6:])"
   ]
  },
  {
   "cell_type": "code",
   "execution_count": 58,
   "id": "ba68e7f5-8217-4f55-bac4-6a1fb5694894",
   "metadata": {},
   "outputs": [
    {
     "data": {
      "text/plain": [
       "['Irtaza', 2, 3, 4.5, 5.3, 6.8, 'a', 'b', 'c', False]"
      ]
     },
     "execution_count": 58,
     "metadata": {},
     "output_type": "execute_result"
    }
   ],
   "source": [
    "a"
   ]
  },
  {
   "cell_type": "code",
   "execution_count": 59,
   "id": "9505bfea-c254-46b5-a0c8-c173cc7763be",
   "metadata": {},
   "outputs": [],
   "source": [
    "a[4] = 10"
   ]
  },
  {
   "cell_type": "code",
   "execution_count": 60,
   "id": "4454dd7e-c857-4261-8ea3-991559024513",
   "metadata": {},
   "outputs": [
    {
     "data": {
      "text/plain": [
       "['Irtaza', 2, 3, 4.5, 10, 6.8, 'a', 'b', 'c', False]"
      ]
     },
     "execution_count": 60,
     "metadata": {},
     "output_type": "execute_result"
    }
   ],
   "source": [
    "a"
   ]
  },
  {
   "cell_type": "code",
   "execution_count": 61,
   "id": "50c65aa2-57e8-44c5-a894-9cfb9442831e",
   "metadata": {},
   "outputs": [
    {
     "data": {
      "text/plain": [
       "['__add__',\n",
       " '__class__',\n",
       " '__class_getitem__',\n",
       " '__contains__',\n",
       " '__delattr__',\n",
       " '__delitem__',\n",
       " '__dir__',\n",
       " '__doc__',\n",
       " '__eq__',\n",
       " '__format__',\n",
       " '__ge__',\n",
       " '__getattribute__',\n",
       " '__getitem__',\n",
       " '__getstate__',\n",
       " '__gt__',\n",
       " '__hash__',\n",
       " '__iadd__',\n",
       " '__imul__',\n",
       " '__init__',\n",
       " '__init_subclass__',\n",
       " '__iter__',\n",
       " '__le__',\n",
       " '__len__',\n",
       " '__lt__',\n",
       " '__mul__',\n",
       " '__ne__',\n",
       " '__new__',\n",
       " '__reduce__',\n",
       " '__reduce_ex__',\n",
       " '__repr__',\n",
       " '__reversed__',\n",
       " '__rmul__',\n",
       " '__setattr__',\n",
       " '__setitem__',\n",
       " '__sizeof__',\n",
       " '__str__',\n",
       " '__subclasshook__',\n",
       " 'append',\n",
       " 'clear',\n",
       " 'copy',\n",
       " 'count',\n",
       " 'extend',\n",
       " 'index',\n",
       " 'insert',\n",
       " 'pop',\n",
       " 'remove',\n",
       " 'reverse',\n",
       " 'sort']"
      ]
     },
     "execution_count": 61,
     "metadata": {},
     "output_type": "execute_result"
    }
   ],
   "source": [
    "dir(a)"
   ]
  },
  {
   "cell_type": "code",
   "execution_count": 62,
   "id": "07b8c3f0-e5fd-45ff-a411-36b80234055b",
   "metadata": {},
   "outputs": [
    {
     "data": {
      "text/plain": [
       "['Irtaza', 2, 3, 4.5, 10, 6.8, 'a', 'b', 'c', False]"
      ]
     },
     "execution_count": 62,
     "metadata": {},
     "output_type": "execute_result"
    }
   ],
   "source": [
    "a"
   ]
  },
  {
   "cell_type": "code",
   "execution_count": 63,
   "id": "35ecd932-f6b2-48eb-90fc-42c5bbe85912",
   "metadata": {},
   "outputs": [],
   "source": [
    "a.insert(4, 'Hello World')"
   ]
  },
  {
   "cell_type": "code",
   "execution_count": 64,
   "id": "3a2234e6-74a6-4a2a-86bb-1222aebf264a",
   "metadata": {},
   "outputs": [
    {
     "data": {
      "text/plain": [
       "['Irtaza', 2, 3, 4.5, 'Hello World', 10, 6.8, 'a', 'b', 'c', False]"
      ]
     },
     "execution_count": 64,
     "metadata": {},
     "output_type": "execute_result"
    }
   ],
   "source": [
    "a"
   ]
  },
  {
   "cell_type": "code",
   "execution_count": 65,
   "id": "94b0ee65-a112-4dd4-b19f-f1b014fc0148",
   "metadata": {},
   "outputs": [
    {
     "data": {
      "text/plain": [
       "[2, 3]"
      ]
     },
     "execution_count": 65,
     "metadata": {},
     "output_type": "execute_result"
    }
   ],
   "source": [
    "a[1:3]"
   ]
  },
  {
   "cell_type": "code",
   "execution_count": 66,
   "id": "52a7561a-b719-4170-8d78-072d0d8fc113",
   "metadata": {},
   "outputs": [],
   "source": [
    "a[1:3] = ['Ahmad','Shamoeil']"
   ]
  },
  {
   "cell_type": "code",
   "execution_count": 67,
   "id": "56296d23-2702-4641-9234-c81e42c6e428",
   "metadata": {},
   "outputs": [
    {
     "name": "stdout",
     "output_type": "stream",
     "text": [
      "['Irtaza', 'Ahmad', 'Shamoeil', 4.5, 'Hello World', 10, 6.8, 'a', 'b', 'c', False]\n"
     ]
    }
   ],
   "source": [
    "print(a)"
   ]
  },
  {
   "cell_type": "code",
   "execution_count": 68,
   "id": "82b2366a-53c1-45e6-a683-95c8267248e2",
   "metadata": {},
   "outputs": [],
   "source": [
    "a[3:5] = ['5','7']"
   ]
  },
  {
   "cell_type": "code",
   "execution_count": 69,
   "id": "0cdb9361-1c11-4ed0-ba5f-70e80d2f2505",
   "metadata": {},
   "outputs": [
    {
     "data": {
      "text/plain": [
       "['Irtaza', 'Ahmad', 'Shamoeil', '5', '7', 10, 6.8, 'a', 'b', 'c', False]"
      ]
     },
     "execution_count": 69,
     "metadata": {},
     "output_type": "execute_result"
    }
   ],
   "source": [
    "a"
   ]
  },
  {
   "cell_type": "code",
   "execution_count": null,
   "id": "d964179c-a464-4956-90ff-0efc234cb34a",
   "metadata": {},
   "outputs": [],
   "source": []
  },
  {
   "cell_type": "code",
   "execution_count": 70,
   "id": "c4d4c9e7-d22e-4557-b876-51d603d9f7f5",
   "metadata": {},
   "outputs": [],
   "source": [
    "a[0:1] = [True,False,False]"
   ]
  },
  {
   "cell_type": "code",
   "execution_count": 71,
   "id": "588a7fd4-ffb2-4e3e-b02e-872fe938fa9c",
   "metadata": {},
   "outputs": [
    {
     "name": "stdout",
     "output_type": "stream",
     "text": [
      "[True, False, False, 'Ahmad', 'Shamoeil', '5', '7', 10, 6.8, 'a', 'b', 'c', False]\n"
     ]
    }
   ],
   "source": [
    "print(a)"
   ]
  },
  {
   "cell_type": "code",
   "execution_count": 72,
   "id": "d09f4f90-2525-41f4-a2bf-6b77f46504ff",
   "metadata": {},
   "outputs": [],
   "source": [
    "a[0:8] = ['SectionC']"
   ]
  },
  {
   "cell_type": "code",
   "execution_count": 73,
   "id": "fb40a8ab-3055-41a6-9b66-199c8bb6e561",
   "metadata": {},
   "outputs": [
    {
     "data": {
      "text/plain": [
       "['SectionC', 6.8, 'a', 'b', 'c', False]"
      ]
     },
     "execution_count": 73,
     "metadata": {},
     "output_type": "execute_result"
    }
   ],
   "source": [
    "a"
   ]
  },
  {
   "cell_type": "code",
   "execution_count": 74,
   "id": "5fd3087d-56df-4593-b99a-5d07d28bd050",
   "metadata": {},
   "outputs": [],
   "source": [
    "a.append('Hassan')"
   ]
  },
  {
   "cell_type": "code",
   "execution_count": 75,
   "id": "9a7a3ec8-24f2-4a19-a4a5-a299621a5437",
   "metadata": {},
   "outputs": [
    {
     "data": {
      "text/plain": [
       "['SectionC', 6.8, 'a', 'b', 'c', False, 'Hassan']"
      ]
     },
     "execution_count": 75,
     "metadata": {},
     "output_type": "execute_result"
    }
   ],
   "source": [
    "a"
   ]
  },
  {
   "cell_type": "code",
   "execution_count": 76,
   "id": "6882ed53-fb5b-44c6-bfb7-495ee8a25b5b",
   "metadata": {},
   "outputs": [],
   "source": [
    "x = [1,2,3,4]\n",
    "y = ['a', 'b', 'c']\n",
    "x.extend(y)"
   ]
  },
  {
   "cell_type": "code",
   "execution_count": 77,
   "id": "7bff2c64-2319-4219-8eda-10321fd2e789",
   "metadata": {},
   "outputs": [
    {
     "data": {
      "text/plain": [
       "[1, 2, 3, 4, 'a', 'b', 'c']"
      ]
     },
     "execution_count": 77,
     "metadata": {},
     "output_type": "execute_result"
    }
   ],
   "source": [
    "x"
   ]
  },
  {
   "cell_type": "code",
   "execution_count": 78,
   "id": "780f845d-9f19-4072-bb2d-f0d24accc760",
   "metadata": {},
   "outputs": [
    {
     "name": "stdout",
     "output_type": "stream",
     "text": [
      "<class 'list'>\n",
      "<class 'tuple'>\n"
     ]
    }
   ],
   "source": [
    "a = [1,2,3]\n",
    "b = ('a','b',True)\n",
    "print(type(a))\n",
    "print(type(b))"
   ]
  },
  {
   "cell_type": "code",
   "execution_count": 79,
   "id": "87016133-c856-4b2a-9a6b-f6a268dd9039",
   "metadata": {},
   "outputs": [
    {
     "name": "stdout",
     "output_type": "stream",
     "text": [
      "[1, 2, 3, 'a', 'b', True]\n",
      "<class 'list'>\n"
     ]
    }
   ],
   "source": [
    "a.extend(b)\n",
    "print(a)\n",
    "print(type(a))"
   ]
  },
  {
   "cell_type": "code",
   "execution_count": 80,
   "id": "a3b6fe24-f8a0-4697-a5f9-155d6f989d39",
   "metadata": {},
   "outputs": [
    {
     "data": {
      "text/plain": [
       "[1, 2, 3, 'a', 'b', True]"
      ]
     },
     "execution_count": 80,
     "metadata": {},
     "output_type": "execute_result"
    }
   ],
   "source": [
    "a"
   ]
  },
  {
   "cell_type": "code",
   "execution_count": 82,
   "id": "d0e7dd1d-08f9-4d09-8f36-cc53c8b22b07",
   "metadata": {},
   "outputs": [],
   "source": [
    "a.remove('a')"
   ]
  },
  {
   "cell_type": "code",
   "execution_count": 83,
   "id": "7b6ad71d-a649-41bd-9fae-2d27c8d26521",
   "metadata": {},
   "outputs": [
    {
     "data": {
      "text/plain": [
       "[1, 2, 3, 'b', True]"
      ]
     },
     "execution_count": 83,
     "metadata": {},
     "output_type": "execute_result"
    }
   ],
   "source": [
    "a"
   ]
  },
  {
   "cell_type": "code",
   "execution_count": 84,
   "id": "8f5d8b17-30ef-4467-8527-f56361262cda",
   "metadata": {},
   "outputs": [
    {
     "data": {
      "text/plain": [
       "True"
      ]
     },
     "execution_count": 84,
     "metadata": {},
     "output_type": "execute_result"
    }
   ],
   "source": [
    "a.pop(-1)"
   ]
  },
  {
   "cell_type": "code",
   "execution_count": 85,
   "id": "3e5ac9f6-885a-4164-be24-5627fc86fb23",
   "metadata": {},
   "outputs": [
    {
     "data": {
      "text/plain": [
       "[1, 2, 3, 'b']"
      ]
     },
     "execution_count": 85,
     "metadata": {},
     "output_type": "execute_result"
    }
   ],
   "source": [
    "a"
   ]
  },
  {
   "cell_type": "code",
   "execution_count": 86,
   "id": "efab987c-373c-4f46-99c1-ae3dec9eadb2",
   "metadata": {},
   "outputs": [],
   "source": [
    "deleted_item = a.pop(2)"
   ]
  },
  {
   "cell_type": "code",
   "execution_count": 88,
   "id": "a58f2974-a1fd-4c3e-bf92-fbe9ed17e364",
   "metadata": {},
   "outputs": [
    {
     "data": {
      "text/plain": [
       "[1, 2, 'b']"
      ]
     },
     "execution_count": 88,
     "metadata": {},
     "output_type": "execute_result"
    }
   ],
   "source": [
    "a"
   ]
  },
  {
   "cell_type": "code",
   "execution_count": 89,
   "id": "0cbf74a4-5d60-4d7f-8569-c5ed288c5db1",
   "metadata": {},
   "outputs": [
    {
     "data": {
      "text/plain": [
       "3"
      ]
     },
     "execution_count": 89,
     "metadata": {},
     "output_type": "execute_result"
    }
   ],
   "source": [
    "deleted_item"
   ]
  },
  {
   "cell_type": "code",
   "execution_count": 90,
   "id": "ba61f393-870b-4a5b-ac1f-c1807a2c6f80",
   "metadata": {},
   "outputs": [],
   "source": [
    "a.clear()"
   ]
  },
  {
   "cell_type": "code",
   "execution_count": 91,
   "id": "b149001f-f47b-475d-bd82-87c570111117",
   "metadata": {},
   "outputs": [
    {
     "data": {
      "text/plain": [
       "[]"
      ]
     },
     "execution_count": 91,
     "metadata": {},
     "output_type": "execute_result"
    }
   ],
   "source": [
    "a"
   ]
  },
  {
   "cell_type": "code",
   "execution_count": 93,
   "id": "c5943c91-2c40-41de-aa9f-a2dcd1da04db",
   "metadata": {},
   "outputs": [],
   "source": [
    "a = [21,43,646,83.5]"
   ]
  },
  {
   "cell_type": "code",
   "execution_count": 94,
   "id": "2b62522a-2c21-4bba-8848-2708bd5e1f5d",
   "metadata": {},
   "outputs": [
    {
     "data": {
      "text/plain": [
       "[21, 43, 646, 83.5]"
      ]
     },
     "execution_count": 94,
     "metadata": {},
     "output_type": "execute_result"
    }
   ],
   "source": [
    "a"
   ]
  },
  {
   "cell_type": "code",
   "execution_count": 95,
   "id": "4bab00ec-c6da-4fb8-b279-f529f0b4481c",
   "metadata": {},
   "outputs": [],
   "source": [
    "a.sort()"
   ]
  },
  {
   "cell_type": "code",
   "execution_count": 96,
   "id": "0cbc2154-340e-4c3a-8590-f34ce7577db0",
   "metadata": {},
   "outputs": [
    {
     "data": {
      "text/plain": [
       "[21, 43, 83.5, 646]"
      ]
     },
     "execution_count": 96,
     "metadata": {},
     "output_type": "execute_result"
    }
   ],
   "source": [
    "a"
   ]
  },
  {
   "cell_type": "code",
   "execution_count": 97,
   "id": "7c4883b0-8831-4fae-bce4-82e19521c6c0",
   "metadata": {},
   "outputs": [],
   "source": [
    "a.sort(reverse = True)"
   ]
  },
  {
   "cell_type": "code",
   "execution_count": 98,
   "id": "3dfaf2a8-b12b-46ca-9ef9-3cfde161966c",
   "metadata": {},
   "outputs": [
    {
     "data": {
      "text/plain": [
       "[646, 83.5, 43, 21]"
      ]
     },
     "execution_count": 98,
     "metadata": {},
     "output_type": "execute_result"
    }
   ],
   "source": [
    "a"
   ]
  },
  {
   "cell_type": "code",
   "execution_count": 99,
   "id": "2e13e9a6-0f68-4bae-ab17-b92098305b73",
   "metadata": {},
   "outputs": [
    {
     "ename": "TypeError",
     "evalue": "'<' not supported between instances of 'str' and 'int'",
     "output_type": "error",
     "traceback": [
      "\u001b[1;31m---------------------------------------------------------------------------\u001b[0m",
      "\u001b[1;31mTypeError\u001b[0m                                 Traceback (most recent call last)",
      "Cell \u001b[1;32mIn[99], line 2\u001b[0m\n\u001b[0;32m      1\u001b[0m b \u001b[38;5;241m=\u001b[39m [\u001b[38;5;241m1\u001b[39m,\u001b[38;5;241m2\u001b[39m,\u001b[38;5;241m3\u001b[39m,\u001b[38;5;124m'\u001b[39m\u001b[38;5;124ma\u001b[39m\u001b[38;5;124m'\u001b[39m,\u001b[38;5;124m'\u001b[39m\u001b[38;5;124mB\u001b[39m\u001b[38;5;124m'\u001b[39m]\n\u001b[1;32m----> 2\u001b[0m b\u001b[38;5;241m.\u001b[39msort()\n\u001b[0;32m      3\u001b[0m b\n",
      "\u001b[1;31mTypeError\u001b[0m: '<' not supported between instances of 'str' and 'int'"
     ]
    }
   ],
   "source": [
    "b = [1,2,3,'a','B']\n",
    "b.sort()\n",
    "b"
   ]
  },
  {
   "cell_type": "code",
   "execution_count": 100,
   "id": "6b07f5cb-e83a-4057-a22a-97a5d4944ed6",
   "metadata": {},
   "outputs": [
    {
     "data": {
      "text/plain": [
       "['B', 'a']"
      ]
     },
     "execution_count": 100,
     "metadata": {},
     "output_type": "execute_result"
    }
   ],
   "source": [
    "b = ['a','B']\n",
    "b.sort()\n",
    "b"
   ]
  },
  {
   "cell_type": "code",
   "execution_count": 101,
   "id": "a07d1d1b-ef1d-4046-bba4-208b52bbb992",
   "metadata": {},
   "outputs": [
    {
     "data": {
      "text/plain": [
       "[646, 83.5, 43, 21]"
      ]
     },
     "execution_count": 101,
     "metadata": {},
     "output_type": "execute_result"
    }
   ],
   "source": [
    "a"
   ]
  },
  {
   "cell_type": "code",
   "execution_count": 102,
   "id": "b9d26629-805b-4187-b4ea-e3ff65aa864b",
   "metadata": {},
   "outputs": [],
   "source": [
    "a.reverse()"
   ]
  },
  {
   "cell_type": "code",
   "execution_count": 103,
   "id": "b95a5f4b-9cae-4e15-aa08-69d687edbc6c",
   "metadata": {},
   "outputs": [
    {
     "data": {
      "text/plain": [
       "[21, 43, 83.5, 646]"
      ]
     },
     "execution_count": 103,
     "metadata": {},
     "output_type": "execute_result"
    }
   ],
   "source": [
    "a"
   ]
  },
  {
   "cell_type": "code",
   "execution_count": 104,
   "id": "e73c33f5-6133-461c-bf81-258789931510",
   "metadata": {},
   "outputs": [],
   "source": [
    "new = a.copy()"
   ]
  },
  {
   "cell_type": "code",
   "execution_count": 105,
   "id": "567d7da6-7f51-42f4-b72e-a961b5ff9962",
   "metadata": {},
   "outputs": [
    {
     "data": {
      "text/plain": [
       "[21, 43, 83.5, 646]"
      ]
     },
     "execution_count": 105,
     "metadata": {},
     "output_type": "execute_result"
    }
   ],
   "source": [
    "new"
   ]
  },
  {
   "cell_type": "code",
   "execution_count": 106,
   "id": "ced1474c-ec77-4075-a327-a3ac0da9c297",
   "metadata": {},
   "outputs": [
    {
     "data": {
      "text/plain": [
       "[21, 43, 83.5, 646]"
      ]
     },
     "execution_count": 106,
     "metadata": {},
     "output_type": "execute_result"
    }
   ],
   "source": [
    "a"
   ]
  },
  {
   "cell_type": "code",
   "execution_count": 107,
   "id": "46d5466d-9cda-4ca4-95c5-e1071f9ca9d1",
   "metadata": {},
   "outputs": [
    {
     "data": {
      "text/plain": [
       "[21, 43, 83.5, 646]"
      ]
     },
     "execution_count": 107,
     "metadata": {},
     "output_type": "execute_result"
    }
   ],
   "source": [
    "new"
   ]
  },
  {
   "cell_type": "code",
   "execution_count": 108,
   "id": "c84186ca-ef4f-4d6e-8841-7b18eeac2e4c",
   "metadata": {},
   "outputs": [],
   "source": [
    "b = ['ab','section']"
   ]
  },
  {
   "cell_type": "code",
   "execution_count": 109,
   "id": "d1785f43-bba2-45b8-9a56-3af83df14c98",
   "metadata": {},
   "outputs": [
    {
     "data": {
      "text/plain": [
       "[21, 43, 83.5, 646]"
      ]
     },
     "execution_count": 109,
     "metadata": {},
     "output_type": "execute_result"
    }
   ],
   "source": [
    "a"
   ]
  },
  {
   "cell_type": "code",
   "execution_count": 111,
   "id": "948cf123-8519-4ad0-8f6f-6db3229f5544",
   "metadata": {},
   "outputs": [],
   "source": [
    "z = a+b"
   ]
  },
  {
   "cell_type": "code",
   "execution_count": 112,
   "id": "417c9256-68c3-4fe3-ad8c-89fb9cfecd01",
   "metadata": {},
   "outputs": [
    {
     "data": {
      "text/plain": [
       "[21, 43, 83.5, 646, 'ab', 'section']"
      ]
     },
     "execution_count": 112,
     "metadata": {},
     "output_type": "execute_result"
    }
   ],
   "source": [
    "z"
   ]
  },
  {
   "cell_type": "code",
   "execution_count": 114,
   "id": "f62c7d36-0923-4f4a-b2d5-47f3ce1853a1",
   "metadata": {},
   "outputs": [
    {
     "data": {
      "text/plain": [
       "0"
      ]
     },
     "execution_count": 114,
     "metadata": {},
     "output_type": "execute_result"
    }
   ],
   "source": [
    "z.index(21)"
   ]
  },
  {
   "cell_type": "code",
   "execution_count": null,
   "id": "89045f3d-8c41-42a4-93ec-20351cd9fd61",
   "metadata": {},
   "outputs": [],
   "source": []
  }
 ],
 "metadata": {
  "kernelspec": {
   "display_name": "Python 3 (ipykernel)",
   "language": "python",
   "name": "python3"
  },
  "language_info": {
   "codemirror_mode": {
    "name": "ipython",
    "version": 3
   },
   "file_extension": ".py",
   "mimetype": "text/x-python",
   "name": "python",
   "nbconvert_exporter": "python",
   "pygments_lexer": "ipython3",
   "version": "3.11.7"
  }
 },
 "nbformat": 4,
 "nbformat_minor": 5
}
