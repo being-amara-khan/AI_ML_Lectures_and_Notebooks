{
 "cells": [
  {
   "cell_type": "code",
   "execution_count": 2,
   "id": "06a5501a-5cc4-4aa0-b580-5598a47adede",
   "metadata": {},
   "outputs": [
    {
     "name": "stdout",
     "output_type": "stream",
     "text": [
      "5\n"
     ]
    }
   ],
   "source": [
    "print(5)"
   ]
  },
  {
   "cell_type": "code",
   "execution_count": 5,
   "id": "6ffdc2b0-cbcb-44ef-8045-9bc3e7dc703f",
   "metadata": {},
   "outputs": [
    {
     "name": "stdout",
     "output_type": "stream",
     "text": [
      "5 6\n",
      "5+6\n"
     ]
    }
   ],
   "source": [
    "#sep\n",
    "x = 5\n",
    "y = 6\n",
    "print(x,y)\n",
    "print(x,y,sep = '+')"
   ]
  },
  {
   "cell_type": "code",
   "execution_count": 10,
   "id": "62567377-c5aa-45ee-8296-6c2478b196e0",
   "metadata": {},
   "outputs": [
    {
     "name": "stdout",
     "output_type": "stream",
     "text": [
      "5 6,7\n",
      "57\n"
     ]
    }
   ],
   "source": [
    "print(x,y,end=\",\")\n",
    "print(7)\n",
    "print(57)"
   ]
  },
  {
   "cell_type": "code",
   "execution_count": 8,
   "id": "22e6347b-0521-4883-80cf-3a399d4ce503",
   "metadata": {},
   "outputs": [
    {
     "name": "stdout",
     "output_type": "stream",
     "text": [
      "5 6 7\n"
     ]
    }
   ],
   "source": []
  },
  {
   "cell_type": "code",
   "execution_count": 13,
   "id": "e39e78fa-b198-4b57-b81e-b6a37990d8f2",
   "metadata": {},
   "outputs": [
    {
     "data": {
      "text/plain": [
       "int"
      ]
     },
     "execution_count": 13,
     "metadata": {},
     "output_type": "execute_result"
    }
   ],
   "source": [
    "x = 5\n",
    "type(x)"
   ]
  },
  {
   "cell_type": "code",
   "execution_count": 14,
   "id": "00ceb9d7-85eb-499a-a471-32aee5c9db6d",
   "metadata": {},
   "outputs": [
    {
     "data": {
      "text/plain": [
       "float"
      ]
     },
     "execution_count": 14,
     "metadata": {},
     "output_type": "execute_result"
    }
   ],
   "source": [
    "x = 5.4\n",
    "type(x)"
   ]
  },
  {
   "cell_type": "code",
   "execution_count": 15,
   "id": "94da50ff-f817-4ed8-97ea-badbca8514b3",
   "metadata": {},
   "outputs": [
    {
     "data": {
      "text/plain": [
       "str"
      ]
     },
     "execution_count": 15,
     "metadata": {},
     "output_type": "execute_result"
    }
   ],
   "source": [
    "x = '5'\n",
    "type(x)"
   ]
  },
  {
   "cell_type": "code",
   "execution_count": 16,
   "id": "8737514d-4a74-4690-a791-7aeaa3659c2c",
   "metadata": {},
   "outputs": [
    {
     "data": {
      "text/plain": [
       "bool"
      ]
     },
     "execution_count": 16,
     "metadata": {},
     "output_type": "execute_result"
    }
   ],
   "source": [
    "x = True\n",
    "type(x)"
   ]
  },
  {
   "cell_type": "code",
   "execution_count": 18,
   "id": "2fc26e49-0dca-4f95-ac8c-0d5d375b8fb5",
   "metadata": {},
   "outputs": [],
   "source": [
    "#string\n",
    "a = 'Awab'\n",
    "a = \"Awab\"\n",
    "a = \"\"\"Awab\n",
    "Aun\n",
    "Usama\"\"\""
   ]
  },
  {
   "cell_type": "code",
   "execution_count": 19,
   "id": "c8e92767-b557-4654-ab91-33e5172ecc6f",
   "metadata": {},
   "outputs": [
    {
     "name": "stdout",
     "output_type": "stream",
     "text": [
      "Awab\n",
      "Aun\n",
      "Usama\n"
     ]
    }
   ],
   "source": [
    "print(a)"
   ]
  },
  {
   "cell_type": "code",
   "execution_count": 22,
   "id": "c4609e59-9aa9-4e65-99bd-919d4cbe9980",
   "metadata": {},
   "outputs": [
    {
     "name": "stdout",
     "output_type": "stream",
     "text": [
      "c\n"
     ]
    }
   ],
   "source": [
    "b = \"ArtificialIntelligence\"\n",
    "print(b[6])"
   ]
  },
  {
   "cell_type": "code",
   "execution_count": 23,
   "id": "7bcb08ba-aa18-425e-8fc8-38087dd49752",
   "metadata": {},
   "outputs": [
    {
     "data": {
      "text/plain": [
       "['__add__',\n",
       " '__class__',\n",
       " '__contains__',\n",
       " '__delattr__',\n",
       " '__dir__',\n",
       " '__doc__',\n",
       " '__eq__',\n",
       " '__format__',\n",
       " '__ge__',\n",
       " '__getattribute__',\n",
       " '__getitem__',\n",
       " '__getnewargs__',\n",
       " '__getstate__',\n",
       " '__gt__',\n",
       " '__hash__',\n",
       " '__init__',\n",
       " '__init_subclass__',\n",
       " '__iter__',\n",
       " '__le__',\n",
       " '__len__',\n",
       " '__lt__',\n",
       " '__mod__',\n",
       " '__mul__',\n",
       " '__ne__',\n",
       " '__new__',\n",
       " '__reduce__',\n",
       " '__reduce_ex__',\n",
       " '__repr__',\n",
       " '__rmod__',\n",
       " '__rmul__',\n",
       " '__setattr__',\n",
       " '__sizeof__',\n",
       " '__str__',\n",
       " '__subclasshook__',\n",
       " 'capitalize',\n",
       " 'casefold',\n",
       " 'center',\n",
       " 'count',\n",
       " 'encode',\n",
       " 'endswith',\n",
       " 'expandtabs',\n",
       " 'find',\n",
       " 'format',\n",
       " 'format_map',\n",
       " 'index',\n",
       " 'isalnum',\n",
       " 'isalpha',\n",
       " 'isascii',\n",
       " 'isdecimal',\n",
       " 'isdigit',\n",
       " 'isidentifier',\n",
       " 'islower',\n",
       " 'isnumeric',\n",
       " 'isprintable',\n",
       " 'isspace',\n",
       " 'istitle',\n",
       " 'isupper',\n",
       " 'join',\n",
       " 'ljust',\n",
       " 'lower',\n",
       " 'lstrip',\n",
       " 'maketrans',\n",
       " 'partition',\n",
       " 'removeprefix',\n",
       " 'removesuffix',\n",
       " 'replace',\n",
       " 'rfind',\n",
       " 'rindex',\n",
       " 'rjust',\n",
       " 'rpartition',\n",
       " 'rsplit',\n",
       " 'rstrip',\n",
       " 'split',\n",
       " 'splitlines',\n",
       " 'startswith',\n",
       " 'strip',\n",
       " 'swapcase',\n",
       " 'title',\n",
       " 'translate',\n",
       " 'upper',\n",
       " 'zfill']"
      ]
     },
     "execution_count": 23,
     "metadata": {},
     "output_type": "execute_result"
    }
   ],
   "source": [
    "dir(b)"
   ]
  },
  {
   "cell_type": "code",
   "execution_count": 24,
   "id": "8d9f0c24-2b67-497e-98a7-853d0e862faa",
   "metadata": {},
   "outputs": [
    {
     "data": {
      "text/plain": [
       "'ArtifiialIntelligene'"
      ]
     },
     "execution_count": 24,
     "metadata": {},
     "output_type": "execute_result"
    }
   ],
   "source": [
    "b.replace(\"c\", \"\")"
   ]
  },
  {
   "cell_type": "code",
   "execution_count": 25,
   "id": "65e889a1-1c9f-4345-9b41-2e7ebcdec2ed",
   "metadata": {},
   "outputs": [
    {
     "name": "stdout",
     "output_type": "stream",
     "text": [
      "e\n"
     ]
    }
   ],
   "source": [
    "print(b[-1])"
   ]
  },
  {
   "cell_type": "code",
   "execution_count": 26,
   "id": "f1fe1a83-26b8-4eaf-a512-8454bf7153ee",
   "metadata": {},
   "outputs": [
    {
     "data": {
      "text/plain": [
       "'ArtificialIntelligence'"
      ]
     },
     "execution_count": 26,
     "metadata": {},
     "output_type": "execute_result"
    }
   ],
   "source": [
    "b"
   ]
  },
  {
   "cell_type": "code",
   "execution_count": 27,
   "id": "d8b0d669-45c0-44c3-a74b-0917c50e5e5d",
   "metadata": {},
   "outputs": [
    {
     "data": {
      "text/plain": [
       "'ifici'"
      ]
     },
     "execution_count": 27,
     "metadata": {},
     "output_type": "execute_result"
    }
   ],
   "source": [
    "b[3:8]"
   ]
  },
  {
   "cell_type": "code",
   "execution_count": 28,
   "id": "9e2bd868-5d72-4221-8e01-85fcc1705e21",
   "metadata": {},
   "outputs": [
    {
     "data": {
      "text/plain": [
       "'LearnPython'"
      ]
     },
     "execution_count": 28,
     "metadata": {},
     "output_type": "execute_result"
    }
   ],
   "source": [
    "text_1 = 'Learn'\n",
    "text_2 = 'Python'\n",
    "text_1 + text_2"
   ]
  },
  {
   "cell_type": "code",
   "execution_count": 29,
   "id": "dad02df3-e808-4031-aafb-d382d9d9adf4",
   "metadata": {},
   "outputs": [
    {
     "data": {
      "text/plain": [
       "'0b10011011'"
      ]
     },
     "execution_count": 29,
     "metadata": {},
     "output_type": "execute_result"
    }
   ],
   "source": [
    "bin(155)"
   ]
  },
  {
   "cell_type": "code",
   "execution_count": 30,
   "id": "650002c8-efc5-40d6-93b6-fe3a11f33837",
   "metadata": {},
   "outputs": [
    {
     "data": {
      "text/plain": [
       "'0o233'"
      ]
     },
     "execution_count": 30,
     "metadata": {},
     "output_type": "execute_result"
    }
   ],
   "source": [
    "oct(155)"
   ]
  },
  {
   "cell_type": "code",
   "execution_count": 31,
   "id": "c0b2c0d8-2526-4d6a-be57-b5d1ab6e0998",
   "metadata": {},
   "outputs": [
    {
     "data": {
      "text/plain": [
       "'0x9b'"
      ]
     },
     "execution_count": 31,
     "metadata": {},
     "output_type": "execute_result"
    }
   ],
   "source": [
    "hex(155)"
   ]
  },
  {
   "cell_type": "code",
   "execution_count": 32,
   "id": "2633fda4-8c54-43cf-8cde-9f82cb812338",
   "metadata": {},
   "outputs": [
    {
     "name": "stdout",
     "output_type": "stream",
     "text": [
      "Type of a:  <class 'int'>\n"
     ]
    }
   ],
   "source": [
    "a = 5\n",
    "print(\"Type of a: \", type(a))\n"
   ]
  },
  {
   "cell_type": "code",
   "execution_count": 33,
   "id": "3d831225-c757-431c-8f75-e8fa46cf7857",
   "metadata": {},
   "outputs": [
    {
     "name": "stdout",
     "output_type": "stream",
     "text": [
      "Type of a:  <class 'float'>\n"
     ]
    }
   ],
   "source": [
    "a = 5.5\n",
    "print(\"Type of a: \", type(a))\n"
   ]
  },
  {
   "cell_type": "code",
   "execution_count": 34,
   "id": "e56dbdcd-6dcb-4469-b40b-1494da708274",
   "metadata": {},
   "outputs": [
    {
     "name": "stdout",
     "output_type": "stream",
     "text": [
      "Type of a:  <class 'str'>\n"
     ]
    }
   ],
   "source": [
    "a = '5'\n",
    "print(\"Type of a: \", type(a))\n"
   ]
  },
  {
   "cell_type": "code",
   "execution_count": 35,
   "id": "37af5898-34d1-426c-86ca-0d35d722806f",
   "metadata": {},
   "outputs": [
    {
     "name": "stdout",
     "output_type": "stream",
     "text": [
      "Type of a:  <class 'bool'>\n"
     ]
    }
   ],
   "source": [
    "a = False\n",
    "print(\"Type of a: \", type(a))\n"
   ]
  },
  {
   "cell_type": "code",
   "execution_count": 36,
   "id": "6e955baa-816b-4dca-8973-1b6bea199ad5",
   "metadata": {},
   "outputs": [],
   "source": [
    "z = True"
   ]
  },
  {
   "cell_type": "code",
   "execution_count": 37,
   "id": "5f4efa72-204f-44c7-aeda-7f3538ff672c",
   "metadata": {},
   "outputs": [
    {
     "ename": "NameError",
     "evalue": "name 'true' is not defined",
     "output_type": "error",
     "traceback": [
      "\u001b[1;31m---------------------------------------------------------------------------\u001b[0m",
      "\u001b[1;31mNameError\u001b[0m                                 Traceback (most recent call last)",
      "Cell \u001b[1;32mIn[37], line 1\u001b[0m\n\u001b[1;32m----> 1\u001b[0m z \u001b[38;5;241m=\u001b[39m true\n",
      "\u001b[1;31mNameError\u001b[0m: name 'true' is not defined"
     ]
    }
   ],
   "source": [
    "z = true"
   ]
  },
  {
   "cell_type": "code",
   "execution_count": 38,
   "id": "8f729487-2e16-4826-8fc3-a2cb7d7f2d80",
   "metadata": {},
   "outputs": [
    {
     "name": "stdout",
     "output_type": "stream",
     "text": [
      "False\n"
     ]
    }
   ],
   "source": [
    "x = bool()\n",
    "print(x)"
   ]
  },
  {
   "cell_type": "code",
   "execution_count": 40,
   "id": "d0639960-36ee-4ad8-bca6-4beb90b935c8",
   "metadata": {},
   "outputs": [
    {
     "name": "stdout",
     "output_type": "stream",
     "text": [
      "True\n"
     ]
    }
   ],
   "source": [
    "x = bool(2)\n",
    "print(x)"
   ]
  },
  {
   "cell_type": "code",
   "execution_count": 43,
   "id": "010b9f21-0844-458c-8334-c705ab936d2e",
   "metadata": {},
   "outputs": [
    {
     "name": "stdout",
     "output_type": "stream",
     "text": [
      "5\n",
      "-1\n",
      "6\n",
      "0.6666666666666666\n",
      "2\n"
     ]
    }
   ],
   "source": [
    "x = 2\n",
    "y = 3\n",
    "print(x + y)\n",
    "print(x - y)\n",
    "print(x * y)\n",
    "print(x / y)\n",
    "print(x % y)"
   ]
  },
  {
   "cell_type": "code",
   "execution_count": 44,
   "id": "0f4f71f5-73bd-4a29-b5b4-d2682593c841",
   "metadata": {},
   "outputs": [],
   "source": [
    "x = [\"apple\", \"banana\"]\n",
    "y = [\"apple\", \"banana\"]\n",
    "z = x\n"
   ]
  },
  {
   "cell_type": "code",
   "execution_count": 45,
   "id": "fab5f2ff-0673-4071-b937-83a7e00f08ed",
   "metadata": {},
   "outputs": [
    {
     "name": "stdout",
     "output_type": "stream",
     "text": [
      "True\n"
     ]
    }
   ],
   "source": [
    "print(x is z)"
   ]
  },
  {
   "cell_type": "code",
   "execution_count": 46,
   "id": "50e9a030-8b8c-419b-81d6-4027057b7f44",
   "metadata": {},
   "outputs": [
    {
     "name": "stdout",
     "output_type": "stream",
     "text": [
      "False\n"
     ]
    }
   ],
   "source": [
    "print(x is y)"
   ]
  },
  {
   "cell_type": "code",
   "execution_count": 47,
   "id": "d922e8fd-9c13-4dae-81fa-3052896e0355",
   "metadata": {},
   "outputs": [
    {
     "name": "stdout",
     "output_type": "stream",
     "text": [
      "False\n"
     ]
    }
   ],
   "source": [
    "print(z is y)"
   ]
  },
  {
   "cell_type": "code",
   "execution_count": 49,
   "id": "bb375f3a-a808-4581-8501-897e35137919",
   "metadata": {},
   "outputs": [
    {
     "name": "stdout",
     "output_type": "stream",
     "text": [
      "False\n"
     ]
    }
   ],
   "source": [
    "x = [\"apple\", \"banana\"]\n",
    "\n",
    "print(\"pineapple\" not in x)\n"
   ]
  },
  {
   "cell_type": "code",
   "execution_count": null,
   "id": "846488ca-27fb-45cf-b797-428ec82932e3",
   "metadata": {},
   "outputs": [],
   "source": []
  }
 ],
 "metadata": {
  "kernelspec": {
   "display_name": "Python 3 (ipykernel)",
   "language": "python",
   "name": "python3"
  },
  "language_info": {
   "codemirror_mode": {
    "name": "ipython",
    "version": 3
   },
   "file_extension": ".py",
   "mimetype": "text/x-python",
   "name": "python",
   "nbconvert_exporter": "python",
   "pygments_lexer": "ipython3",
   "version": "3.11.7"
  }
 },
 "nbformat": 4,
 "nbformat_minor": 5
}
